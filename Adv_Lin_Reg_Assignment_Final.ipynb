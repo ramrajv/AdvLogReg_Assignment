{
  "nbformat": 4,
  "nbformat_minor": 0,
  "metadata": {
    "colab": {
      "name": "Adv_Lin_Reg_Assignment_Final.ipynb",
      "provenance": [],
      "collapsed_sections": [
        "cTe2BLi02gPB",
        "rWZBXxJRVGz-",
        "ZYnhl72mcVD-",
        "Zotkn_lE2vaA",
        "-edhrq7wvyWf",
        "msfQT5thlcwr",
        "g5Hchkjx05V2",
        "Y9Lh2_0J3J8T",
        "U9jFz7DZL3Gl",
        "GxjxkrZ-3l08",
        "hEfttgo66u7Z",
        "rG0SDV0NKM1z",
        "6KHlPujOKdDo",
        "NPxUJ9epM5r2",
        "vB9HHDKkM0ux",
        "Rrp0HyZsOz6I",
        "APaMiTEJPGMk",
        "SVZ2hmDnl_k7",
        "xJLIRh91nSdl",
        "izq8DyV5obLr",
        "CMUbU-E3tDJO"
      ],
      "toc_visible": true,
      "include_colab_link": true
    },
    "kernelspec": {
      "name": "python3",
      "display_name": "Python 3"
    },
    "language_info": {
      "name": "python"
    }
  },
  "cells": [
    {
      "cell_type": "markdown",
      "metadata": {
        "id": "view-in-github",
        "colab_type": "text"
      },
      "source": [
        "<a href=\"https://colab.research.google.com/github/ramrajv/Advanced_Linear_Regression_Assignment/blob/main/Adv_Lin_Reg_Assignment_Final.ipynb\" target=\"_parent\"><img src=\"https://colab.research.google.com/assets/colab-badge.svg\" alt=\"Open In Colab\"/></a>"
      ]
    },
    {
      "cell_type": "markdown",
      "source": [
        "# Case Study\n",
        "1. US based Surprise Housing wants to predict actual value of prospective properties to decide whether to invest in them.\n",
        "2. The company wants to know: -\n",
        "\n",
        "  >a. Which variables are significant.\n",
        "\n",
        "  >b. How well those variables describe the price."
      ],
      "metadata": {
        "id": "kCf_hxGj1FuJ"
      }
    },
    {
      "cell_type": "markdown",
      "source": [
        "# Exploratory Data Analysis"
      ],
      "metadata": {
        "id": "-iVrIruw2c3S"
      }
    },
    {
      "cell_type": "markdown",
      "source": [
        "## Import Libraries and read data"
      ],
      "metadata": {
        "id": "cTe2BLi02gPB"
      }
    },
    {
      "cell_type": "code",
      "execution_count": 1,
      "metadata": {
        "id": "KsREL9ftlDbk"
      },
      "outputs": [],
      "source": [
        "import pandas as pd\n",
        "import numpy as np\n",
        "import seaborn as sns\n",
        "sns.set()\n",
        "import matplotlib.pyplot as plt\n",
        "import matplotlib\n",
        "%matplotlib inline"
      ]
    },
    {
      "cell_type": "code",
      "source": [
        "url = 'https://raw.githubusercontent.com/ramrajv/AdvLogReg_Assignment/main/train.csv'\n",
        "df = pd.read_csv(url)"
      ],
      "metadata": {
        "id": "cJw97tzKlW8c"
      },
      "execution_count": 2,
      "outputs": []
    },
    {
      "cell_type": "code",
      "source": [
        "df.describe().T"
      ],
      "metadata": {
        "colab": {
          "base_uri": "https://localhost:8080/",
          "height": 0
        },
        "id": "jAkBgNQjlbkl",
        "outputId": "5be1c186-2da0-493d-b1d0-b9b13e3dc968"
      },
      "execution_count": 3,
      "outputs": [
        {
          "output_type": "execute_result",
          "data": {
            "text/html": [
              "\n",
              "  <div id=\"df-e3c90c62-84e1-4ece-8a6b-1b767b8eaa8b\">\n",
              "    <div class=\"colab-df-container\">\n",
              "      <div>\n",
              "<style scoped>\n",
              "    .dataframe tbody tr th:only-of-type {\n",
              "        vertical-align: middle;\n",
              "    }\n",
              "\n",
              "    .dataframe tbody tr th {\n",
              "        vertical-align: top;\n",
              "    }\n",
              "\n",
              "    .dataframe thead th {\n",
              "        text-align: right;\n",
              "    }\n",
              "</style>\n",
              "<table border=\"1\" class=\"dataframe\">\n",
              "  <thead>\n",
              "    <tr style=\"text-align: right;\">\n",
              "      <th></th>\n",
              "      <th>count</th>\n",
              "      <th>mean</th>\n",
              "      <th>std</th>\n",
              "      <th>min</th>\n",
              "      <th>25%</th>\n",
              "      <th>50%</th>\n",
              "      <th>75%</th>\n",
              "      <th>max</th>\n",
              "    </tr>\n",
              "  </thead>\n",
              "  <tbody>\n",
              "    <tr>\n",
              "      <th>Id</th>\n",
              "      <td>1460.0</td>\n",
              "      <td>730.500000</td>\n",
              "      <td>421.610009</td>\n",
              "      <td>1.0</td>\n",
              "      <td>365.75</td>\n",
              "      <td>730.5</td>\n",
              "      <td>1095.25</td>\n",
              "      <td>1460.0</td>\n",
              "    </tr>\n",
              "    <tr>\n",
              "      <th>MSSubClass</th>\n",
              "      <td>1460.0</td>\n",
              "      <td>56.897260</td>\n",
              "      <td>42.300571</td>\n",
              "      <td>20.0</td>\n",
              "      <td>20.00</td>\n",
              "      <td>50.0</td>\n",
              "      <td>70.00</td>\n",
              "      <td>190.0</td>\n",
              "    </tr>\n",
              "    <tr>\n",
              "      <th>LotFrontage</th>\n",
              "      <td>1201.0</td>\n",
              "      <td>70.049958</td>\n",
              "      <td>24.284752</td>\n",
              "      <td>21.0</td>\n",
              "      <td>59.00</td>\n",
              "      <td>69.0</td>\n",
              "      <td>80.00</td>\n",
              "      <td>313.0</td>\n",
              "    </tr>\n",
              "    <tr>\n",
              "      <th>LotArea</th>\n",
              "      <td>1460.0</td>\n",
              "      <td>10516.828082</td>\n",
              "      <td>9981.264932</td>\n",
              "      <td>1300.0</td>\n",
              "      <td>7553.50</td>\n",
              "      <td>9478.5</td>\n",
              "      <td>11601.50</td>\n",
              "      <td>215245.0</td>\n",
              "    </tr>\n",
              "    <tr>\n",
              "      <th>OverallQual</th>\n",
              "      <td>1460.0</td>\n",
              "      <td>6.099315</td>\n",
              "      <td>1.382997</td>\n",
              "      <td>1.0</td>\n",
              "      <td>5.00</td>\n",
              "      <td>6.0</td>\n",
              "      <td>7.00</td>\n",
              "      <td>10.0</td>\n",
              "    </tr>\n",
              "    <tr>\n",
              "      <th>OverallCond</th>\n",
              "      <td>1460.0</td>\n",
              "      <td>5.575342</td>\n",
              "      <td>1.112799</td>\n",
              "      <td>1.0</td>\n",
              "      <td>5.00</td>\n",
              "      <td>5.0</td>\n",
              "      <td>6.00</td>\n",
              "      <td>9.0</td>\n",
              "    </tr>\n",
              "    <tr>\n",
              "      <th>YearBuilt</th>\n",
              "      <td>1460.0</td>\n",
              "      <td>1971.267808</td>\n",
              "      <td>30.202904</td>\n",
              "      <td>1872.0</td>\n",
              "      <td>1954.00</td>\n",
              "      <td>1973.0</td>\n",
              "      <td>2000.00</td>\n",
              "      <td>2010.0</td>\n",
              "    </tr>\n",
              "    <tr>\n",
              "      <th>YearRemodAdd</th>\n",
              "      <td>1460.0</td>\n",
              "      <td>1984.865753</td>\n",
              "      <td>20.645407</td>\n",
              "      <td>1950.0</td>\n",
              "      <td>1967.00</td>\n",
              "      <td>1994.0</td>\n",
              "      <td>2004.00</td>\n",
              "      <td>2010.0</td>\n",
              "    </tr>\n",
              "    <tr>\n",
              "      <th>MasVnrArea</th>\n",
              "      <td>1452.0</td>\n",
              "      <td>103.685262</td>\n",
              "      <td>181.066207</td>\n",
              "      <td>0.0</td>\n",
              "      <td>0.00</td>\n",
              "      <td>0.0</td>\n",
              "      <td>166.00</td>\n",
              "      <td>1600.0</td>\n",
              "    </tr>\n",
              "    <tr>\n",
              "      <th>BsmtFinSF1</th>\n",
              "      <td>1460.0</td>\n",
              "      <td>443.639726</td>\n",
              "      <td>456.098091</td>\n",
              "      <td>0.0</td>\n",
              "      <td>0.00</td>\n",
              "      <td>383.5</td>\n",
              "      <td>712.25</td>\n",
              "      <td>5644.0</td>\n",
              "    </tr>\n",
              "    <tr>\n",
              "      <th>BsmtFinSF2</th>\n",
              "      <td>1460.0</td>\n",
              "      <td>46.549315</td>\n",
              "      <td>161.319273</td>\n",
              "      <td>0.0</td>\n",
              "      <td>0.00</td>\n",
              "      <td>0.0</td>\n",
              "      <td>0.00</td>\n",
              "      <td>1474.0</td>\n",
              "    </tr>\n",
              "    <tr>\n",
              "      <th>BsmtUnfSF</th>\n",
              "      <td>1460.0</td>\n",
              "      <td>567.240411</td>\n",
              "      <td>441.866955</td>\n",
              "      <td>0.0</td>\n",
              "      <td>223.00</td>\n",
              "      <td>477.5</td>\n",
              "      <td>808.00</td>\n",
              "      <td>2336.0</td>\n",
              "    </tr>\n",
              "    <tr>\n",
              "      <th>TotalBsmtSF</th>\n",
              "      <td>1460.0</td>\n",
              "      <td>1057.429452</td>\n",
              "      <td>438.705324</td>\n",
              "      <td>0.0</td>\n",
              "      <td>795.75</td>\n",
              "      <td>991.5</td>\n",
              "      <td>1298.25</td>\n",
              "      <td>6110.0</td>\n",
              "    </tr>\n",
              "    <tr>\n",
              "      <th>1stFlrSF</th>\n",
              "      <td>1460.0</td>\n",
              "      <td>1162.626712</td>\n",
              "      <td>386.587738</td>\n",
              "      <td>334.0</td>\n",
              "      <td>882.00</td>\n",
              "      <td>1087.0</td>\n",
              "      <td>1391.25</td>\n",
              "      <td>4692.0</td>\n",
              "    </tr>\n",
              "    <tr>\n",
              "      <th>2ndFlrSF</th>\n",
              "      <td>1460.0</td>\n",
              "      <td>346.992466</td>\n",
              "      <td>436.528436</td>\n",
              "      <td>0.0</td>\n",
              "      <td>0.00</td>\n",
              "      <td>0.0</td>\n",
              "      <td>728.00</td>\n",
              "      <td>2065.0</td>\n",
              "    </tr>\n",
              "    <tr>\n",
              "      <th>LowQualFinSF</th>\n",
              "      <td>1460.0</td>\n",
              "      <td>5.844521</td>\n",
              "      <td>48.623081</td>\n",
              "      <td>0.0</td>\n",
              "      <td>0.00</td>\n",
              "      <td>0.0</td>\n",
              "      <td>0.00</td>\n",
              "      <td>572.0</td>\n",
              "    </tr>\n",
              "    <tr>\n",
              "      <th>GrLivArea</th>\n",
              "      <td>1460.0</td>\n",
              "      <td>1515.463699</td>\n",
              "      <td>525.480383</td>\n",
              "      <td>334.0</td>\n",
              "      <td>1129.50</td>\n",
              "      <td>1464.0</td>\n",
              "      <td>1776.75</td>\n",
              "      <td>5642.0</td>\n",
              "    </tr>\n",
              "    <tr>\n",
              "      <th>BsmtFullBath</th>\n",
              "      <td>1460.0</td>\n",
              "      <td>0.425342</td>\n",
              "      <td>0.518911</td>\n",
              "      <td>0.0</td>\n",
              "      <td>0.00</td>\n",
              "      <td>0.0</td>\n",
              "      <td>1.00</td>\n",
              "      <td>3.0</td>\n",
              "    </tr>\n",
              "    <tr>\n",
              "      <th>BsmtHalfBath</th>\n",
              "      <td>1460.0</td>\n",
              "      <td>0.057534</td>\n",
              "      <td>0.238753</td>\n",
              "      <td>0.0</td>\n",
              "      <td>0.00</td>\n",
              "      <td>0.0</td>\n",
              "      <td>0.00</td>\n",
              "      <td>2.0</td>\n",
              "    </tr>\n",
              "    <tr>\n",
              "      <th>FullBath</th>\n",
              "      <td>1460.0</td>\n",
              "      <td>1.565068</td>\n",
              "      <td>0.550916</td>\n",
              "      <td>0.0</td>\n",
              "      <td>1.00</td>\n",
              "      <td>2.0</td>\n",
              "      <td>2.00</td>\n",
              "      <td>3.0</td>\n",
              "    </tr>\n",
              "    <tr>\n",
              "      <th>HalfBath</th>\n",
              "      <td>1460.0</td>\n",
              "      <td>0.382877</td>\n",
              "      <td>0.502885</td>\n",
              "      <td>0.0</td>\n",
              "      <td>0.00</td>\n",
              "      <td>0.0</td>\n",
              "      <td>1.00</td>\n",
              "      <td>2.0</td>\n",
              "    </tr>\n",
              "    <tr>\n",
              "      <th>BedroomAbvGr</th>\n",
              "      <td>1460.0</td>\n",
              "      <td>2.866438</td>\n",
              "      <td>0.815778</td>\n",
              "      <td>0.0</td>\n",
              "      <td>2.00</td>\n",
              "      <td>3.0</td>\n",
              "      <td>3.00</td>\n",
              "      <td>8.0</td>\n",
              "    </tr>\n",
              "    <tr>\n",
              "      <th>KitchenAbvGr</th>\n",
              "      <td>1460.0</td>\n",
              "      <td>1.046575</td>\n",
              "      <td>0.220338</td>\n",
              "      <td>0.0</td>\n",
              "      <td>1.00</td>\n",
              "      <td>1.0</td>\n",
              "      <td>1.00</td>\n",
              "      <td>3.0</td>\n",
              "    </tr>\n",
              "    <tr>\n",
              "      <th>TotRmsAbvGrd</th>\n",
              "      <td>1460.0</td>\n",
              "      <td>6.517808</td>\n",
              "      <td>1.625393</td>\n",
              "      <td>2.0</td>\n",
              "      <td>5.00</td>\n",
              "      <td>6.0</td>\n",
              "      <td>7.00</td>\n",
              "      <td>14.0</td>\n",
              "    </tr>\n",
              "    <tr>\n",
              "      <th>Fireplaces</th>\n",
              "      <td>1460.0</td>\n",
              "      <td>0.613014</td>\n",
              "      <td>0.644666</td>\n",
              "      <td>0.0</td>\n",
              "      <td>0.00</td>\n",
              "      <td>1.0</td>\n",
              "      <td>1.00</td>\n",
              "      <td>3.0</td>\n",
              "    </tr>\n",
              "    <tr>\n",
              "      <th>GarageYrBlt</th>\n",
              "      <td>1379.0</td>\n",
              "      <td>1978.506164</td>\n",
              "      <td>24.689725</td>\n",
              "      <td>1900.0</td>\n",
              "      <td>1961.00</td>\n",
              "      <td>1980.0</td>\n",
              "      <td>2002.00</td>\n",
              "      <td>2010.0</td>\n",
              "    </tr>\n",
              "    <tr>\n",
              "      <th>GarageCars</th>\n",
              "      <td>1460.0</td>\n",
              "      <td>1.767123</td>\n",
              "      <td>0.747315</td>\n",
              "      <td>0.0</td>\n",
              "      <td>1.00</td>\n",
              "      <td>2.0</td>\n",
              "      <td>2.00</td>\n",
              "      <td>4.0</td>\n",
              "    </tr>\n",
              "    <tr>\n",
              "      <th>GarageArea</th>\n",
              "      <td>1460.0</td>\n",
              "      <td>472.980137</td>\n",
              "      <td>213.804841</td>\n",
              "      <td>0.0</td>\n",
              "      <td>334.50</td>\n",
              "      <td>480.0</td>\n",
              "      <td>576.00</td>\n",
              "      <td>1418.0</td>\n",
              "    </tr>\n",
              "    <tr>\n",
              "      <th>WoodDeckSF</th>\n",
              "      <td>1460.0</td>\n",
              "      <td>94.244521</td>\n",
              "      <td>125.338794</td>\n",
              "      <td>0.0</td>\n",
              "      <td>0.00</td>\n",
              "      <td>0.0</td>\n",
              "      <td>168.00</td>\n",
              "      <td>857.0</td>\n",
              "    </tr>\n",
              "    <tr>\n",
              "      <th>OpenPorchSF</th>\n",
              "      <td>1460.0</td>\n",
              "      <td>46.660274</td>\n",
              "      <td>66.256028</td>\n",
              "      <td>0.0</td>\n",
              "      <td>0.00</td>\n",
              "      <td>25.0</td>\n",
              "      <td>68.00</td>\n",
              "      <td>547.0</td>\n",
              "    </tr>\n",
              "    <tr>\n",
              "      <th>EnclosedPorch</th>\n",
              "      <td>1460.0</td>\n",
              "      <td>21.954110</td>\n",
              "      <td>61.119149</td>\n",
              "      <td>0.0</td>\n",
              "      <td>0.00</td>\n",
              "      <td>0.0</td>\n",
              "      <td>0.00</td>\n",
              "      <td>552.0</td>\n",
              "    </tr>\n",
              "    <tr>\n",
              "      <th>3SsnPorch</th>\n",
              "      <td>1460.0</td>\n",
              "      <td>3.409589</td>\n",
              "      <td>29.317331</td>\n",
              "      <td>0.0</td>\n",
              "      <td>0.00</td>\n",
              "      <td>0.0</td>\n",
              "      <td>0.00</td>\n",
              "      <td>508.0</td>\n",
              "    </tr>\n",
              "    <tr>\n",
              "      <th>ScreenPorch</th>\n",
              "      <td>1460.0</td>\n",
              "      <td>15.060959</td>\n",
              "      <td>55.757415</td>\n",
              "      <td>0.0</td>\n",
              "      <td>0.00</td>\n",
              "      <td>0.0</td>\n",
              "      <td>0.00</td>\n",
              "      <td>480.0</td>\n",
              "    </tr>\n",
              "    <tr>\n",
              "      <th>PoolArea</th>\n",
              "      <td>1460.0</td>\n",
              "      <td>2.758904</td>\n",
              "      <td>40.177307</td>\n",
              "      <td>0.0</td>\n",
              "      <td>0.00</td>\n",
              "      <td>0.0</td>\n",
              "      <td>0.00</td>\n",
              "      <td>738.0</td>\n",
              "    </tr>\n",
              "    <tr>\n",
              "      <th>MiscVal</th>\n",
              "      <td>1460.0</td>\n",
              "      <td>43.489041</td>\n",
              "      <td>496.123024</td>\n",
              "      <td>0.0</td>\n",
              "      <td>0.00</td>\n",
              "      <td>0.0</td>\n",
              "      <td>0.00</td>\n",
              "      <td>15500.0</td>\n",
              "    </tr>\n",
              "    <tr>\n",
              "      <th>MoSold</th>\n",
              "      <td>1460.0</td>\n",
              "      <td>6.321918</td>\n",
              "      <td>2.703626</td>\n",
              "      <td>1.0</td>\n",
              "      <td>5.00</td>\n",
              "      <td>6.0</td>\n",
              "      <td>8.00</td>\n",
              "      <td>12.0</td>\n",
              "    </tr>\n",
              "    <tr>\n",
              "      <th>YrSold</th>\n",
              "      <td>1460.0</td>\n",
              "      <td>2007.815753</td>\n",
              "      <td>1.328095</td>\n",
              "      <td>2006.0</td>\n",
              "      <td>2007.00</td>\n",
              "      <td>2008.0</td>\n",
              "      <td>2009.00</td>\n",
              "      <td>2010.0</td>\n",
              "    </tr>\n",
              "    <tr>\n",
              "      <th>SalePrice</th>\n",
              "      <td>1460.0</td>\n",
              "      <td>180921.195890</td>\n",
              "      <td>79442.502883</td>\n",
              "      <td>34900.0</td>\n",
              "      <td>129975.00</td>\n",
              "      <td>163000.0</td>\n",
              "      <td>214000.00</td>\n",
              "      <td>755000.0</td>\n",
              "    </tr>\n",
              "  </tbody>\n",
              "</table>\n",
              "</div>\n",
              "      <button class=\"colab-df-convert\" onclick=\"convertToInteractive('df-e3c90c62-84e1-4ece-8a6b-1b767b8eaa8b')\"\n",
              "              title=\"Convert this dataframe to an interactive table.\"\n",
              "              style=\"display:none;\">\n",
              "        \n",
              "  <svg xmlns=\"http://www.w3.org/2000/svg\" height=\"24px\"viewBox=\"0 0 24 24\"\n",
              "       width=\"24px\">\n",
              "    <path d=\"M0 0h24v24H0V0z\" fill=\"none\"/>\n",
              "    <path d=\"M18.56 5.44l.94 2.06.94-2.06 2.06-.94-2.06-.94-.94-2.06-.94 2.06-2.06.94zm-11 1L8.5 8.5l.94-2.06 2.06-.94-2.06-.94L8.5 2.5l-.94 2.06-2.06.94zm10 10l.94 2.06.94-2.06 2.06-.94-2.06-.94-.94-2.06-.94 2.06-2.06.94z\"/><path d=\"M17.41 7.96l-1.37-1.37c-.4-.4-.92-.59-1.43-.59-.52 0-1.04.2-1.43.59L10.3 9.45l-7.72 7.72c-.78.78-.78 2.05 0 2.83L4 21.41c.39.39.9.59 1.41.59.51 0 1.02-.2 1.41-.59l7.78-7.78 2.81-2.81c.8-.78.8-2.07 0-2.86zM5.41 20L4 18.59l7.72-7.72 1.47 1.35L5.41 20z\"/>\n",
              "  </svg>\n",
              "      </button>\n",
              "      \n",
              "  <style>\n",
              "    .colab-df-container {\n",
              "      display:flex;\n",
              "      flex-wrap:wrap;\n",
              "      gap: 12px;\n",
              "    }\n",
              "\n",
              "    .colab-df-convert {\n",
              "      background-color: #E8F0FE;\n",
              "      border: none;\n",
              "      border-radius: 50%;\n",
              "      cursor: pointer;\n",
              "      display: none;\n",
              "      fill: #1967D2;\n",
              "      height: 32px;\n",
              "      padding: 0 0 0 0;\n",
              "      width: 32px;\n",
              "    }\n",
              "\n",
              "    .colab-df-convert:hover {\n",
              "      background-color: #E2EBFA;\n",
              "      box-shadow: 0px 1px 2px rgba(60, 64, 67, 0.3), 0px 1px 3px 1px rgba(60, 64, 67, 0.15);\n",
              "      fill: #174EA6;\n",
              "    }\n",
              "\n",
              "    [theme=dark] .colab-df-convert {\n",
              "      background-color: #3B4455;\n",
              "      fill: #D2E3FC;\n",
              "    }\n",
              "\n",
              "    [theme=dark] .colab-df-convert:hover {\n",
              "      background-color: #434B5C;\n",
              "      box-shadow: 0px 1px 3px 1px rgba(0, 0, 0, 0.15);\n",
              "      filter: drop-shadow(0px 1px 2px rgba(0, 0, 0, 0.3));\n",
              "      fill: #FFFFFF;\n",
              "    }\n",
              "  </style>\n",
              "\n",
              "      <script>\n",
              "        const buttonEl =\n",
              "          document.querySelector('#df-e3c90c62-84e1-4ece-8a6b-1b767b8eaa8b button.colab-df-convert');\n",
              "        buttonEl.style.display =\n",
              "          google.colab.kernel.accessAllowed ? 'block' : 'none';\n",
              "\n",
              "        async function convertToInteractive(key) {\n",
              "          const element = document.querySelector('#df-e3c90c62-84e1-4ece-8a6b-1b767b8eaa8b');\n",
              "          const dataTable =\n",
              "            await google.colab.kernel.invokeFunction('convertToInteractive',\n",
              "                                                     [key], {});\n",
              "          if (!dataTable) return;\n",
              "\n",
              "          const docLinkHtml = 'Like what you see? Visit the ' +\n",
              "            '<a target=\"_blank\" href=https://colab.research.google.com/notebooks/data_table.ipynb>data table notebook</a>'\n",
              "            + ' to learn more about interactive tables.';\n",
              "          element.innerHTML = '';\n",
              "          dataTable['output_type'] = 'display_data';\n",
              "          await google.colab.output.renderOutput(dataTable, element);\n",
              "          const docLink = document.createElement('div');\n",
              "          docLink.innerHTML = docLinkHtml;\n",
              "          element.appendChild(docLink);\n",
              "        }\n",
              "      </script>\n",
              "    </div>\n",
              "  </div>\n",
              "  "
            ],
            "text/plain": [
              "                count           mean           std      min        25%  \\\n",
              "Id             1460.0     730.500000    421.610009      1.0     365.75   \n",
              "MSSubClass     1460.0      56.897260     42.300571     20.0      20.00   \n",
              "LotFrontage    1201.0      70.049958     24.284752     21.0      59.00   \n",
              "LotArea        1460.0   10516.828082   9981.264932   1300.0    7553.50   \n",
              "OverallQual    1460.0       6.099315      1.382997      1.0       5.00   \n",
              "OverallCond    1460.0       5.575342      1.112799      1.0       5.00   \n",
              "YearBuilt      1460.0    1971.267808     30.202904   1872.0    1954.00   \n",
              "YearRemodAdd   1460.0    1984.865753     20.645407   1950.0    1967.00   \n",
              "MasVnrArea     1452.0     103.685262    181.066207      0.0       0.00   \n",
              "BsmtFinSF1     1460.0     443.639726    456.098091      0.0       0.00   \n",
              "BsmtFinSF2     1460.0      46.549315    161.319273      0.0       0.00   \n",
              "BsmtUnfSF      1460.0     567.240411    441.866955      0.0     223.00   \n",
              "TotalBsmtSF    1460.0    1057.429452    438.705324      0.0     795.75   \n",
              "1stFlrSF       1460.0    1162.626712    386.587738    334.0     882.00   \n",
              "2ndFlrSF       1460.0     346.992466    436.528436      0.0       0.00   \n",
              "LowQualFinSF   1460.0       5.844521     48.623081      0.0       0.00   \n",
              "GrLivArea      1460.0    1515.463699    525.480383    334.0    1129.50   \n",
              "BsmtFullBath   1460.0       0.425342      0.518911      0.0       0.00   \n",
              "BsmtHalfBath   1460.0       0.057534      0.238753      0.0       0.00   \n",
              "FullBath       1460.0       1.565068      0.550916      0.0       1.00   \n",
              "HalfBath       1460.0       0.382877      0.502885      0.0       0.00   \n",
              "BedroomAbvGr   1460.0       2.866438      0.815778      0.0       2.00   \n",
              "KitchenAbvGr   1460.0       1.046575      0.220338      0.0       1.00   \n",
              "TotRmsAbvGrd   1460.0       6.517808      1.625393      2.0       5.00   \n",
              "Fireplaces     1460.0       0.613014      0.644666      0.0       0.00   \n",
              "GarageYrBlt    1379.0    1978.506164     24.689725   1900.0    1961.00   \n",
              "GarageCars     1460.0       1.767123      0.747315      0.0       1.00   \n",
              "GarageArea     1460.0     472.980137    213.804841      0.0     334.50   \n",
              "WoodDeckSF     1460.0      94.244521    125.338794      0.0       0.00   \n",
              "OpenPorchSF    1460.0      46.660274     66.256028      0.0       0.00   \n",
              "EnclosedPorch  1460.0      21.954110     61.119149      0.0       0.00   \n",
              "3SsnPorch      1460.0       3.409589     29.317331      0.0       0.00   \n",
              "ScreenPorch    1460.0      15.060959     55.757415      0.0       0.00   \n",
              "PoolArea       1460.0       2.758904     40.177307      0.0       0.00   \n",
              "MiscVal        1460.0      43.489041    496.123024      0.0       0.00   \n",
              "MoSold         1460.0       6.321918      2.703626      1.0       5.00   \n",
              "YrSold         1460.0    2007.815753      1.328095   2006.0    2007.00   \n",
              "SalePrice      1460.0  180921.195890  79442.502883  34900.0  129975.00   \n",
              "\n",
              "                    50%        75%       max  \n",
              "Id                730.5    1095.25    1460.0  \n",
              "MSSubClass         50.0      70.00     190.0  \n",
              "LotFrontage        69.0      80.00     313.0  \n",
              "LotArea          9478.5   11601.50  215245.0  \n",
              "OverallQual         6.0       7.00      10.0  \n",
              "OverallCond         5.0       6.00       9.0  \n",
              "YearBuilt        1973.0    2000.00    2010.0  \n",
              "YearRemodAdd     1994.0    2004.00    2010.0  \n",
              "MasVnrArea          0.0     166.00    1600.0  \n",
              "BsmtFinSF1        383.5     712.25    5644.0  \n",
              "BsmtFinSF2          0.0       0.00    1474.0  \n",
              "BsmtUnfSF         477.5     808.00    2336.0  \n",
              "TotalBsmtSF       991.5    1298.25    6110.0  \n",
              "1stFlrSF         1087.0    1391.25    4692.0  \n",
              "2ndFlrSF            0.0     728.00    2065.0  \n",
              "LowQualFinSF        0.0       0.00     572.0  \n",
              "GrLivArea        1464.0    1776.75    5642.0  \n",
              "BsmtFullBath        0.0       1.00       3.0  \n",
              "BsmtHalfBath        0.0       0.00       2.0  \n",
              "FullBath            2.0       2.00       3.0  \n",
              "HalfBath            0.0       1.00       2.0  \n",
              "BedroomAbvGr        3.0       3.00       8.0  \n",
              "KitchenAbvGr        1.0       1.00       3.0  \n",
              "TotRmsAbvGrd        6.0       7.00      14.0  \n",
              "Fireplaces          1.0       1.00       3.0  \n",
              "GarageYrBlt      1980.0    2002.00    2010.0  \n",
              "GarageCars          2.0       2.00       4.0  \n",
              "GarageArea        480.0     576.00    1418.0  \n",
              "WoodDeckSF          0.0     168.00     857.0  \n",
              "OpenPorchSF        25.0      68.00     547.0  \n",
              "EnclosedPorch       0.0       0.00     552.0  \n",
              "3SsnPorch           0.0       0.00     508.0  \n",
              "ScreenPorch         0.0       0.00     480.0  \n",
              "PoolArea            0.0       0.00     738.0  \n",
              "MiscVal             0.0       0.00   15500.0  \n",
              "MoSold              6.0       8.00      12.0  \n",
              "YrSold           2008.0    2009.00    2010.0  \n",
              "SalePrice      163000.0  214000.00  755000.0  "
            ]
          },
          "metadata": {},
          "execution_count": 3
        }
      ]
    },
    {
      "cell_type": "code",
      "source": [
        "df.info()"
      ],
      "metadata": {
        "colab": {
          "base_uri": "https://localhost:8080/"
        },
        "id": "WbgiEo49ldKN",
        "outputId": "8a564eb9-9603-4892-9ecd-d517a1af048e"
      },
      "execution_count": 4,
      "outputs": [
        {
          "output_type": "stream",
          "name": "stdout",
          "text": [
            "<class 'pandas.core.frame.DataFrame'>\n",
            "RangeIndex: 1460 entries, 0 to 1459\n",
            "Data columns (total 81 columns):\n",
            " #   Column         Non-Null Count  Dtype  \n",
            "---  ------         --------------  -----  \n",
            " 0   Id             1460 non-null   int64  \n",
            " 1   MSSubClass     1460 non-null   int64  \n",
            " 2   MSZoning       1460 non-null   object \n",
            " 3   LotFrontage    1201 non-null   float64\n",
            " 4   LotArea        1460 non-null   int64  \n",
            " 5   Street         1460 non-null   object \n",
            " 6   Alley          91 non-null     object \n",
            " 7   LotShape       1460 non-null   object \n",
            " 8   LandContour    1460 non-null   object \n",
            " 9   Utilities      1460 non-null   object \n",
            " 10  LotConfig      1460 non-null   object \n",
            " 11  LandSlope      1460 non-null   object \n",
            " 12  Neighborhood   1460 non-null   object \n",
            " 13  Condition1     1460 non-null   object \n",
            " 14  Condition2     1460 non-null   object \n",
            " 15  BldgType       1460 non-null   object \n",
            " 16  HouseStyle     1460 non-null   object \n",
            " 17  OverallQual    1460 non-null   int64  \n",
            " 18  OverallCond    1460 non-null   int64  \n",
            " 19  YearBuilt      1460 non-null   int64  \n",
            " 20  YearRemodAdd   1460 non-null   int64  \n",
            " 21  RoofStyle      1460 non-null   object \n",
            " 22  RoofMatl       1460 non-null   object \n",
            " 23  Exterior1st    1460 non-null   object \n",
            " 24  Exterior2nd    1460 non-null   object \n",
            " 25  MasVnrType     1452 non-null   object \n",
            " 26  MasVnrArea     1452 non-null   float64\n",
            " 27  ExterQual      1460 non-null   object \n",
            " 28  ExterCond      1460 non-null   object \n",
            " 29  Foundation     1460 non-null   object \n",
            " 30  BsmtQual       1423 non-null   object \n",
            " 31  BsmtCond       1423 non-null   object \n",
            " 32  BsmtExposure   1422 non-null   object \n",
            " 33  BsmtFinType1   1423 non-null   object \n",
            " 34  BsmtFinSF1     1460 non-null   int64  \n",
            " 35  BsmtFinType2   1422 non-null   object \n",
            " 36  BsmtFinSF2     1460 non-null   int64  \n",
            " 37  BsmtUnfSF      1460 non-null   int64  \n",
            " 38  TotalBsmtSF    1460 non-null   int64  \n",
            " 39  Heating        1460 non-null   object \n",
            " 40  HeatingQC      1460 non-null   object \n",
            " 41  CentralAir     1460 non-null   object \n",
            " 42  Electrical     1459 non-null   object \n",
            " 43  1stFlrSF       1460 non-null   int64  \n",
            " 44  2ndFlrSF       1460 non-null   int64  \n",
            " 45  LowQualFinSF   1460 non-null   int64  \n",
            " 46  GrLivArea      1460 non-null   int64  \n",
            " 47  BsmtFullBath   1460 non-null   int64  \n",
            " 48  BsmtHalfBath   1460 non-null   int64  \n",
            " 49  FullBath       1460 non-null   int64  \n",
            " 50  HalfBath       1460 non-null   int64  \n",
            " 51  BedroomAbvGr   1460 non-null   int64  \n",
            " 52  KitchenAbvGr   1460 non-null   int64  \n",
            " 53  KitchenQual    1460 non-null   object \n",
            " 54  TotRmsAbvGrd   1460 non-null   int64  \n",
            " 55  Functional     1460 non-null   object \n",
            " 56  Fireplaces     1460 non-null   int64  \n",
            " 57  FireplaceQu    770 non-null    object \n",
            " 58  GarageType     1379 non-null   object \n",
            " 59  GarageYrBlt    1379 non-null   float64\n",
            " 60  GarageFinish   1379 non-null   object \n",
            " 61  GarageCars     1460 non-null   int64  \n",
            " 62  GarageArea     1460 non-null   int64  \n",
            " 63  GarageQual     1379 non-null   object \n",
            " 64  GarageCond     1379 non-null   object \n",
            " 65  PavedDrive     1460 non-null   object \n",
            " 66  WoodDeckSF     1460 non-null   int64  \n",
            " 67  OpenPorchSF    1460 non-null   int64  \n",
            " 68  EnclosedPorch  1460 non-null   int64  \n",
            " 69  3SsnPorch      1460 non-null   int64  \n",
            " 70  ScreenPorch    1460 non-null   int64  \n",
            " 71  PoolArea       1460 non-null   int64  \n",
            " 72  PoolQC         7 non-null      object \n",
            " 73  Fence          281 non-null    object \n",
            " 74  MiscFeature    54 non-null     object \n",
            " 75  MiscVal        1460 non-null   int64  \n",
            " 76  MoSold         1460 non-null   int64  \n",
            " 77  YrSold         1460 non-null   int64  \n",
            " 78  SaleType       1460 non-null   object \n",
            " 79  SaleCondition  1460 non-null   object \n",
            " 80  SalePrice      1460 non-null   int64  \n",
            "dtypes: float64(3), int64(35), object(43)\n",
            "memory usage: 924.0+ KB\n"
          ]
        }
      ]
    },
    {
      "cell_type": "markdown",
      "source": [
        "## Null Value Treatment"
      ],
      "metadata": {
        "id": "rWZBXxJRVGz-"
      }
    },
    {
      "cell_type": "code",
      "source": [
        "# Get null values percentage\n",
        "\n",
        "null_counts = df.isna().sum()/df.shape[0]*100\n",
        "null_counts[null_counts>50]"
      ],
      "metadata": {
        "colab": {
          "base_uri": "https://localhost:8080/"
        },
        "id": "mFUhk4AhVJxi",
        "outputId": "7a78fb48-4459-4347-e994-d28b3eee3a96"
      },
      "execution_count": 5,
      "outputs": [
        {
          "output_type": "execute_result",
          "data": {
            "text/plain": [
              "Alley          93.767123\n",
              "PoolQC         99.520548\n",
              "Fence          80.753425\n",
              "MiscFeature    96.301370\n",
              "dtype: float64"
            ]
          },
          "metadata": {},
          "execution_count": 5
        }
      ]
    },
    {
      "cell_type": "code",
      "source": [
        "# Remove fields with null values more than 50%\n",
        "\n",
        "dropcols = null_counts[null_counts>50].index\n",
        "df.drop(dropcols, axis = 1, inplace = True)"
      ],
      "metadata": {
        "id": "YTiuEC2fV8_Q"
      },
      "execution_count": 6,
      "outputs": []
    },
    {
      "cell_type": "code",
      "source": [
        "# Get columns with null values\n",
        "\n",
        "null_counts = df.isna().sum()/df.shape[0]*100\n",
        "null_counts[null_counts>0]"
      ],
      "metadata": {
        "colab": {
          "base_uri": "https://localhost:8080/"
        },
        "id": "4VrZfHuzWTL0",
        "outputId": "585ffc3d-ea39-4135-80f9-670f40058ef1"
      },
      "execution_count": 7,
      "outputs": [
        {
          "output_type": "execute_result",
          "data": {
            "text/plain": [
              "LotFrontage     17.739726\n",
              "MasVnrType       0.547945\n",
              "MasVnrArea       0.547945\n",
              "BsmtQual         2.534247\n",
              "BsmtCond         2.534247\n",
              "BsmtExposure     2.602740\n",
              "BsmtFinType1     2.534247\n",
              "BsmtFinType2     2.602740\n",
              "Electrical       0.068493\n",
              "FireplaceQu     47.260274\n",
              "GarageType       5.547945\n",
              "GarageYrBlt      5.547945\n",
              "GarageFinish     5.547945\n",
              "GarageQual       5.547945\n",
              "GarageCond       5.547945\n",
              "dtype: float64"
            ]
          },
          "metadata": {},
          "execution_count": 7
        }
      ]
    },
    {
      "cell_type": "code",
      "source": [
        "nullcols = null_counts[null_counts>0].index.tolist()\n",
        "df[nullcols].info()"
      ],
      "metadata": {
        "colab": {
          "base_uri": "https://localhost:8080/"
        },
        "id": "nruLcZurxzuq",
        "outputId": "9d16b7ec-b3af-4fb2-8225-ead69f590f36"
      },
      "execution_count": 8,
      "outputs": [
        {
          "output_type": "stream",
          "name": "stdout",
          "text": [
            "<class 'pandas.core.frame.DataFrame'>\n",
            "RangeIndex: 1460 entries, 0 to 1459\n",
            "Data columns (total 15 columns):\n",
            " #   Column        Non-Null Count  Dtype  \n",
            "---  ------        --------------  -----  \n",
            " 0   LotFrontage   1201 non-null   float64\n",
            " 1   MasVnrType    1452 non-null   object \n",
            " 2   MasVnrArea    1452 non-null   float64\n",
            " 3   BsmtQual      1423 non-null   object \n",
            " 4   BsmtCond      1423 non-null   object \n",
            " 5   BsmtExposure  1422 non-null   object \n",
            " 6   BsmtFinType1  1423 non-null   object \n",
            " 7   BsmtFinType2  1422 non-null   object \n",
            " 8   Electrical    1459 non-null   object \n",
            " 9   FireplaceQu   770 non-null    object \n",
            " 10  GarageType    1379 non-null   object \n",
            " 11  GarageYrBlt   1379 non-null   float64\n",
            " 12  GarageFinish  1379 non-null   object \n",
            " 13  GarageQual    1379 non-null   object \n",
            " 14  GarageCond    1379 non-null   object \n",
            "dtypes: float64(3), object(12)\n",
            "memory usage: 171.2+ KB\n"
          ]
        }
      ]
    },
    {
      "cell_type": "code",
      "source": [
        "numcols = df[nullcols].columns[df[nullcols].dtypes!='O'].tolist()\n",
        "objcols = df[nullcols].columns[df[nullcols].dtypes=='O'].tolist()"
      ],
      "metadata": {
        "id": "MSjAkxAYyT-H"
      },
      "execution_count": 9,
      "outputs": []
    },
    {
      "cell_type": "code",
      "source": [
        "df[objcols]=df[objcols].fillna(df.mode().iloc[0])"
      ],
      "metadata": {
        "id": "y1yIwObO0I_l"
      },
      "execution_count": 10,
      "outputs": []
    },
    {
      "cell_type": "code",
      "source": [
        "df[numcols]=df[numcols].fillna(value = df[numcols].mean())"
      ],
      "metadata": {
        "id": "oDDvShrnBvVZ"
      },
      "execution_count": 11,
      "outputs": []
    },
    {
      "cell_type": "code",
      "source": [
        "nullcounts = df.isna().sum()/df.shape[0]*100\n",
        "nullcounts[nullcounts>0]"
      ],
      "metadata": {
        "colab": {
          "base_uri": "https://localhost:8080/"
        },
        "id": "H_qLB6KMCDsu",
        "outputId": "336cc757-fcd8-411b-eb94-3bcfdc84e129"
      },
      "execution_count": 12,
      "outputs": [
        {
          "output_type": "execute_result",
          "data": {
            "text/plain": [
              "Series([], dtype: float64)"
            ]
          },
          "metadata": {},
          "execution_count": 12
        }
      ]
    },
    {
      "cell_type": "markdown",
      "source": [
        "#### Check for types of variables.\n",
        "\n",
        "We will be checking each variable for its type. Some variables could be having numbers and actually represent categories. These need to be identified and changed to categorical variables."
      ],
      "metadata": {
        "id": "4cObxd5AXF3H"
      }
    },
    {
      "cell_type": "code",
      "source": [
        "# Get count of distinct values in numerical columns\n",
        "\n",
        "nobj = df.columns[df.dtypes!='O']\n",
        "df[nobj].nunique().sort_values()"
      ],
      "metadata": {
        "colab": {
          "base_uri": "https://localhost:8080/"
        },
        "id": "BW4k_zyMXYxh",
        "outputId": "0bea3517-de7c-457a-fe70-7943117278d4"
      },
      "execution_count": 13,
      "outputs": [
        {
          "output_type": "execute_result",
          "data": {
            "text/plain": [
              "BsmtHalfBath        3\n",
              "HalfBath            3\n",
              "FullBath            4\n",
              "BsmtFullBath        4\n",
              "Fireplaces          4\n",
              "KitchenAbvGr        4\n",
              "GarageCars          5\n",
              "YrSold              5\n",
              "BedroomAbvGr        8\n",
              "PoolArea            8\n",
              "OverallCond         9\n",
              "OverallQual        10\n",
              "TotRmsAbvGrd       12\n",
              "MoSold             12\n",
              "MSSubClass         15\n",
              "3SsnPorch          20\n",
              "MiscVal            21\n",
              "LowQualFinSF       24\n",
              "YearRemodAdd       61\n",
              "ScreenPorch        76\n",
              "GarageYrBlt        98\n",
              "LotFrontage       111\n",
              "YearBuilt         112\n",
              "EnclosedPorch     120\n",
              "BsmtFinSF2        144\n",
              "OpenPorchSF       202\n",
              "WoodDeckSF        274\n",
              "MasVnrArea        328\n",
              "2ndFlrSF          417\n",
              "GarageArea        441\n",
              "BsmtFinSF1        637\n",
              "SalePrice         663\n",
              "TotalBsmtSF       721\n",
              "1stFlrSF          753\n",
              "BsmtUnfSF         780\n",
              "GrLivArea         861\n",
              "LotArea          1073\n",
              "Id               1460\n",
              "dtype: int64"
            ]
          },
          "metadata": {},
          "execution_count": 13
        }
      ]
    },
    {
      "cell_type": "markdown",
      "source": [
        "Convert numerical categorical to object type"
      ],
      "metadata": {
        "id": "c5JCNPRZYhb_"
      }
    },
    {
      "cell_type": "code",
      "source": [
        "df['MSSubClass'].unique()"
      ],
      "metadata": {
        "colab": {
          "base_uri": "https://localhost:8080/"
        },
        "id": "ov3dPothZUzs",
        "outputId": "60d70b9c-5017-44e6-8cdd-20c4512ee559"
      },
      "execution_count": 14,
      "outputs": [
        {
          "output_type": "execute_result",
          "data": {
            "text/plain": [
              "array([ 60,  20,  70,  50, 190,  45,  90, 120,  30,  85,  80, 160,  75,\n",
              "       180,  40])"
            ]
          },
          "metadata": {},
          "execution_count": 14
        }
      ]
    },
    {
      "cell_type": "code",
      "source": [
        "df.loc[:,'MSSubClass'] = df['MSSubClass'].astype(str) + 'MSS'"
      ],
      "metadata": {
        "id": "_-chfKxsZpEG"
      },
      "execution_count": 15,
      "outputs": []
    },
    {
      "cell_type": "markdown",
      "source": [
        "## Date time treatment"
      ],
      "metadata": {
        "id": "ZYnhl72mcVD-"
      }
    },
    {
      "cell_type": "code",
      "source": [
        "df['MoSold'].unique()"
      ],
      "metadata": {
        "colab": {
          "base_uri": "https://localhost:8080/"
        },
        "id": "dn3dcE2Xcsw5",
        "outputId": "a2f74f14-c10e-4939-89c2-2029f00f315e"
      },
      "execution_count": 16,
      "outputs": [
        {
          "output_type": "execute_result",
          "data": {
            "text/plain": [
              "array([ 2,  5,  9, 12, 10,  8, 11,  4,  1,  7,  3,  6])"
            ]
          },
          "metadata": {},
          "execution_count": 16
        }
      ]
    },
    {
      "cell_type": "code",
      "source": [
        "df.loc[:,'MoSold'] = df['MoSold'].astype(str)\n",
        "df.loc[df['MoSold'].str.len()<2,'MoSold'] = '0' + df['MoSold']"
      ],
      "metadata": {
        "id": "GQDKPhdBc5Pd"
      },
      "execution_count": 17,
      "outputs": []
    },
    {
      "cell_type": "code",
      "source": [
        "df['MoSold']"
      ],
      "metadata": {
        "colab": {
          "base_uri": "https://localhost:8080/"
        },
        "id": "eU08w-eEdFhv",
        "outputId": "882d3c31-1465-47c4-891f-47c9627e4625"
      },
      "execution_count": 18,
      "outputs": [
        {
          "output_type": "execute_result",
          "data": {
            "text/plain": [
              "0       02\n",
              "1       05\n",
              "2       09\n",
              "3       02\n",
              "4       12\n",
              "        ..\n",
              "1455    08\n",
              "1456    02\n",
              "1457    05\n",
              "1458    04\n",
              "1459    06\n",
              "Name: MoSold, Length: 1460, dtype: object"
            ]
          },
          "metadata": {},
          "execution_count": 18
        }
      ]
    },
    {
      "cell_type": "code",
      "source": [
        "df.loc[:,'DateSold'] = pd.to_datetime('01-'+df['MoSold'] +'-'+ df['YrSold'].astype(str))"
      ],
      "metadata": {
        "id": "Tjp6ewGVeJSH"
      },
      "execution_count": 19,
      "outputs": []
    },
    {
      "cell_type": "code",
      "source": [
        "df['DateSold']"
      ],
      "metadata": {
        "colab": {
          "base_uri": "https://localhost:8080/"
        },
        "id": "SHm9mQVSeU_U",
        "outputId": "46ceb216-67c0-474f-a774-cd371775f631"
      },
      "execution_count": 20,
      "outputs": [
        {
          "output_type": "execute_result",
          "data": {
            "text/plain": [
              "0      2008-01-02\n",
              "1      2007-01-05\n",
              "2      2008-01-09\n",
              "3      2006-01-02\n",
              "4      2008-01-12\n",
              "          ...    \n",
              "1455   2007-01-08\n",
              "1456   2010-01-02\n",
              "1457   2010-01-05\n",
              "1458   2010-01-04\n",
              "1459   2008-01-06\n",
              "Name: DateSold, Length: 1460, dtype: datetime64[ns]"
            ]
          },
          "metadata": {},
          "execution_count": 20
        }
      ]
    },
    {
      "cell_type": "code",
      "source": [
        "df.drop(['MoSold','YrSold'], axis = 1, inplace = True)"
      ],
      "metadata": {
        "id": "nwBGpjSC6bqS"
      },
      "execution_count": 21,
      "outputs": []
    },
    {
      "cell_type": "markdown",
      "source": [
        "## Convert Variables"
      ],
      "metadata": {
        "id": "Zotkn_lE2vaA"
      }
    },
    {
      "cell_type": "code",
      "source": [
        "df['YearRemodAdd'].unique()"
      ],
      "metadata": {
        "colab": {
          "base_uri": "https://localhost:8080/"
        },
        "id": "u9vng7sdkmVQ",
        "outputId": "223d87f7-99bb-4f0d-c9a9-6dee34825f96"
      },
      "execution_count": 22,
      "outputs": [
        {
          "output_type": "execute_result",
          "data": {
            "text/plain": [
              "array([2003, 1976, 2002, 1970, 2000, 1995, 2005, 1973, 1950, 1965, 2006,\n",
              "       1962, 2007, 1960, 2001, 1967, 2004, 2008, 1997, 1959, 1990, 1955,\n",
              "       1983, 1980, 1966, 1963, 1987, 1964, 1972, 1996, 1998, 1989, 1953,\n",
              "       1956, 1968, 1981, 1992, 2009, 1982, 1961, 1993, 1999, 1985, 1979,\n",
              "       1977, 1969, 1958, 1991, 1971, 1952, 1975, 2010, 1984, 1986, 1994,\n",
              "       1988, 1954, 1957, 1951, 1978, 1974])"
            ]
          },
          "metadata": {},
          "execution_count": 22
        }
      ]
    },
    {
      "cell_type": "code",
      "source": [
        "df['YearRemodAdd'].max()"
      ],
      "metadata": {
        "colab": {
          "base_uri": "https://localhost:8080/"
        },
        "id": "QBiHnGhlkrSy",
        "outputId": "2e44c0de-93bb-48fb-c873-53c7f0ae0175"
      },
      "execution_count": 23,
      "outputs": [
        {
          "output_type": "execute_result",
          "data": {
            "text/plain": [
              "2010"
            ]
          },
          "metadata": {},
          "execution_count": 23
        }
      ]
    },
    {
      "cell_type": "code",
      "source": [
        "# Convert year remod to age\n",
        "\n",
        "df.loc[:,'YearRemodAdd'] = 2020 - df['YearRemodAdd']"
      ],
      "metadata": {
        "id": "g5RAuuH5kwOu"
      },
      "execution_count": 24,
      "outputs": []
    },
    {
      "cell_type": "code",
      "source": [
        "df['GarageYrBlt'].max()"
      ],
      "metadata": {
        "colab": {
          "base_uri": "https://localhost:8080/"
        },
        "id": "Xhd_cQN3k771",
        "outputId": "f491195f-1a41-4523-aa5f-227a95509c00"
      },
      "execution_count": 25,
      "outputs": [
        {
          "output_type": "execute_result",
          "data": {
            "text/plain": [
              "2010.0"
            ]
          },
          "metadata": {},
          "execution_count": 25
        }
      ]
    },
    {
      "cell_type": "code",
      "source": [
        "df.loc[:,'GarageYrBlt'] = 2020 - df['GarageYrBlt']"
      ],
      "metadata": {
        "id": "3sqvdIOXlDWn"
      },
      "execution_count": 26,
      "outputs": []
    },
    {
      "cell_type": "code",
      "source": [
        "df['YearBuilt'].max()"
      ],
      "metadata": {
        "colab": {
          "base_uri": "https://localhost:8080/"
        },
        "id": "rPhrT15elLRw",
        "outputId": "2eef718d-34c5-412d-f691-b81d353ec34d"
      },
      "execution_count": 27,
      "outputs": [
        {
          "output_type": "execute_result",
          "data": {
            "text/plain": [
              "2010"
            ]
          },
          "metadata": {},
          "execution_count": 27
        }
      ]
    },
    {
      "cell_type": "code",
      "source": [
        "df.loc[:,'YearBuilt'] = 2020 - df['YearBuilt']"
      ],
      "metadata": {
        "id": "ka2jfnFIlOdo"
      },
      "execution_count": 28,
      "outputs": []
    },
    {
      "cell_type": "code",
      "source": [
        "df.rename(columns = {'YearBuilt':'Age','YearRemodAdd':'AgeRemod','GarageYrBlt':'AgeGarage'}, inplace=True)"
      ],
      "metadata": {
        "id": "PSh5r4uz-HpU"
      },
      "execution_count": 29,
      "outputs": []
    },
    {
      "cell_type": "markdown",
      "source": [
        "## Outlier treatment of target variable"
      ],
      "metadata": {
        "id": "-edhrq7wvyWf"
      }
    },
    {
      "cell_type": "code",
      "source": [
        "df['SalePrice'].plot.box()"
      ],
      "metadata": {
        "colab": {
          "base_uri": "https://localhost:8080/",
          "height": 0
        },
        "id": "ZN4tjENmv7AJ",
        "outputId": "518afd38-c538-46d7-e535-64239c843b78"
      },
      "execution_count": 30,
      "outputs": [
        {
          "output_type": "execute_result",
          "data": {
            "text/plain": [
              "<matplotlib.axes._subplots.AxesSubplot at 0x7faf61d7b590>"
            ]
          },
          "metadata": {},
          "execution_count": 30
        },
        {
          "output_type": "display_data",
          "data": {
            "image/png": "[encoded data removed]",
            "text/plain": [
              "<Figure size 432x288 with 1 Axes>"
            ]
          },
          "metadata": {
            "needs_background": "light"
          }
        }
      ]
    },
    {
      "cell_type": "code",
      "source": [
        "from scipy.stats import zscore     # import zscore library\n",
        "\n",
        "# calculate zscore of saleprice column\n",
        "# make a copy of original dataframe\n",
        "# remove rows having zscore value of sale price three or more\n",
        "# drop calculated zscore column from dataframe\n",
        "\n",
        "df.loc[:,'spz'] = np.abs(zscore(df['SalePrice']))\n",
        "df_corr = df.copy()\n",
        "df = df[df['spz']<3]\n",
        "df.drop('spz', axis = 1, inplace = True)"
      ],
      "metadata": {
        "colab": {
          "base_uri": "https://localhost:8080/"
        },
        "id": "qVG7cQwyIxvW",
        "outputId": "3fcfec04-bc92-4362-9cd3-9fc93e7dc43a"
      },
      "execution_count": 31,
      "outputs": [
        {
          "output_type": "stream",
          "name": "stderr",
          "text": [
            "/usr/local/lib/python3.7/dist-packages/pandas/core/frame.py:4913: SettingWithCopyWarning: \n",
            "A value is trying to be set on a copy of a slice from a DataFrame\n",
            "\n",
            "See the caveats in the documentation: https://pandas.pydata.org/pandas-docs/stable/user_guide/indexing.html#returning-a-view-versus-a-copy\n",
            "  errors=errors,\n"
          ]
        }
      ]
    },
    {
      "cell_type": "code",
      "source": [
        "df.info()"
      ],
      "metadata": {
        "colab": {
          "base_uri": "https://localhost:8080/"
        },
        "id": "Vs6zYgO0fu7Z",
        "outputId": "5e837e78-e2c1-4cd1-b4a8-47a25f6ad302"
      },
      "execution_count": 32,
      "outputs": [
        {
          "output_type": "stream",
          "name": "stdout",
          "text": [
            "<class 'pandas.core.frame.DataFrame'>\n",
            "Int64Index: 1438 entries, 0 to 1459\n",
            "Data columns (total 76 columns):\n",
            " #   Column         Non-Null Count  Dtype         \n",
            "---  ------         --------------  -----         \n",
            " 0   Id             1438 non-null   int64         \n",
            " 1   MSSubClass     1438 non-null   object        \n",
            " 2   MSZoning       1438 non-null   object        \n",
            " 3   LotFrontage    1438 non-null   float64       \n",
            " 4   LotArea        1438 non-null   int64         \n",
            " 5   Street         1438 non-null   object        \n",
            " 6   LotShape       1438 non-null   object        \n",
            " 7   LandContour    1438 non-null   object        \n",
            " 8   Utilities      1438 non-null   object        \n",
            " 9   LotConfig      1438 non-null   object        \n",
            " 10  LandSlope      1438 non-null   object        \n",
            " 11  Neighborhood   1438 non-null   object        \n",
            " 12  Condition1     1438 non-null   object        \n",
            " 13  Condition2     1438 non-null   object        \n",
            " 14  BldgType       1438 non-null   object        \n",
            " 15  HouseStyle     1438 non-null   object        \n",
            " 16  OverallQual    1438 non-null   int64         \n",
            " 17  OverallCond    1438 non-null   int64         \n",
            " 18  Age            1438 non-null   int64         \n",
            " 19  AgeRemod       1438 non-null   int64         \n",
            " 20  RoofStyle      1438 non-null   object        \n",
            " 21  RoofMatl       1438 non-null   object        \n",
            " 22  Exterior1st    1438 non-null   object        \n",
            " 23  Exterior2nd    1438 non-null   object        \n",
            " 24  MasVnrType     1438 non-null   object        \n",
            " 25  MasVnrArea     1438 non-null   float64       \n",
            " 26  ExterQual      1438 non-null   object        \n",
            " 27  ExterCond      1438 non-null   object        \n",
            " 28  Foundation     1438 non-null   object        \n",
            " 29  BsmtQual       1438 non-null   object        \n",
            " 30  BsmtCond       1438 non-null   object        \n",
            " 31  BsmtExposure   1438 non-null   object        \n",
            " 32  BsmtFinType1   1438 non-null   object        \n",
            " 33  BsmtFinSF1     1438 non-null   int64         \n",
            " 34  BsmtFinType2   1438 non-null   object        \n",
            " 35  BsmtFinSF2     1438 non-null   int64         \n",
            " 36  BsmtUnfSF      1438 non-null   int64         \n",
            " 37  TotalBsmtSF    1438 non-null   int64         \n",
            " 38  Heating        1438 non-null   object        \n",
            " 39  HeatingQC      1438 non-null   object        \n",
            " 40  CentralAir     1438 non-null   object        \n",
            " 41  Electrical     1438 non-null   object        \n",
            " 42  1stFlrSF       1438 non-null   int64         \n",
            " 43  2ndFlrSF       1438 non-null   int64         \n",
            " 44  LowQualFinSF   1438 non-null   int64         \n",
            " 45  GrLivArea      1438 non-null   int64         \n",
            " 46  BsmtFullBath   1438 non-null   int64         \n",
            " 47  BsmtHalfBath   1438 non-null   int64         \n",
            " 48  FullBath       1438 non-null   int64         \n",
            " 49  HalfBath       1438 non-null   int64         \n",
            " 50  BedroomAbvGr   1438 non-null   int64         \n",
            " 51  KitchenAbvGr   1438 non-null   int64         \n",
            " 52  KitchenQual    1438 non-null   object        \n",
            " 53  TotRmsAbvGrd   1438 non-null   int64         \n",
            " 54  Functional     1438 non-null   object        \n",
            " 55  Fireplaces     1438 non-null   int64         \n",
            " 56  FireplaceQu    1438 non-null   object        \n",
            " 57  GarageType     1438 non-null   object        \n",
            " 58  AgeGarage      1438 non-null   float64       \n",
            " 59  GarageFinish   1438 non-null   object        \n",
            " 60  GarageCars     1438 non-null   int64         \n",
            " 61  GarageArea     1438 non-null   int64         \n",
            " 62  GarageQual     1438 non-null   object        \n",
            " 63  GarageCond     1438 non-null   object        \n",
            " 64  PavedDrive     1438 non-null   object        \n",
            " 65  WoodDeckSF     1438 non-null   int64         \n",
            " 66  OpenPorchSF    1438 non-null   int64         \n",
            " 67  EnclosedPorch  1438 non-null   int64         \n",
            " 68  3SsnPorch      1438 non-null   int64         \n",
            " 69  ScreenPorch    1438 non-null   int64         \n",
            " 70  PoolArea       1438 non-null   int64         \n",
            " 71  MiscVal        1438 non-null   int64         \n",
            " 72  SaleType       1438 non-null   object        \n",
            " 73  SaleCondition  1438 non-null   object        \n",
            " 74  SalePrice      1438 non-null   int64         \n",
            " 75  DateSold       1438 non-null   datetime64[ns]\n",
            "dtypes: datetime64[ns](1), float64(3), int64(32), object(40)\n",
            "memory usage: 865.0+ KB\n"
          ]
        }
      ]
    },
    {
      "cell_type": "markdown",
      "source": [
        "## Drop object columns with high skew"
      ],
      "metadata": {
        "id": "msfQT5thlcwr"
      }
    },
    {
      "cell_type": "code",
      "source": [
        "# Get percentage of frequency for categorical variables.\n",
        "\n",
        "obj = df.columns[df.dtypes=='O']\n",
        "obj_desc = df[obj].describe().T\n",
        "obj_desc['pc'] = obj_desc['freq']/ obj_desc['count']\n",
        "dropcols = obj_desc[obj_desc['pc']>=0.9].index\n",
        "dropcols"
      ],
      "metadata": {
        "colab": {
          "base_uri": "https://localhost:8080/"
        },
        "id": "_NGApeQ_lhuy",
        "outputId": "7c48d921-4876-4b45-ae9b-6cdd535616bb"
      },
      "execution_count": 33,
      "outputs": [
        {
          "output_type": "execute_result",
          "data": {
            "text/plain": [
              "Index(['Street', 'Utilities', 'LandSlope', 'Condition2', 'RoofMatl',\n",
              "       'BsmtCond', 'Heating', 'CentralAir', 'Electrical', 'Functional',\n",
              "       'GarageQual', 'GarageCond', 'PavedDrive'],\n",
              "      dtype='object')"
            ]
          },
          "metadata": {},
          "execution_count": 33
        }
      ]
    },
    {
      "cell_type": "code",
      "source": [
        "# Drop columns with high skew\n",
        "\n",
        "df.drop(dropcols, axis = 1, inplace = True)"
      ],
      "metadata": {
        "id": "Y41wPrI45md_"
      },
      "execution_count": 34,
      "outputs": []
    },
    {
      "cell_type": "markdown",
      "source": [
        "## Business Metrics\n",
        "1. Calculate rate per squarefeet.\n",
        "2. Get ratio of length and width of lot."
      ],
      "metadata": {
        "id": "g5Hchkjx05V2"
      }
    },
    {
      "cell_type": "code",
      "source": [
        "# Price per squarefeet.\n",
        "\n",
        "df.loc[:,'PriceperSft'] = df['LotArea']/df['SalePrice']\n",
        "\n",
        "# Ratio of length and width of lot.\n",
        "\n",
        "df.loc[:, 'LWRatio'] = df['LotFrontage']/(df['LotArea']/df['LotFrontage'])"
      ],
      "metadata": {
        "id": "aawwcDqNNM5a"
      },
      "execution_count": 35,
      "outputs": []
    },
    {
      "cell_type": "markdown",
      "source": [
        "## Skewed columns identification"
      ],
      "metadata": {
        "id": "Y9Lh2_0J3J8T"
      }
    },
    {
      "cell_type": "code",
      "source": [
        "df.shape"
      ],
      "metadata": {
        "colab": {
          "base_uri": "https://localhost:8080/"
        },
        "id": "js7wEmw95saf",
        "outputId": "0aacd8d6-dfe8-4e63-fd80-2676637f5ee5"
      },
      "execution_count": 36,
      "outputs": [
        {
          "output_type": "execute_result",
          "data": {
            "text/plain": [
              "(1438, 65)"
            ]
          },
          "metadata": {},
          "execution_count": 36
        }
      ]
    },
    {
      "cell_type": "code",
      "source": [
        "obj = df.columns[df.dtypes=='O']\n",
        "nobj = df.columns[df.dtypes!='O']\n",
        "obj"
      ],
      "metadata": {
        "colab": {
          "base_uri": "https://localhost:8080/"
        },
        "id": "TRL6NfF76ESY",
        "outputId": "a01129a8-cdb5-4b7a-88e8-df86bc09a269"
      },
      "execution_count": 37,
      "outputs": [
        {
          "output_type": "execute_result",
          "data": {
            "text/plain": [
              "Index(['MSSubClass', 'MSZoning', 'LotShape', 'LandContour', 'LotConfig',\n",
              "       'Neighborhood', 'Condition1', 'BldgType', 'HouseStyle', 'RoofStyle',\n",
              "       'Exterior1st', 'Exterior2nd', 'MasVnrType', 'ExterQual', 'ExterCond',\n",
              "       'Foundation', 'BsmtQual', 'BsmtExposure', 'BsmtFinType1',\n",
              "       'BsmtFinType2', 'HeatingQC', 'KitchenQual', 'FireplaceQu', 'GarageType',\n",
              "       'GarageFinish', 'SaleType', 'SaleCondition'],\n",
              "      dtype='object')"
            ]
          },
          "metadata": {},
          "execution_count": 37
        }
      ]
    },
    {
      "cell_type": "code",
      "source": [
        "nobj = nobj.drop(['Id','SalePrice'])"
      ],
      "metadata": {
        "id": "XV1m3xbT6Q1N"
      },
      "execution_count": 38,
      "outputs": []
    },
    {
      "cell_type": "code",
      "source": [
        "nobj"
      ],
      "metadata": {
        "colab": {
          "base_uri": "https://localhost:8080/"
        },
        "id": "wMYVxMz26V1o",
        "outputId": "ca3fa5a1-74c4-4186-c724-3107c2fc295b"
      },
      "execution_count": 39,
      "outputs": [
        {
          "output_type": "execute_result",
          "data": {
            "text/plain": [
              "Index(['LotFrontage', 'LotArea', 'OverallQual', 'OverallCond', 'Age',\n",
              "       'AgeRemod', 'MasVnrArea', 'BsmtFinSF1', 'BsmtFinSF2', 'BsmtUnfSF',\n",
              "       'TotalBsmtSF', '1stFlrSF', '2ndFlrSF', 'LowQualFinSF', 'GrLivArea',\n",
              "       'BsmtFullBath', 'BsmtHalfBath', 'FullBath', 'HalfBath', 'BedroomAbvGr',\n",
              "       'KitchenAbvGr', 'TotRmsAbvGrd', 'Fireplaces', 'AgeGarage', 'GarageCars',\n",
              "       'GarageArea', 'WoodDeckSF', 'OpenPorchSF', 'EnclosedPorch', '3SsnPorch',\n",
              "       'ScreenPorch', 'PoolArea', 'MiscVal', 'DateSold', 'PriceperSft',\n",
              "       'LWRatio'],\n",
              "      dtype='object')"
            ]
          },
          "metadata": {},
          "execution_count": 39
        }
      ]
    },
    {
      "cell_type": "code",
      "source": [
        "nobj_desc = df[nobj].describe().T"
      ],
      "metadata": {
        "id": "t0Oj2lf9OyIb"
      },
      "execution_count": 40,
      "outputs": []
    },
    {
      "cell_type": "code",
      "source": [
        "nobj_desc"
      ],
      "metadata": {
        "colab": {
          "base_uri": "https://localhost:8080/",
          "height": 0
        },
        "id": "BAJcM4UaPBnO",
        "outputId": "0572175d-dc9a-4feb-d970-659f98b34c65"
      },
      "execution_count": 41,
      "outputs": [
        {
          "output_type": "execute_result",
          "data": {
            "text/html": [
              "\n",
              "  <div id=\"df-d05e7b8e-e2b3-43e5-a292-0245a0452bd0\">\n",
              "    <div class=\"colab-df-container\">\n",
              "      <div>\n",
              "<style scoped>\n",
              "    .dataframe tbody tr th:only-of-type {\n",
              "        vertical-align: middle;\n",
              "    }\n",
              "\n",
              "    .dataframe tbody tr th {\n",
              "        vertical-align: top;\n",
              "    }\n",
              "\n",
              "    .dataframe thead th {\n",
              "        text-align: right;\n",
              "    }\n",
              "</style>\n",
              "<table border=\"1\" class=\"dataframe\">\n",
              "  <thead>\n",
              "    <tr style=\"text-align: right;\">\n",
              "      <th></th>\n",
              "      <th>count</th>\n",
              "      <th>mean</th>\n",
              "      <th>std</th>\n",
              "      <th>min</th>\n",
              "      <th>25%</th>\n",
              "      <th>50%</th>\n",
              "      <th>75%</th>\n",
              "      <th>max</th>\n",
              "    </tr>\n",
              "  </thead>\n",
              "  <tbody>\n",
              "    <tr>\n",
              "      <th>LotFrontage</th>\n",
              "      <td>1438.0</td>\n",
              "      <td>69.766926</td>\n",
              "      <td>21.835192</td>\n",
              "      <td>21.000000</td>\n",
              "      <td>60.000000</td>\n",
              "      <td>70.049958</td>\n",
              "      <td>78.000000</td>\n",
              "      <td>313.000000</td>\n",
              "    </tr>\n",
              "    <tr>\n",
              "      <th>LotArea</th>\n",
              "      <td>1438.0</td>\n",
              "      <td>10401.338665</td>\n",
              "      <td>9945.341842</td>\n",
              "      <td>1300.000000</td>\n",
              "      <td>7500.000000</td>\n",
              "      <td>9400.000000</td>\n",
              "      <td>11441.000000</td>\n",
              "      <td>215245.000000</td>\n",
              "    </tr>\n",
              "    <tr>\n",
              "      <th>OverallQual</th>\n",
              "      <td>1438.0</td>\n",
              "      <td>6.051460</td>\n",
              "      <td>1.334253</td>\n",
              "      <td>1.000000</td>\n",
              "      <td>5.000000</td>\n",
              "      <td>6.000000</td>\n",
              "      <td>7.000000</td>\n",
              "      <td>10.000000</td>\n",
              "    </tr>\n",
              "    <tr>\n",
              "      <th>OverallCond</th>\n",
              "      <td>1438.0</td>\n",
              "      <td>5.580668</td>\n",
              "      <td>1.115508</td>\n",
              "      <td>1.000000</td>\n",
              "      <td>5.000000</td>\n",
              "      <td>5.000000</td>\n",
              "      <td>6.000000</td>\n",
              "      <td>9.000000</td>\n",
              "    </tr>\n",
              "    <tr>\n",
              "      <th>Age</th>\n",
              "      <td>1438.0</td>\n",
              "      <td>49.155076</td>\n",
              "      <td>30.093041</td>\n",
              "      <td>10.000000</td>\n",
              "      <td>20.000000</td>\n",
              "      <td>48.000000</td>\n",
              "      <td>66.750000</td>\n",
              "      <td>148.000000</td>\n",
              "    </tr>\n",
              "    <tr>\n",
              "      <th>AgeRemod</th>\n",
              "      <td>1438.0</td>\n",
              "      <td>35.429068</td>\n",
              "      <td>20.652378</td>\n",
              "      <td>10.000000</td>\n",
              "      <td>16.000000</td>\n",
              "      <td>27.000000</td>\n",
              "      <td>54.000000</td>\n",
              "      <td>70.000000</td>\n",
              "    </tr>\n",
              "    <tr>\n",
              "      <th>MasVnrArea</th>\n",
              "      <td>1438.0</td>\n",
              "      <td>97.855213</td>\n",
              "      <td>168.641356</td>\n",
              "      <td>0.000000</td>\n",
              "      <td>0.000000</td>\n",
              "      <td>0.000000</td>\n",
              "      <td>157.750000</td>\n",
              "      <td>1600.000000</td>\n",
              "    </tr>\n",
              "    <tr>\n",
              "      <th>BsmtFinSF1</th>\n",
              "      <td>1438.0</td>\n",
              "      <td>432.394298</td>\n",
              "      <td>442.679193</td>\n",
              "      <td>0.000000</td>\n",
              "      <td>0.000000</td>\n",
              "      <td>378.000000</td>\n",
              "      <td>698.750000</td>\n",
              "      <td>5644.000000</td>\n",
              "    </tr>\n",
              "    <tr>\n",
              "      <th>BsmtFinSF2</th>\n",
              "      <td>1438.0</td>\n",
              "      <td>46.886648</td>\n",
              "      <td>161.931424</td>\n",
              "      <td>0.000000</td>\n",
              "      <td>0.000000</td>\n",
              "      <td>0.000000</td>\n",
              "      <td>0.000000</td>\n",
              "      <td>1474.000000</td>\n",
              "    </tr>\n",
              "    <tr>\n",
              "      <th>BsmtUnfSF</th>\n",
              "      <td>1438.0</td>\n",
              "      <td>563.477051</td>\n",
              "      <td>437.932130</td>\n",
              "      <td>0.000000</td>\n",
              "      <td>219.250000</td>\n",
              "      <td>475.000000</td>\n",
              "      <td>806.000000</td>\n",
              "      <td>2336.000000</td>\n",
              "    </tr>\n",
              "    <tr>\n",
              "      <th>TotalBsmtSF</th>\n",
              "      <td>1438.0</td>\n",
              "      <td>1042.757997</td>\n",
              "      <td>420.897510</td>\n",
              "      <td>0.000000</td>\n",
              "      <td>793.000000</td>\n",
              "      <td>983.500000</td>\n",
              "      <td>1272.750000</td>\n",
              "      <td>6110.000000</td>\n",
              "    </tr>\n",
              "    <tr>\n",
              "      <th>1stFlrSF</th>\n",
              "      <td>1438.0</td>\n",
              "      <td>1149.619611</td>\n",
              "      <td>370.994885</td>\n",
              "      <td>334.000000</td>\n",
              "      <td>879.250000</td>\n",
              "      <td>1080.000000</td>\n",
              "      <td>1370.000000</td>\n",
              "      <td>4692.000000</td>\n",
              "    </tr>\n",
              "    <tr>\n",
              "      <th>2ndFlrSF</th>\n",
              "      <td>1438.0</td>\n",
              "      <td>339.690542</td>\n",
              "      <td>426.661375</td>\n",
              "      <td>0.000000</td>\n",
              "      <td>0.000000</td>\n",
              "      <td>0.000000</td>\n",
              "      <td>728.000000</td>\n",
              "      <td>1818.000000</td>\n",
              "    </tr>\n",
              "    <tr>\n",
              "      <th>LowQualFinSF</th>\n",
              "      <td>1438.0</td>\n",
              "      <td>5.536161</td>\n",
              "      <td>46.655638</td>\n",
              "      <td>0.000000</td>\n",
              "      <td>0.000000</td>\n",
              "      <td>0.000000</td>\n",
              "      <td>0.000000</td>\n",
              "      <td>528.000000</td>\n",
              "    </tr>\n",
              "    <tr>\n",
              "      <th>GrLivArea</th>\n",
              "      <td>1438.0</td>\n",
              "      <td>1494.846314</td>\n",
              "      <td>495.291820</td>\n",
              "      <td>334.000000</td>\n",
              "      <td>1126.000000</td>\n",
              "      <td>1456.000000</td>\n",
              "      <td>1761.750000</td>\n",
              "      <td>5642.000000</td>\n",
              "    </tr>\n",
              "    <tr>\n",
              "      <th>BsmtFullBath</th>\n",
              "      <td>1438.0</td>\n",
              "      <td>0.420723</td>\n",
              "      <td>0.518591</td>\n",
              "      <td>0.000000</td>\n",
              "      <td>0.000000</td>\n",
              "      <td>0.000000</td>\n",
              "      <td>1.000000</td>\n",
              "      <td>3.000000</td>\n",
              "    </tr>\n",
              "    <tr>\n",
              "      <th>BsmtHalfBath</th>\n",
              "      <td>1438.0</td>\n",
              "      <td>0.057719</td>\n",
              "      <td>0.239184</td>\n",
              "      <td>0.000000</td>\n",
              "      <td>0.000000</td>\n",
              "      <td>0.000000</td>\n",
              "      <td>0.000000</td>\n",
              "      <td>2.000000</td>\n",
              "    </tr>\n",
              "    <tr>\n",
              "      <th>FullBath</th>\n",
              "      <td>1438.0</td>\n",
              "      <td>1.552156</td>\n",
              "      <td>0.540360</td>\n",
              "      <td>0.000000</td>\n",
              "      <td>1.000000</td>\n",
              "      <td>2.000000</td>\n",
              "      <td>2.000000</td>\n",
              "      <td>3.000000</td>\n",
              "    </tr>\n",
              "    <tr>\n",
              "      <th>HalfBath</th>\n",
              "      <td>1438.0</td>\n",
              "      <td>0.376912</td>\n",
              "      <td>0.501711</td>\n",
              "      <td>0.000000</td>\n",
              "      <td>0.000000</td>\n",
              "      <td>0.000000</td>\n",
              "      <td>1.000000</td>\n",
              "      <td>2.000000</td>\n",
              "    </tr>\n",
              "    <tr>\n",
              "      <th>BedroomAbvGr</th>\n",
              "      <td>1438.0</td>\n",
              "      <td>2.863004</td>\n",
              "      <td>0.811372</td>\n",
              "      <td>0.000000</td>\n",
              "      <td>2.000000</td>\n",
              "      <td>3.000000</td>\n",
              "      <td>3.000000</td>\n",
              "      <td>8.000000</td>\n",
              "    </tr>\n",
              "    <tr>\n",
              "      <th>KitchenAbvGr</th>\n",
              "      <td>1438.0</td>\n",
              "      <td>1.047288</td>\n",
              "      <td>0.221942</td>\n",
              "      <td>0.000000</td>\n",
              "      <td>1.000000</td>\n",
              "      <td>1.000000</td>\n",
              "      <td>1.000000</td>\n",
              "      <td>3.000000</td>\n",
              "    </tr>\n",
              "    <tr>\n",
              "      <th>TotRmsAbvGrd</th>\n",
              "      <td>1438.0</td>\n",
              "      <td>6.465229</td>\n",
              "      <td>1.570820</td>\n",
              "      <td>2.000000</td>\n",
              "      <td>5.000000</td>\n",
              "      <td>6.000000</td>\n",
              "      <td>7.000000</td>\n",
              "      <td>14.000000</td>\n",
              "    </tr>\n",
              "    <tr>\n",
              "      <th>Fireplaces</th>\n",
              "      <td>1438.0</td>\n",
              "      <td>0.601530</td>\n",
              "      <td>0.640044</td>\n",
              "      <td>0.000000</td>\n",
              "      <td>0.000000</td>\n",
              "      <td>1.000000</td>\n",
              "      <td>1.000000</td>\n",
              "      <td>3.000000</td>\n",
              "    </tr>\n",
              "    <tr>\n",
              "      <th>AgeGarage</th>\n",
              "      <td>1438.0</td>\n",
              "      <td>41.879695</td>\n",
              "      <td>23.961985</td>\n",
              "      <td>10.000000</td>\n",
              "      <td>20.000000</td>\n",
              "      <td>41.493836</td>\n",
              "      <td>58.000000</td>\n",
              "      <td>120.000000</td>\n",
              "    </tr>\n",
              "    <tr>\n",
              "      <th>GarageCars</th>\n",
              "      <td>1438.0</td>\n",
              "      <td>1.748957</td>\n",
              "      <td>0.737868</td>\n",
              "      <td>0.000000</td>\n",
              "      <td>1.000000</td>\n",
              "      <td>2.000000</td>\n",
              "      <td>2.000000</td>\n",
              "      <td>4.000000</td>\n",
              "    </tr>\n",
              "    <tr>\n",
              "      <th>GarageArea</th>\n",
              "      <td>1438.0</td>\n",
              "      <td>467.327538</td>\n",
              "      <td>209.680097</td>\n",
              "      <td>0.000000</td>\n",
              "      <td>325.250000</td>\n",
              "      <td>475.500000</td>\n",
              "      <td>576.000000</td>\n",
              "      <td>1418.000000</td>\n",
              "    </tr>\n",
              "    <tr>\n",
              "      <th>WoodDeckSF</th>\n",
              "      <td>1438.0</td>\n",
              "      <td>92.846314</td>\n",
              "      <td>124.565893</td>\n",
              "      <td>0.000000</td>\n",
              "      <td>0.000000</td>\n",
              "      <td>0.000000</td>\n",
              "      <td>168.000000</td>\n",
              "      <td>857.000000</td>\n",
              "    </tr>\n",
              "    <tr>\n",
              "      <th>OpenPorchSF</th>\n",
              "      <td>1438.0</td>\n",
              "      <td>45.672462</td>\n",
              "      <td>65.524153</td>\n",
              "      <td>0.000000</td>\n",
              "      <td>0.000000</td>\n",
              "      <td>24.000000</td>\n",
              "      <td>66.000000</td>\n",
              "      <td>547.000000</td>\n",
              "    </tr>\n",
              "    <tr>\n",
              "      <th>EnclosedPorch</th>\n",
              "      <td>1438.0</td>\n",
              "      <td>22.061892</td>\n",
              "      <td>61.118657</td>\n",
              "      <td>0.000000</td>\n",
              "      <td>0.000000</td>\n",
              "      <td>0.000000</td>\n",
              "      <td>0.000000</td>\n",
              "      <td>552.000000</td>\n",
              "    </tr>\n",
              "    <tr>\n",
              "      <th>3SsnPorch</th>\n",
              "      <td>1438.0</td>\n",
              "      <td>3.461752</td>\n",
              "      <td>29.537839</td>\n",
              "      <td>0.000000</td>\n",
              "      <td>0.000000</td>\n",
              "      <td>0.000000</td>\n",
              "      <td>0.000000</td>\n",
              "      <td>508.000000</td>\n",
              "    </tr>\n",
              "    <tr>\n",
              "      <th>ScreenPorch</th>\n",
              "      <td>1438.0</td>\n",
              "      <td>14.608484</td>\n",
              "      <td>54.588997</td>\n",
              "      <td>0.000000</td>\n",
              "      <td>0.000000</td>\n",
              "      <td>0.000000</td>\n",
              "      <td>0.000000</td>\n",
              "      <td>480.000000</td>\n",
              "    </tr>\n",
              "    <tr>\n",
              "      <th>PoolArea</th>\n",
              "      <td>1438.0</td>\n",
              "      <td>2.415160</td>\n",
              "      <td>37.768672</td>\n",
              "      <td>0.000000</td>\n",
              "      <td>0.000000</td>\n",
              "      <td>0.000000</td>\n",
              "      <td>0.000000</td>\n",
              "      <td>738.000000</td>\n",
              "    </tr>\n",
              "    <tr>\n",
              "      <th>MiscVal</th>\n",
              "      <td>1438.0</td>\n",
              "      <td>44.154381</td>\n",
              "      <td>499.876935</td>\n",
              "      <td>0.000000</td>\n",
              "      <td>0.000000</td>\n",
              "      <td>0.000000</td>\n",
              "      <td>0.000000</td>\n",
              "      <td>15500.000000</td>\n",
              "    </tr>\n",
              "    <tr>\n",
              "      <th>PriceperSft</th>\n",
              "      <td>1438.0</td>\n",
              "      <td>0.062734</td>\n",
              "      <td>0.042965</td>\n",
              "      <td>0.010484</td>\n",
              "      <td>0.042575</td>\n",
              "      <td>0.056256</td>\n",
              "      <td>0.072751</td>\n",
              "      <td>0.719196</td>\n",
              "    </tr>\n",
              "    <tr>\n",
              "      <th>LWRatio</th>\n",
              "      <td>1438.0</td>\n",
              "      <td>0.553441</td>\n",
              "      <td>0.310581</td>\n",
              "      <td>0.029801</td>\n",
              "      <td>0.392488</td>\n",
              "      <td>0.512623</td>\n",
              "      <td>0.647785</td>\n",
              "      <td>5.684556</td>\n",
              "    </tr>\n",
              "  </tbody>\n",
              "</table>\n",
              "</div>\n",
              "      <button class=\"colab-df-convert\" onclick=\"convertToInteractive('df-d05e7b8e-e2b3-43e5-a292-0245a0452bd0')\"\n",
              "              title=\"Convert this dataframe to an interactive table.\"\n",
              "              style=\"display:none;\">\n",
              "        \n",
              "  <svg xmlns=\"http://www.w3.org/2000/svg\" height=\"24px\"viewBox=\"0 0 24 24\"\n",
              "       width=\"24px\">\n",
              "    <path d=\"M0 0h24v24H0V0z\" fill=\"none\"/>\n",
              "    <path d=\"M18.56 5.44l.94 2.06.94-2.06 2.06-.94-2.06-.94-.94-2.06-.94 2.06-2.06.94zm-11 1L8.5 8.5l.94-2.06 2.06-.94-2.06-.94L8.5 2.5l-.94 2.06-2.06.94zm10 10l.94 2.06.94-2.06 2.06-.94-2.06-.94-.94-2.06-.94 2.06-2.06.94z\"/><path d=\"M17.41 7.96l-1.37-1.37c-.4-.4-.92-.59-1.43-.59-.52 0-1.04.2-1.43.59L10.3 9.45l-7.72 7.72c-.78.78-.78 2.05 0 2.83L4 21.41c.39.39.9.59 1.41.59.51 0 1.02-.2 1.41-.59l7.78-7.78 2.81-2.81c.8-.78.8-2.07 0-2.86zM5.41 20L4 18.59l7.72-7.72 1.47 1.35L5.41 20z\"/>\n",
              "  </svg>\n",
              "      </button>\n",
              "      \n",
              "  <style>\n",
              "    .colab-df-container {\n",
              "      display:flex;\n",
              "      flex-wrap:wrap;\n",
              "      gap: 12px;\n",
              "    }\n",
              "\n",
              "    .colab-df-convert {\n",
              "      background-color: #E8F0FE;\n",
              "      border: none;\n",
              "      border-radius: 50%;\n",
              "      cursor: pointer;\n",
              "      display: none;\n",
              "      fill: #1967D2;\n",
              "      height: 32px;\n",
              "      padding: 0 0 0 0;\n",
              "      width: 32px;\n",
              "    }\n",
              "\n",
              "    .colab-df-convert:hover {\n",
              "      background-color: #E2EBFA;\n",
              "      box-shadow: 0px 1px 2px rgba(60, 64, 67, 0.3), 0px 1px 3px 1px rgba(60, 64, 67, 0.15);\n",
              "      fill: #174EA6;\n",
              "    }\n",
              "\n",
              "    [theme=dark] .colab-df-convert {\n",
              "      background-color: #3B4455;\n",
              "      fill: #D2E3FC;\n",
              "    }\n",
              "\n",
              "    [theme=dark] .colab-df-convert:hover {\n",
              "      background-color: #434B5C;\n",
              "      box-shadow: 0px 1px 3px 1px rgba(0, 0, 0, 0.15);\n",
              "      filter: drop-shadow(0px 1px 2px rgba(0, 0, 0, 0.3));\n",
              "      fill: #FFFFFF;\n",
              "    }\n",
              "  </style>\n",
              "\n",
              "      <script>\n",
              "        const buttonEl =\n",
              "          document.querySelector('#df-d05e7b8e-e2b3-43e5-a292-0245a0452bd0 button.colab-df-convert');\n",
              "        buttonEl.style.display =\n",
              "          google.colab.kernel.accessAllowed ? 'block' : 'none';\n",
              "\n",
              "        async function convertToInteractive(key) {\n",
              "          const element = document.querySelector('#df-d05e7b8e-e2b3-43e5-a292-0245a0452bd0');\n",
              "          const dataTable =\n",
              "            await google.colab.kernel.invokeFunction('convertToInteractive',\n",
              "                                                     [key], {});\n",
              "          if (!dataTable) return;\n",
              "\n",
              "          const docLinkHtml = 'Like what you see? Visit the ' +\n",
              "            '<a target=\"_blank\" href=https://colab.research.google.com/notebooks/data_table.ipynb>data table notebook</a>'\n",
              "            + ' to learn more about interactive tables.';\n",
              "          element.innerHTML = '';\n",
              "          dataTable['output_type'] = 'display_data';\n",
              "          await google.colab.output.renderOutput(dataTable, element);\n",
              "          const docLink = document.createElement('div');\n",
              "          docLink.innerHTML = docLinkHtml;\n",
              "          element.appendChild(docLink);\n",
              "        }\n",
              "      </script>\n",
              "    </div>\n",
              "  </div>\n",
              "  "
            ],
            "text/plain": [
              "                count          mean          std          min          25%  \\\n",
              "LotFrontage    1438.0     69.766926    21.835192    21.000000    60.000000   \n",
              "LotArea        1438.0  10401.338665  9945.341842  1300.000000  7500.000000   \n",
              "OverallQual    1438.0      6.051460     1.334253     1.000000     5.000000   \n",
              "OverallCond    1438.0      5.580668     1.115508     1.000000     5.000000   \n",
              "Age            1438.0     49.155076    30.093041    10.000000    20.000000   \n",
              "AgeRemod       1438.0     35.429068    20.652378    10.000000    16.000000   \n",
              "MasVnrArea     1438.0     97.855213   168.641356     0.000000     0.000000   \n",
              "BsmtFinSF1     1438.0    432.394298   442.679193     0.000000     0.000000   \n",
              "BsmtFinSF2     1438.0     46.886648   161.931424     0.000000     0.000000   \n",
              "BsmtUnfSF      1438.0    563.477051   437.932130     0.000000   219.250000   \n",
              "TotalBsmtSF    1438.0   1042.757997   420.897510     0.000000   793.000000   \n",
              "1stFlrSF       1438.0   1149.619611   370.994885   334.000000   879.250000   \n",
              "2ndFlrSF       1438.0    339.690542   426.661375     0.000000     0.000000   \n",
              "LowQualFinSF   1438.0      5.536161    46.655638     0.000000     0.000000   \n",
              "GrLivArea      1438.0   1494.846314   495.291820   334.000000  1126.000000   \n",
              "BsmtFullBath   1438.0      0.420723     0.518591     0.000000     0.000000   \n",
              "BsmtHalfBath   1438.0      0.057719     0.239184     0.000000     0.000000   \n",
              "FullBath       1438.0      1.552156     0.540360     0.000000     1.000000   \n",
              "HalfBath       1438.0      0.376912     0.501711     0.000000     0.000000   \n",
              "BedroomAbvGr   1438.0      2.863004     0.811372     0.000000     2.000000   \n",
              "KitchenAbvGr   1438.0      1.047288     0.221942     0.000000     1.000000   \n",
              "TotRmsAbvGrd   1438.0      6.465229     1.570820     2.000000     5.000000   \n",
              "Fireplaces     1438.0      0.601530     0.640044     0.000000     0.000000   \n",
              "AgeGarage      1438.0     41.879695    23.961985    10.000000    20.000000   \n",
              "GarageCars     1438.0      1.748957     0.737868     0.000000     1.000000   \n",
              "GarageArea     1438.0    467.327538   209.680097     0.000000   325.250000   \n",
              "WoodDeckSF     1438.0     92.846314   124.565893     0.000000     0.000000   \n",
              "OpenPorchSF    1438.0     45.672462    65.524153     0.000000     0.000000   \n",
              "EnclosedPorch  1438.0     22.061892    61.118657     0.000000     0.000000   \n",
              "3SsnPorch      1438.0      3.461752    29.537839     0.000000     0.000000   \n",
              "ScreenPorch    1438.0     14.608484    54.588997     0.000000     0.000000   \n",
              "PoolArea       1438.0      2.415160    37.768672     0.000000     0.000000   \n",
              "MiscVal        1438.0     44.154381   499.876935     0.000000     0.000000   \n",
              "PriceperSft    1438.0      0.062734     0.042965     0.010484     0.042575   \n",
              "LWRatio        1438.0      0.553441     0.310581     0.029801     0.392488   \n",
              "\n",
              "                       50%           75%            max  \n",
              "LotFrontage      70.049958     78.000000     313.000000  \n",
              "LotArea        9400.000000  11441.000000  215245.000000  \n",
              "OverallQual       6.000000      7.000000      10.000000  \n",
              "OverallCond       5.000000      6.000000       9.000000  \n",
              "Age              48.000000     66.750000     148.000000  \n",
              "AgeRemod         27.000000     54.000000      70.000000  \n",
              "MasVnrArea        0.000000    157.750000    1600.000000  \n",
              "BsmtFinSF1      378.000000    698.750000    5644.000000  \n",
              "BsmtFinSF2        0.000000      0.000000    1474.000000  \n",
              "BsmtUnfSF       475.000000    806.000000    2336.000000  \n",
              "TotalBsmtSF     983.500000   1272.750000    6110.000000  \n",
              "1stFlrSF       1080.000000   1370.000000    4692.000000  \n",
              "2ndFlrSF          0.000000    728.000000    1818.000000  \n",
              "LowQualFinSF      0.000000      0.000000     528.000000  \n",
              "GrLivArea      1456.000000   1761.750000    5642.000000  \n",
              "BsmtFullBath      0.000000      1.000000       3.000000  \n",
              "BsmtHalfBath      0.000000      0.000000       2.000000  \n",
              "FullBath          2.000000      2.000000       3.000000  \n",
              "HalfBath          0.000000      1.000000       2.000000  \n",
              "BedroomAbvGr      3.000000      3.000000       8.000000  \n",
              "KitchenAbvGr      1.000000      1.000000       3.000000  \n",
              "TotRmsAbvGrd      6.000000      7.000000      14.000000  \n",
              "Fireplaces        1.000000      1.000000       3.000000  \n",
              "AgeGarage        41.493836     58.000000     120.000000  \n",
              "GarageCars        2.000000      2.000000       4.000000  \n",
              "GarageArea      475.500000    576.000000    1418.000000  \n",
              "WoodDeckSF        0.000000    168.000000     857.000000  \n",
              "OpenPorchSF      24.000000     66.000000     547.000000  \n",
              "EnclosedPorch     0.000000      0.000000     552.000000  \n",
              "3SsnPorch         0.000000      0.000000     508.000000  \n",
              "ScreenPorch       0.000000      0.000000     480.000000  \n",
              "PoolArea          0.000000      0.000000     738.000000  \n",
              "MiscVal           0.000000      0.000000   15500.000000  \n",
              "PriceperSft       0.056256      0.072751       0.719196  \n",
              "LWRatio           0.512623      0.647785       5.684556  "
            ]
          },
          "metadata": {},
          "execution_count": 41
        }
      ]
    },
    {
      "cell_type": "code",
      "source": [
        "df[nobj].skew()"
      ],
      "metadata": {
        "colab": {
          "base_uri": "https://localhost:8080/"
        },
        "id": "tRw-g0Ce4nLf",
        "outputId": "a6260602-c9dc-447d-b16e-1f487e0a6a62"
      },
      "execution_count": 42,
      "outputs": [
        {
          "output_type": "stream",
          "name": "stderr",
          "text": [
            "/usr/local/lib/python3.7/dist-packages/ipykernel_launcher.py:1: FutureWarning: Dropping of nuisance columns in DataFrame reductions (with 'numeric_only=None') is deprecated; in a future version this will raise TypeError.  Select only valid columns before calling the reduction.\n",
            "  \"\"\"Entry point for launching an IPython kernel.\n"
          ]
        },
        {
          "output_type": "execute_result",
          "data": {
            "text/plain": [
              "LotFrontage       2.445214\n",
              "LotArea          12.492275\n",
              "OverallQual       0.118781\n",
              "OverallCond       0.665948\n",
              "Age               0.594878\n",
              "AgeRemod          0.483091\n",
              "MasVnrArea        2.575693\n",
              "BsmtFinSF1        1.741768\n",
              "BsmtFinSF2        4.246175\n",
              "BsmtUnfSF         0.906259\n",
              "TotalBsmtSF       1.505617\n",
              "1stFlrSF          1.338154\n",
              "2ndFlrSF          0.760518\n",
              "LowQualFinSF      9.131154\n",
              "GrLivArea         1.212964\n",
              "BsmtFullBath      0.620219\n",
              "BsmtHalfBath      4.099060\n",
              "FullBath         -0.022551\n",
              "HalfBath          0.706305\n",
              "BedroomAbvGr      0.231567\n",
              "KitchenAbvGr      4.449593\n",
              "TotRmsAbvGrd      0.624132\n",
              "Fireplaces        0.668935\n",
              "AgeGarage         0.653187\n",
              "GarageCars       -0.355639\n",
              "GarageArea        0.149517\n",
              "WoodDeckSF        1.571425\n",
              "OpenPorchSF       2.421522\n",
              "EnclosedPorch     3.073212\n",
              "3SsnPorch        10.224468\n",
              "ScreenPorch       4.149834\n",
              "PoolArea         15.972710\n",
              "MiscVal          24.292361\n",
              "PriceperSft       6.384356\n",
              "LWRatio           5.183321\n",
              "dtype: float64"
            ]
          },
          "metadata": {},
          "execution_count": 42
        }
      ]
    },
    {
      "cell_type": "code",
      "source": [
        "nobj_sk = df[nobj].skew()\n",
        "nobj_sk = nobj_sk[\n",
        "                  (nobj_sk>=1)|\n",
        "                  (nobj_sk<=-1)\n",
        "]"
      ],
      "metadata": {
        "colab": {
          "base_uri": "https://localhost:8080/"
        },
        "id": "cj0g2Af247HQ",
        "outputId": "c443b950-a929-4373-d1bc-0deac2b829b5"
      },
      "execution_count": 43,
      "outputs": [
        {
          "output_type": "stream",
          "name": "stderr",
          "text": [
            "/usr/local/lib/python3.7/dist-packages/ipykernel_launcher.py:1: FutureWarning: Dropping of nuisance columns in DataFrame reductions (with 'numeric_only=None') is deprecated; in a future version this will raise TypeError.  Select only valid columns before calling the reduction.\n",
            "  \"\"\"Entry point for launching an IPython kernel.\n"
          ]
        }
      ]
    },
    {
      "cell_type": "code",
      "source": [
        "nobj_sk"
      ],
      "metadata": {
        "colab": {
          "base_uri": "https://localhost:8080/"
        },
        "id": "Qp7lOVjc5H_M",
        "outputId": "3ecad594-98a3-4fa1-b007-5ed5f713a12c"
      },
      "execution_count": 44,
      "outputs": [
        {
          "output_type": "execute_result",
          "data": {
            "text/plain": [
              "LotFrontage       2.445214\n",
              "LotArea          12.492275\n",
              "MasVnrArea        2.575693\n",
              "BsmtFinSF1        1.741768\n",
              "BsmtFinSF2        4.246175\n",
              "TotalBsmtSF       1.505617\n",
              "1stFlrSF          1.338154\n",
              "LowQualFinSF      9.131154\n",
              "GrLivArea         1.212964\n",
              "BsmtHalfBath      4.099060\n",
              "KitchenAbvGr      4.449593\n",
              "WoodDeckSF        1.571425\n",
              "OpenPorchSF       2.421522\n",
              "EnclosedPorch     3.073212\n",
              "3SsnPorch        10.224468\n",
              "ScreenPorch       4.149834\n",
              "PoolArea         15.972710\n",
              "MiscVal          24.292361\n",
              "PriceperSft       6.384356\n",
              "LWRatio           5.183321\n",
              "dtype: float64"
            ]
          },
          "metadata": {},
          "execution_count": 44
        }
      ]
    },
    {
      "cell_type": "code",
      "source": [
        "# Get continuous variable skewed columns\n",
        "\n",
        "skew_cols = nobj_sk.index.tolist()"
      ],
      "metadata": {
        "id": "XezAsmsG63Ll"
      },
      "execution_count": 45,
      "outputs": []
    },
    {
      "cell_type": "code",
      "source": [
        "skew_cols"
      ],
      "metadata": {
        "colab": {
          "base_uri": "https://localhost:8080/"
        },
        "id": "TZdN4Lol_hlm",
        "outputId": "8e037b27-6171-4feb-8d00-e717afc26fad"
      },
      "execution_count": 46,
      "outputs": [
        {
          "output_type": "execute_result",
          "data": {
            "text/plain": [
              "['LotFrontage',\n",
              " 'LotArea',\n",
              " 'MasVnrArea',\n",
              " 'BsmtFinSF1',\n",
              " 'BsmtFinSF2',\n",
              " 'TotalBsmtSF',\n",
              " '1stFlrSF',\n",
              " 'LowQualFinSF',\n",
              " 'GrLivArea',\n",
              " 'BsmtHalfBath',\n",
              " 'KitchenAbvGr',\n",
              " 'WoodDeckSF',\n",
              " 'OpenPorchSF',\n",
              " 'EnclosedPorch',\n",
              " '3SsnPorch',\n",
              " 'ScreenPorch',\n",
              " 'PoolArea',\n",
              " 'MiscVal',\n",
              " 'PriceperSft',\n",
              " 'LWRatio']"
            ]
          },
          "metadata": {},
          "execution_count": 46
        }
      ]
    },
    {
      "cell_type": "code",
      "source": [
        "# Do log correction to skewed columns\n",
        "\n",
        "chk = abs(np.log(df[skew_cols]).skew())\n",
        "logcols = chk[(chk<=1)&(chk>=-1)].index.tolist()\n",
        "balcols = [x for x in skew_cols if x not in logcols]"
      ],
      "metadata": {
        "id": "PXU1WlIvAugd"
      },
      "execution_count": 47,
      "outputs": []
    },
    {
      "cell_type": "code",
      "source": [
        "logcols"
      ],
      "metadata": {
        "colab": {
          "base_uri": "https://localhost:8080/"
        },
        "id": "l_2o4CKQVSoY",
        "outputId": "5248dff7-3352-4170-8474-1cdf7b314dcc"
      },
      "execution_count": 48,
      "outputs": [
        {
          "output_type": "execute_result",
          "data": {
            "text/plain": [
              "['LotFrontage', 'LotArea', '1stFlrSF', 'GrLivArea', 'PriceperSft', 'LWRatio']"
            ]
          },
          "metadata": {},
          "execution_count": 48
        }
      ]
    },
    {
      "cell_type": "code",
      "source": [
        "balcols   #Balance columns after log correction"
      ],
      "metadata": {
        "colab": {
          "base_uri": "https://localhost:8080/"
        },
        "id": "m3EvxPsvUNeq",
        "outputId": "208e0ba6-7b8a-46e6-fd40-3a47181c6d49"
      },
      "execution_count": 49,
      "outputs": [
        {
          "output_type": "execute_result",
          "data": {
            "text/plain": [
              "['MasVnrArea',\n",
              " 'BsmtFinSF1',\n",
              " 'BsmtFinSF2',\n",
              " 'TotalBsmtSF',\n",
              " 'LowQualFinSF',\n",
              " 'BsmtHalfBath',\n",
              " 'KitchenAbvGr',\n",
              " 'WoodDeckSF',\n",
              " 'OpenPorchSF',\n",
              " 'EnclosedPorch',\n",
              " '3SsnPorch',\n",
              " 'ScreenPorch',\n",
              " 'PoolArea',\n",
              " 'MiscVal']"
            ]
          },
          "metadata": {},
          "execution_count": 49
        }
      ]
    },
    {
      "cell_type": "code",
      "source": [
        "# Do square root correction to balance columns\n",
        "\n",
        "chk = abs(np.sqrt(df[balcols]).skew())\n",
        "sqrtcols = chk[(chk<=1) & (chk>=-1)].index.tolist()\n",
        "balcols1 = [x for x in balcols if x not in sqrtcols]\n",
        "balcols1      # balance columns after square root correction"
      ],
      "metadata": {
        "colab": {
          "base_uri": "https://localhost:8080/"
        },
        "id": "oXA3OatpKQqW",
        "outputId": "46f9b52b-73ba-480a-81c8-9b4c247ae70d"
      },
      "execution_count": 50,
      "outputs": [
        {
          "output_type": "execute_result",
          "data": {
            "text/plain": [
              "['MasVnrArea',\n",
              " 'BsmtFinSF2',\n",
              " 'TotalBsmtSF',\n",
              " 'LowQualFinSF',\n",
              " 'BsmtHalfBath',\n",
              " 'KitchenAbvGr',\n",
              " 'EnclosedPorch',\n",
              " '3SsnPorch',\n",
              " 'ScreenPorch',\n",
              " 'PoolArea',\n",
              " 'MiscVal']"
            ]
          },
          "metadata": {},
          "execution_count": 50
        }
      ]
    },
    {
      "cell_type": "code",
      "source": [
        "sqrtcols"
      ],
      "metadata": {
        "colab": {
          "base_uri": "https://localhost:8080/"
        },
        "id": "3LYRE38XViic",
        "outputId": "0d059642-8a46-41f5-fb22-822f4f6a5ae2"
      },
      "execution_count": 51,
      "outputs": [
        {
          "output_type": "execute_result",
          "data": {
            "text/plain": [
              "['BsmtFinSF1', 'WoodDeckSF', 'OpenPorchSF']"
            ]
          },
          "metadata": {},
          "execution_count": 51
        }
      ]
    },
    {
      "cell_type": "code",
      "source": [
        "# Check inverting transformation\n",
        "\n",
        "chk = pd.DataFrame()\n",
        "chk[balcols1] = np.where(df[balcols1]==0,0,1/df[balcols1])\n",
        "skw = chk.skew()\n",
        "invcols = skw[(skw<=1) & (~skw.isna()) & (skw>=-1)].index.tolist()\n",
        "balcols2 = [x for x in balcols1 if x not in invcols]\n",
        "balcols2      # balance columns after invert transformation"
      ],
      "metadata": {
        "colab": {
          "base_uri": "https://localhost:8080/"
        },
        "id": "0djrpPmEV6cF",
        "outputId": "eb79334d-c4e5-4c4f-d9b5-822b1f430294"
      },
      "execution_count": 52,
      "outputs": [
        {
          "output_type": "execute_result",
          "data": {
            "text/plain": [
              "['MasVnrArea',\n",
              " 'BsmtFinSF2',\n",
              " 'TotalBsmtSF',\n",
              " 'LowQualFinSF',\n",
              " 'BsmtHalfBath',\n",
              " 'KitchenAbvGr',\n",
              " 'EnclosedPorch',\n",
              " '3SsnPorch',\n",
              " 'ScreenPorch',\n",
              " 'PoolArea',\n",
              " 'MiscVal']"
            ]
          },
          "metadata": {},
          "execution_count": 52
        }
      ]
    },
    {
      "cell_type": "code",
      "source": [
        "invcols"
      ],
      "metadata": {
        "colab": {
          "base_uri": "https://localhost:8080/"
        },
        "id": "x2kYRpMMXAFr",
        "outputId": "a877ae66-9086-4483-ae1c-96fb89a37b7a"
      },
      "execution_count": 53,
      "outputs": [
        {
          "output_type": "execute_result",
          "data": {
            "text/plain": [
              "[]"
            ]
          },
          "metadata": {},
          "execution_count": 53
        }
      ]
    },
    {
      "cell_type": "code",
      "source": [
        "# Drop columns with high skew and cannot be transformed.\n",
        "\n",
        "df1 = df.copy() # Create a copy before dropping columns\n",
        "df.drop(balcols2, axis = 1, inplace = True)"
      ],
      "metadata": {
        "id": "bMIzzwEEKxD6"
      },
      "execution_count": 54,
      "outputs": []
    },
    {
      "cell_type": "code",
      "source": [
        "df.skew()"
      ],
      "metadata": {
        "colab": {
          "base_uri": "https://localhost:8080/"
        },
        "id": "ERe-GrZ0TXW7",
        "outputId": "e65cdcb8-82ba-448b-deb5-ccc6e34c1a31"
      },
      "execution_count": 55,
      "outputs": [
        {
          "output_type": "stream",
          "name": "stderr",
          "text": [
            "/usr/local/lib/python3.7/dist-packages/ipykernel_launcher.py:1: FutureWarning: Dropping of nuisance columns in DataFrame reductions (with 'numeric_only=None') is deprecated; in a future version this will raise TypeError.  Select only valid columns before calling the reduction.\n",
            "  \"\"\"Entry point for launching an IPython kernel.\n"
          ]
        },
        {
          "output_type": "execute_result",
          "data": {
            "text/plain": [
              "Id              -0.001924\n",
              "LotFrontage      2.445214\n",
              "LotArea         12.492275\n",
              "OverallQual      0.118781\n",
              "OverallCond      0.665948\n",
              "Age              0.594878\n",
              "AgeRemod         0.483091\n",
              "BsmtFinSF1       1.741768\n",
              "BsmtUnfSF        0.906259\n",
              "1stFlrSF         1.338154\n",
              "2ndFlrSF         0.760518\n",
              "GrLivArea        1.212964\n",
              "BsmtFullBath     0.620219\n",
              "FullBath        -0.022551\n",
              "HalfBath         0.706305\n",
              "BedroomAbvGr     0.231567\n",
              "TotRmsAbvGrd     0.624132\n",
              "Fireplaces       0.668935\n",
              "AgeGarage        0.653187\n",
              "GarageCars      -0.355639\n",
              "GarageArea       0.149517\n",
              "WoodDeckSF       1.571425\n",
              "OpenPorchSF      2.421522\n",
              "SalePrice        1.001684\n",
              "PriceperSft      6.384356\n",
              "LWRatio          5.183321\n",
              "dtype: float64"
            ]
          },
          "metadata": {},
          "execution_count": 55
        }
      ]
    },
    {
      "cell_type": "markdown",
      "source": [
        "## Check effect of different object variables with sale price"
      ],
      "metadata": {
        "id": "U9jFz7DZL3Gl"
      }
    },
    {
      "cell_type": "code",
      "source": [
        "obj = df.columns[df.dtypes=='O']\n",
        "obj.to_list()"
      ],
      "metadata": {
        "colab": {
          "base_uri": "https://localhost:8080/"
        },
        "id": "7HyGuui-LCPV",
        "outputId": "dfc18c7b-70f7-4cb9-dfbf-5509f184af03"
      },
      "execution_count": null,
      "outputs": [
        {
          "output_type": "execute_result",
          "data": {
            "text/plain": [
              "['MSSubClass',\n",
              " 'MSZoning',\n",
              " 'LotShape',\n",
              " 'LandContour',\n",
              " 'LotConfig',\n",
              " 'Neighborhood',\n",
              " 'Condition1',\n",
              " 'BldgType',\n",
              " 'HouseStyle',\n",
              " 'RoofStyle',\n",
              " 'Exterior1st',\n",
              " 'Exterior2nd',\n",
              " 'MasVnrType',\n",
              " 'ExterQual',\n",
              " 'ExterCond',\n",
              " 'Foundation',\n",
              " 'BsmtQual',\n",
              " 'BsmtExposure',\n",
              " 'BsmtFinType1',\n",
              " 'BsmtFinType2',\n",
              " 'HeatingQC',\n",
              " 'KitchenQual',\n",
              " 'FireplaceQu',\n",
              " 'GarageType',\n",
              " 'GarageFinish',\n",
              " 'SaleType',\n",
              " 'SaleCondition']"
            ]
          },
          "metadata": {},
          "execution_count": 686
        }
      ]
    },
    {
      "cell_type": "code",
      "source": [
        "len(obj)"
      ],
      "metadata": {
        "colab": {
          "base_uri": "https://localhost:8080/"
        },
        "id": "FqOtfVi3Mug9",
        "outputId": "6ffd30aa-e608-4134-d8cd-c25f45cfb2d5"
      },
      "execution_count": null,
      "outputs": [
        {
          "output_type": "execute_result",
          "data": {
            "text/plain": [
              "27"
            ]
          },
          "metadata": {},
          "execution_count": 687
        }
      ]
    },
    {
      "cell_type": "code",
      "source": [
        "df[obj].isna().sum()"
      ],
      "metadata": {
        "colab": {
          "base_uri": "https://localhost:8080/"
        },
        "id": "hrz5u1xNN019",
        "outputId": "d6eb19fb-9c51-4504-b3ee-6d314c706002"
      },
      "execution_count": null,
      "outputs": [
        {
          "output_type": "execute_result",
          "data": {
            "text/plain": [
              "MSSubClass       0\n",
              "MSZoning         0\n",
              "LotShape         0\n",
              "LandContour      0\n",
              "LotConfig        0\n",
              "Neighborhood     0\n",
              "Condition1       0\n",
              "BldgType         0\n",
              "HouseStyle       0\n",
              "RoofStyle        0\n",
              "Exterior1st      0\n",
              "Exterior2nd      0\n",
              "MasVnrType       0\n",
              "ExterQual        0\n",
              "ExterCond        0\n",
              "Foundation       0\n",
              "BsmtQual         0\n",
              "BsmtExposure     0\n",
              "BsmtFinType1     0\n",
              "BsmtFinType2     0\n",
              "HeatingQC        0\n",
              "KitchenQual      0\n",
              "FireplaceQu      0\n",
              "GarageType       0\n",
              "GarageFinish     0\n",
              "SaleType         0\n",
              "SaleCondition    0\n",
              "dtype: int64"
            ]
          },
          "metadata": {},
          "execution_count": 688
        }
      ]
    },
    {
      "cell_type": "code",
      "source": [
        "for i in range(len(obj)):\n",
        "  x = df[obj[i]]\n",
        "  y = df['SalePrice']\n",
        "  plt.figure(i)\n",
        "  plt.figure(figsize = (15,5))\n",
        "  plt.xticks(rotation = 45)\n",
        "  sns.barplot(x=x,y=y,data = df)"
      ],
      "metadata": {
        "colab": {
          "base_uri": "https://localhost:8080/",
          "height": 1000
        },
        "id": "q4zRXRG2MzWA",
        "outputId": "ed438049-4018-46a9-ebcf-d72915a695be"
      },
      "execution_count": null,
      "outputs": [
        {
          "output_type": "stream",
          "name": "stderr",
          "text": [
            "/usr/local/lib/python3.7/dist-packages/ipykernel_launcher.py:5: RuntimeWarning: More than 20 figures have been opened. Figures created through the pyplot interface (`matplotlib.pyplot.figure`) are retained until explicitly closed and may consume too much memory. (To control this warning, see the rcParam `figure.max_open_warning`).\n",
            "  \"\"\"\n",
            "/usr/local/lib/python3.7/dist-packages/ipykernel_launcher.py:5: RuntimeWarning: More than 20 figures have been opened. Figures created through the pyplot interface (`matplotlib.pyplot.figure`) are retained until explicitly closed and may consume too much memory. (To control this warning, see the rcParam `figure.max_open_warning`).\n",
            "  \"\"\"\n",
            "/usr/local/lib/python3.7/dist-packages/ipykernel_launcher.py:5: RuntimeWarning: More than 20 figures have been opened. Figures created through the pyplot interface (`matplotlib.pyplot.figure`) are retained until explicitly closed and may consume too much memory. (To control this warning, see the rcParam `figure.max_open_warning`).\n",
            "  \"\"\"\n",
            "/usr/local/lib/python3.7/dist-packages/ipykernel_launcher.py:5: RuntimeWarning: More than 20 figures have been opened. Figures created through the pyplot interface (`matplotlib.pyplot.figure`) are retained until explicitly closed and may consume too much memory. (To control this warning, see the rcParam `figure.max_open_warning`).\n",
            "  \"\"\"\n",
            "/usr/local/lib/python3.7/dist-packages/ipykernel_launcher.py:5: RuntimeWarning: More than 20 figures have been opened. Figures created through the pyplot interface (`matplotlib.pyplot.figure`) are retained until explicitly closed and may consume too much memory. (To control this warning, see the rcParam `figure.max_open_warning`).\n",
            "  \"\"\"\n",
            "/usr/local/lib/python3.7/dist-packages/ipykernel_launcher.py:5: RuntimeWarning: More than 20 figures have been opened. Figures created through the pyplot interface (`matplotlib.pyplot.figure`) are retained until explicitly closed and may consume too much memory. (To control this warning, see the rcParam `figure.max_open_warning`).\n",
            "  \"\"\"\n",
            "/usr/local/lib/python3.7/dist-packages/ipykernel_launcher.py:5: RuntimeWarning: More than 20 figures have been opened. Figures created through the pyplot interface (`matplotlib.pyplot.figure`) are retained until explicitly closed and may consume too much memory. (To control this warning, see the rcParam `figure.max_open_warning`).\n",
            "  \"\"\"\n",
            "/usr/local/lib/python3.7/dist-packages/ipykernel_launcher.py:5: RuntimeWarning: More than 20 figures have been opened. Figures created through the pyplot interface (`matplotlib.pyplot.figure`) are retained until explicitly closed and may consume too much memory. (To control this warning, see the rcParam `figure.max_open_warning`).\n",
            "  \"\"\"\n"
          ]
        },
        {
          "output_type": "display_data",
          "data": {
            "text/plain": [
              "<Figure size 432x288 with 0 Axes>"
            ]
          },
          "metadata": {}
        },
        {
          "output_type": "display_data",
          "data": {
            "image/png": "[encoded data removed]",
            "text/plain": [
              "<Figure size 1080x360 with 1 Axes>"
            ]
          },
          "metadata": {
            "needs_background": "light"
          }
        },
        {
          "output_type": "display_data",
          "data": {
            "image/png": "[encoded data removed]",
            "text/plain": [
              "<Figure size 1080x360 with 1 Axes>"
            ]
          },
          "metadata": {
            "needs_background": "light"
          }
        },
        {
          "output_type": "display_data",
          "data": {
            "image/png": "[encoded data removed]",
            "text/plain": [
              "<Figure size 1080x360 with 1 Axes>"
            ]
          },
          "metadata": {
            "needs_background": "light"
          }
        },
        {
          "output_type": "display_data",
          "data": {
            "image/png": "[encoded data removed]",
            "text/plain": [
              "<Figure size 1080x360 with 1 Axes>"
            ]
          },
          "metadata": {
            "needs_background": "light"
          }
        },
        {
          "output_type": "display_data",
          "data": {
            "image/png": "[encoded data removed]",
            "text/plain": [
              "<Figure size 1080x360 with 1 Axes>"
            ]
          },
          "metadata": {
            "needs_background": "light"
          }
        },
        {
          "output_type": "display_data",
          "data": {
            "image/png": "[encoded data removed]",
            "text/plain": [
              "<Figure size 1080x360 with 1 Axes>"
            ]
          },
          "metadata": {
            "needs_background": "light"
          }
        },
        {
          "output_type": "display_data",
          "data": {
            "image/png": "[encoded data removed]",
            "text/plain": [
              "<Figure size 1080x360 with 1 Axes>"
            ]
          },
          "metadata": {
            "needs_background": "light"
          }
        },
        {
          "output_type": "display_data",
          "data": {
            "image/png": "[encoded data removed]",
            "text/plain": [
              "<Figure size 1080x360 with 1 Axes>"
            ]
          },
          "metadata": {
            "needs_background": "light"
          }
        },
        {
          "output_type": "display_data",
          "data": {
            "image/png": "[encoded data removed]",
            "text/plain": [
              "<Figure size 1080x360 with 1 Axes>"
            ]
          },
          "metadata": {
            "needs_background": "light"
          }
        },
        {
          "output_type": "display_data",
          "data": {
            "image/png": "[encoded data removed]",
            "text/plain": [
              "<Figure size 1080x360 with 1 Axes>"
            ]
          },
          "metadata": {
            "needs_background": "light"
          }
        },
        {
          "output_type": "display_data",
          "data": {
            "image/png": "[encoded data removed]",
            "text/plain": [
              "<Figure size 1080x360 with 1 Axes>"
            ]
          },
          "metadata": {
            "needs_background": "light"
          }
        },
        {
          "output_type": "display_data",
          "data": {
            "image/png": "[encoded data removed]",
            "text/plain": [
              "<Figure size 1080x360 with 1 Axes>"
            ]
          },
          "metadata": {
            "needs_background": "light"
          }
        },
        {
          "output_type": "display_data",
          "data": {
            "image/png": "[encoded data removed]",
            "text/plain": [
              "<Figure size 1080x360 with 1 Axes>"
            ]
          },
          "metadata": {
            "needs_background": "light"
          }
        },
        {
          "output_type": "display_data",
          "data": {
            "image/png": "[encoded data removed]",
            "text/plain": [
              "<Figure size 1080x360 with 1 Axes>"
            ]
          },
          "metadata": {
            "needs_background": "light"
          }
        },
        {
          "output_type": "display_data",
          "data": {
            "image/png": "[encoded data removed]",
            "text/plain": [
              "<Figure size 1080x360 with 1 Axes>"
            ]
          },
          "metadata": {
            "needs_background": "light"
          }
        },
        {
          "output_type": "display_data",
          "data": {
            "image/png": "[encoded data removed]",
            "text/plain": [
              "<Figure size 1080x360 with 1 Axes>"
            ]
          },
          "metadata": {
            "needs_background": "light"
          }
        },
        {
          "output_type": "display_data",
          "data": {
            "image/png": "[encoded data removed]",
            "text/plain": [
              "<Figure size 1080x360 with 1 Axes>"
            ]
          },
          "metadata": {
            "needs_background": "light"
          }
        },
        {
          "output_type": "display_data",
          "data": {
            "image/png": "[encoded data removed]",
            "text/plain": [
              "<Figure size 1080x360 with 1 Axes>"
            ]
          },
          "metadata": {
            "needs_background": "light"
          }
        },
        {
          "output_type": "display_data",
          "data": {
            "image/png": "[encoded data removed]",
            "text/plain": [
              "<Figure size 1080x360 with 1 Axes>"
            ]
          },
          "metadata": {
            "needs_background": "light"
          }
        },
        {
          "output_type": "display_data",
          "data": {
            "image/png": "[encoded data removed]",
            "text/plain": [
              "<Figure size 1080x360 with 1 Axes>"
            ]
          },
          "metadata": {
            "needs_background": "light"
          }
        },
        {
          "output_type": "display_data",
          "data": {
            "image/png": "[encoded data removed]",
            "text/plain": [
              "<Figure size 1080x360 with 1 Axes>"
            ]
          },
          "metadata": {
            "needs_background": "light"
          }
        },
        {
          "output_type": "display_data",
          "data": {
            "image/png": "[encoded data removed]",
            "text/plain": [
              "<Figure size 1080x360 with 1 Axes>"
            ]
          },
          "metadata": {
            "needs_background": "light"
          }
        },
        {
          "output_type": "display_data",
          "data": {
            "image/png": "[encoded data removed]",
            "text/plain": [
              "<Figure size 1080x360 with 1 Axes>"
            ]
          },
          "metadata": {
            "needs_background": "light"
          }
        },
        {
          "output_type": "display_data",
          "data": {
            "image/png": "[encoded data removed]",
            "text/plain": [
              "<Figure size 1080x360 with 1 Axes>"
            ]
          },
          "metadata": {
            "needs_background": "light"
          }
        },
        {
          "output_type": "display_data",
          "data": {
            "image/png": "[encoded data removed]",
            "text/plain": [
              "<Figure size 1080x360 with 1 Axes>"
            ]
          },
          "metadata": {
            "needs_background": "light"
          }
        },
        {
          "output_type": "display_data",
          "data": {
            "image/png": "[encoded data removed]",
            "text/plain": [
              "<Figure size 1080x360 with 1 Axes>"
            ]
          },
          "metadata": {
            "needs_background": "light"
          }
        },
        {
          "output_type": "display_data",
          "data": {
            "image/png": "[encoded data removed]",
            "text/plain": [
              "<Figure size 1080x360 with 1 Axes>"
            ]
          },
          "metadata": {
            "needs_background": "light"
          }
        }
      ]
    },
    {
      "cell_type": "markdown",
      "source": [
        "### Observations\n",
        "Highest sale prices have the following characteristics: -\n",
        "1. 2 story buildings built after 1946.\n",
        "2. Floating Village type zoning.\n",
        "3. Irregular 3 type lot shape.\n",
        "4. Hillside with significant slope.\n",
        "5. Frontage with 3 sides of property.\n",
        "6. Northridge neighbourhood.\n",
        "7. Within 200' of North-South railroad.\n",
        "8. Townhouse End unit.\n",
        "9. Shed type roof style.\n",
        "10. Stone type exterior and masonry veneer.\n",
        "11. Excellent quality exterior, basement, heating, kitchen and fireplace.\n",
        "12. Poured concrete type foundation.\n",
        "13. Good exposure of basement.\n",
        "14. Good living quarter for basement finished area and average living quarters for second basement.\n",
        "15. Garage built-in part of the house.\n",
        "16. Contract sale type with 15% down payment, followed by new condition house.\n",
        "17. Partially built house."
      ],
      "metadata": {
        "id": "4ATKUT3ebcat"
      }
    },
    {
      "cell_type": "code",
      "source": [
        "# Plot sale price against year sold\n",
        "\n",
        "plt.figure(figsize = (15,8))\n",
        "x = df['DateSold'].dt.year\n",
        "y = df['SalePrice']\n",
        "sns.barplot(x = x, y = y, data = df, hue = 'MSZoning')"
      ],
      "metadata": {
        "colab": {
          "base_uri": "https://localhost:8080/",
          "height": 477
        },
        "id": "9yf5-qeOXrAn",
        "outputId": "00e9bc5e-9d83-410b-c996-5120317a9c45"
      },
      "execution_count": null,
      "outputs": [
        {
          "output_type": "execute_result",
          "data": {
            "text/plain": [
              "<matplotlib.axes._subplots.AxesSubplot at 0x7f6385c08350>"
            ]
          },
          "metadata": {},
          "execution_count": 690
        },
        {
          "output_type": "display_data",
          "data": {
            "image/png": "[encoded data removed]",
            "text/plain": [
              "<Figure size 1080x576 with 1 Axes>"
            ]
          },
          "metadata": {
            "needs_background": "light"
          }
        }
      ]
    },
    {
      "cell_type": "code",
      "source": [
        "df.groupby(df['DateSold'].dt.year)['SalePrice'].sum().sort_values()"
      ],
      "metadata": {
        "colab": {
          "base_uri": "https://localhost:8080/"
        },
        "id": "2tWjWMTwe7qM",
        "outputId": "333c1f62-0e53-4cee-8329-501e795f2ca3"
      },
      "execution_count": null,
      "outputs": [
        {
          "output_type": "execute_result",
          "data": {
            "text/plain": [
              "DateSold\n",
              "2010    29894236\n",
              "2008    53045434\n",
              "2006    53900015\n",
              "2007    57953407\n",
              "2009    58071331\n",
              "Name: SalePrice, dtype: int64"
            ]
          },
          "metadata": {},
          "execution_count": 691
        }
      ]
    },
    {
      "cell_type": "code",
      "source": [
        "df.groupby(df['DateSold'].dt.year)['SalePrice'].count().sort_values()"
      ],
      "metadata": {
        "colab": {
          "base_uri": "https://localhost:8080/"
        },
        "id": "jafO0E3bfjY9",
        "outputId": "1df5115c-1cd8-4fed-e672-7b5baed88f7d"
      },
      "execution_count": null,
      "outputs": [
        {
          "output_type": "execute_result",
          "data": {
            "text/plain": [
              "DateSold\n",
              "2010    173\n",
              "2008    302\n",
              "2006    307\n",
              "2007    323\n",
              "2009    333\n",
              "Name: SalePrice, dtype: int64"
            ]
          },
          "metadata": {},
          "execution_count": 692
        }
      ]
    },
    {
      "cell_type": "code",
      "source": [
        "avg_sales = pd.DataFrame(df.groupby(df['DateSold'].dt.year)['SalePrice'].sum()/\\\n",
        "                         df.groupby(df['DateSold'].dt.year)['SalePrice'].count())"
      ],
      "metadata": {
        "id": "QQMA4rFKf5Pp"
      },
      "execution_count": null,
      "outputs": []
    },
    {
      "cell_type": "code",
      "source": [
        "avg_sales.sort_values('SalePrice')"
      ],
      "metadata": {
        "colab": {
          "base_uri": "https://localhost:8080/",
          "height": 238
        },
        "id": "VqmusNKWgL48",
        "outputId": "21ef1048-d95f-4301-ac88-55c84c6a7408"
      },
      "execution_count": null,
      "outputs": [
        {
          "output_type": "execute_result",
          "data": {
            "text/html": [
              "\n",
              "  <div id=\"df-8a2f9d8b-bc2d-49c1-8b93-42ab51d521ba\">\n",
              "    <div class=\"colab-df-container\">\n",
              "      <div>\n",
              "<style scoped>\n",
              "    .dataframe tbody tr th:only-of-type {\n",
              "        vertical-align: middle;\n",
              "    }\n",
              "\n",
              "    .dataframe tbody tr th {\n",
              "        vertical-align: top;\n",
              "    }\n",
              "\n",
              "    .dataframe thead th {\n",
              "        text-align: right;\n",
              "    }\n",
              "</style>\n",
              "<table border=\"1\" class=\"dataframe\">\n",
              "  <thead>\n",
              "    <tr style=\"text-align: right;\">\n",
              "      <th></th>\n",
              "      <th>SalePrice</th>\n",
              "    </tr>\n",
              "    <tr>\n",
              "      <th>DateSold</th>\n",
              "      <th></th>\n",
              "    </tr>\n",
              "  </thead>\n",
              "  <tbody>\n",
              "    <tr>\n",
              "      <th>2010</th>\n",
              "      <td>172799.052023</td>\n",
              "    </tr>\n",
              "    <tr>\n",
              "      <th>2009</th>\n",
              "      <td>174388.381381</td>\n",
              "    </tr>\n",
              "    <tr>\n",
              "      <th>2006</th>\n",
              "      <td>175570.081433</td>\n",
              "    </tr>\n",
              "    <tr>\n",
              "      <th>2008</th>\n",
              "      <td>175647.132450</td>\n",
              "    </tr>\n",
              "    <tr>\n",
              "      <th>2007</th>\n",
              "      <td>179422.312693</td>\n",
              "    </tr>\n",
              "  </tbody>\n",
              "</table>\n",
              "</div>\n",
              "      <button class=\"colab-df-convert\" onclick=\"convertToInteractive('df-8a2f9d8b-bc2d-49c1-8b93-42ab51d521ba')\"\n",
              "              title=\"Convert this dataframe to an interactive table.\"\n",
              "              style=\"display:none;\">\n",
              "        \n",
              "  <svg xmlns=\"http://www.w3.org/2000/svg\" height=\"24px\"viewBox=\"0 0 24 24\"\n",
              "       width=\"24px\">\n",
              "    <path d=\"M0 0h24v24H0V0z\" fill=\"none\"/>\n",
              "    <path d=\"M18.56 5.44l.94 2.06.94-2.06 2.06-.94-2.06-.94-.94-2.06-.94 2.06-2.06.94zm-11 1L8.5 8.5l.94-2.06 2.06-.94-2.06-.94L8.5 2.5l-.94 2.06-2.06.94zm10 10l.94 2.06.94-2.06 2.06-.94-2.06-.94-.94-2.06-.94 2.06-2.06.94z\"/><path d=\"M17.41 7.96l-1.37-1.37c-.4-.4-.92-.59-1.43-.59-.52 0-1.04.2-1.43.59L10.3 9.45l-7.72 7.72c-.78.78-.78 2.05 0 2.83L4 21.41c.39.39.9.59 1.41.59.51 0 1.02-.2 1.41-.59l7.78-7.78 2.81-2.81c.8-.78.8-2.07 0-2.86zM5.41 20L4 18.59l7.72-7.72 1.47 1.35L5.41 20z\"/>\n",
              "  </svg>\n",
              "      </button>\n",
              "      \n",
              "  <style>\n",
              "    .colab-df-container {\n",
              "      display:flex;\n",
              "      flex-wrap:wrap;\n",
              "      gap: 12px;\n",
              "    }\n",
              "\n",
              "    .colab-df-convert {\n",
              "      background-color: #E8F0FE;\n",
              "      border: none;\n",
              "      border-radius: 50%;\n",
              "      cursor: pointer;\n",
              "      display: none;\n",
              "      fill: #1967D2;\n",
              "      height: 32px;\n",
              "      padding: 0 0 0 0;\n",
              "      width: 32px;\n",
              "    }\n",
              "\n",
              "    .colab-df-convert:hover {\n",
              "      background-color: #E2EBFA;\n",
              "      box-shadow: 0px 1px 2px rgba(60, 64, 67, 0.3), 0px 1px 3px 1px rgba(60, 64, 67, 0.15);\n",
              "      fill: #174EA6;\n",
              "    }\n",
              "\n",
              "    [theme=dark] .colab-df-convert {\n",
              "      background-color: #3B4455;\n",
              "      fill: #D2E3FC;\n",
              "    }\n",
              "\n",
              "    [theme=dark] .colab-df-convert:hover {\n",
              "      background-color: #434B5C;\n",
              "      box-shadow: 0px 1px 3px 1px rgba(0, 0, 0, 0.15);\n",
              "      filter: drop-shadow(0px 1px 2px rgba(0, 0, 0, 0.3));\n",
              "      fill: #FFFFFF;\n",
              "    }\n",
              "  </style>\n",
              "\n",
              "      <script>\n",
              "        const buttonEl =\n",
              "          document.querySelector('#df-8a2f9d8b-bc2d-49c1-8b93-42ab51d521ba button.colab-df-convert');\n",
              "        buttonEl.style.display =\n",
              "          google.colab.kernel.accessAllowed ? 'block' : 'none';\n",
              "\n",
              "        async function convertToInteractive(key) {\n",
              "          const element = document.querySelector('#df-8a2f9d8b-bc2d-49c1-8b93-42ab51d521ba');\n",
              "          const dataTable =\n",
              "            await google.colab.kernel.invokeFunction('convertToInteractive',\n",
              "                                                     [key], {});\n",
              "          if (!dataTable) return;\n",
              "\n",
              "          const docLinkHtml = 'Like what you see? Visit the ' +\n",
              "            '<a target=\"_blank\" href=https://colab.research.google.com/notebooks/data_table.ipynb>data table notebook</a>'\n",
              "            + ' to learn more about interactive tables.';\n",
              "          element.innerHTML = '';\n",
              "          dataTable['output_type'] = 'display_data';\n",
              "          await google.colab.output.renderOutput(dataTable, element);\n",
              "          const docLink = document.createElement('div');\n",
              "          docLink.innerHTML = docLinkHtml;\n",
              "          element.appendChild(docLink);\n",
              "        }\n",
              "      </script>\n",
              "    </div>\n",
              "  </div>\n",
              "  "
            ],
            "text/plain": [
              "              SalePrice\n",
              "DateSold               \n",
              "2010      172799.052023\n",
              "2009      174388.381381\n",
              "2006      175570.081433\n",
              "2008      175647.132450\n",
              "2007      179422.312693"
            ]
          },
          "metadata": {},
          "execution_count": 694
        }
      ]
    },
    {
      "cell_type": "markdown",
      "source": [
        "### Observations\n",
        "1. Maximum sales volume was observed in the year 2009 followed by 2007. Least sales was observed in the year 2010.\n",
        "2. Average sales volume was observed in the year 2007 followed by 2008. Least average sales volume was observed in the year 2010 followed by 2009."
      ],
      "metadata": {
        "id": "hwJElqDReZao"
      }
    },
    {
      "cell_type": "code",
      "source": [
        "# Observe sales over age of buildings.\n",
        "\n",
        "x = pd.qcut(df['Age'], q = 10)\n",
        "x"
      ],
      "metadata": {
        "colab": {
          "base_uri": "https://localhost:8080/"
        },
        "id": "3h7r9WYWaCU6",
        "outputId": "2d6a6938-e74d-404d-a8ac-92b802d0b856"
      },
      "execution_count": null,
      "outputs": [
        {
          "output_type": "execute_result",
          "data": {
            "text/plain": [
              "0        (14.0, 17.0]\n",
              "1        (38.0, 48.0]\n",
              "2        (17.0, 23.0]\n",
              "3       (96.0, 148.0]\n",
              "4        (17.0, 23.0]\n",
              "            ...      \n",
              "1455     (17.0, 23.0]\n",
              "1456     (38.0, 48.0]\n",
              "1457     (73.0, 96.0]\n",
              "1458     (63.0, 73.0]\n",
              "1459     (48.0, 55.0]\n",
              "Name: Age, Length: 1438, dtype: category\n",
              "Categories (10, interval[float64, right]): [(9.999, 14.0] < (14.0, 17.0] < (17.0, 23.0] <\n",
              "                                            (23.0, 38.0] ... (55.0, 63.0] < (63.0, 73.0] <\n",
              "                                            (73.0, 96.0] < (96.0, 148.0]]"
            ]
          },
          "metadata": {},
          "execution_count": 695
        }
      ]
    },
    {
      "cell_type": "code",
      "source": [
        "plt.figure(figsize = (15,8))\n",
        "sns.barplot(x = x, y = y, data = df, hue = df['DateSold'].dt.year)"
      ],
      "metadata": {
        "colab": {
          "base_uri": "https://localhost:8080/",
          "height": 477
        },
        "id": "8ecnW2VHY1IN",
        "outputId": "e779bdb3-0240-4c57-8b0e-74e78dbc5192"
      },
      "execution_count": null,
      "outputs": [
        {
          "output_type": "execute_result",
          "data": {
            "text/plain": [
              "<matplotlib.axes._subplots.AxesSubplot at 0x7f6386c4a7d0>"
            ]
          },
          "metadata": {},
          "execution_count": 696
        },
        {
          "output_type": "display_data",
          "data": {
            "image/png": "[encoded data removed]",
            "text/plain": [
              "<Figure size 1080x576 with 1 Axes>"
            ]
          },
          "metadata": {
            "needs_background": "light"
          }
        }
      ]
    },
    {
      "cell_type": "code",
      "source": [
        "plt.figure(figsize = (15,8))\n",
        "sns.barplot(x = x, y = y, data = df, hue = 'MSZoning')"
      ],
      "metadata": {
        "colab": {
          "base_uri": "https://localhost:8080/",
          "height": 477
        },
        "id": "8KhDGzQFa84f",
        "outputId": "1d3f9250-bfbc-4aca-d4dd-434f11f529ed"
      },
      "execution_count": null,
      "outputs": [
        {
          "output_type": "execute_result",
          "data": {
            "text/plain": [
              "<matplotlib.axes._subplots.AxesSubplot at 0x7f6385197490>"
            ]
          },
          "metadata": {},
          "execution_count": 697
        },
        {
          "output_type": "display_data",
          "data": {
            "image/png": "[encoded data removed]",
            "text/plain": [
              "<Figure size 1080x576 with 1 Axes>"
            ]
          },
          "metadata": {
            "needs_background": "light"
          }
        }
      ]
    },
    {
      "cell_type": "markdown",
      "source": [
        "### Observations\n",
        "1. Maximum sales is for buildings of 14 years or less.\n",
        "2. Buildings of age 14 to 38 years have similar sale price.\n",
        "3. Buildings of age 38 to 63 years have similar sale price.\n",
        "4. Buildings older than 63 years have similar sale price."
      ],
      "metadata": {
        "id": "iwIGDD32hI-u"
      }
    },
    {
      "cell_type": "code",
      "source": [
        "nobj = df.columns[df.dtypes!='O']\n",
        "nobj = nobj.drop(['Id','SalePrice'])"
      ],
      "metadata": {
        "id": "NMWRXdQgh5DV"
      },
      "execution_count": null,
      "outputs": []
    },
    {
      "cell_type": "code",
      "source": [
        "nobj"
      ],
      "metadata": {
        "colab": {
          "base_uri": "https://localhost:8080/"
        },
        "id": "R-BgXyQLiGRJ",
        "outputId": "50ddd3af-2b6b-4474-fc04-eddd023db8a1"
      },
      "execution_count": null,
      "outputs": [
        {
          "output_type": "execute_result",
          "data": {
            "text/plain": [
              "Index(['LotFrontage', 'LotArea', 'OverallQual', 'OverallCond', 'Age',\n",
              "       'AgeRemod', 'BsmtFinSF1', 'BsmtUnfSF', '1stFlrSF', '2ndFlrSF',\n",
              "       'GrLivArea', 'BsmtFullBath', 'FullBath', 'HalfBath', 'BedroomAbvGr',\n",
              "       'TotRmsAbvGrd', 'Fireplaces', 'AgeGarage', 'GarageCars', 'GarageArea',\n",
              "       'WoodDeckSF', 'OpenPorchSF', 'DateSold', 'PriceperSft', 'LWRatio'],\n",
              "      dtype='object')"
            ]
          },
          "metadata": {},
          "execution_count": 699
        }
      ]
    },
    {
      "cell_type": "code",
      "source": [
        "# Check metrics for variance\n",
        "\n",
        "plt.figure(figsize = (15,8))\n",
        "sns.barplot(x = df['DateSold'].dt.year, y = 'PriceperSft', data = df)"
      ],
      "metadata": {
        "colab": {
          "base_uri": "https://localhost:8080/",
          "height": 485
        },
        "id": "gxIHEmiGpF2v",
        "outputId": "06bafbef-a7b0-4a75-d0a8-b70a8270b110"
      },
      "execution_count": null,
      "outputs": [
        {
          "output_type": "execute_result",
          "data": {
            "text/plain": [
              "<matplotlib.axes._subplots.AxesSubplot at 0x7f6384d74950>"
            ]
          },
          "metadata": {},
          "execution_count": 700
        },
        {
          "output_type": "display_data",
          "data": {
            "image/png": "[encoded data removed]",
            "text/plain": [
              "<Figure size 1080x576 with 1 Axes>"
            ]
          },
          "metadata": {
            "needs_background": "light"
          }
        }
      ]
    },
    {
      "cell_type": "code",
      "source": [
        "plt.figure(figsize = (15,8))\n",
        "plt.xticks(rotation = 45)\n",
        "sns.barplot(x = pd.qcut(df['LWRatio'], q = 5), y = 'SalePrice', data = df)"
      ],
      "metadata": {
        "colab": {
          "base_uri": "https://localhost:8080/",
          "height": 530
        },
        "id": "5Dw3T211poVM",
        "outputId": "44ff7084-93e8-4d10-f773-84b51e9d97d7"
      },
      "execution_count": null,
      "outputs": [
        {
          "output_type": "execute_result",
          "data": {
            "text/plain": [
              "<matplotlib.axes._subplots.AxesSubplot at 0x7f6384f8f8d0>"
            ]
          },
          "metadata": {},
          "execution_count": 701
        },
        {
          "output_type": "display_data",
          "data": {
            "image/png": "[encoded data removed]",
            "text/plain": [
              "<Figure size 1080x576 with 1 Axes>"
            ]
          },
          "metadata": {
            "needs_background": "light"
          }
        }
      ]
    },
    {
      "cell_type": "code",
      "source": [
        "plt.figure(figsize = (15,8))\n",
        "plt.xticks(rotation = 45)\n",
        "sns.barplot(x = pd.qcut(df['LotFrontage'], q = 5), y = 'SalePrice', data = df)"
      ],
      "metadata": {
        "colab": {
          "base_uri": "https://localhost:8080/",
          "height": 526
        },
        "id": "DRFGnvLBqrdm",
        "outputId": "9eff3d6f-9638-4190-8604-9e3124bf2f23"
      },
      "execution_count": null,
      "outputs": [
        {
          "output_type": "execute_result",
          "data": {
            "text/plain": [
              "<matplotlib.axes._subplots.AxesSubplot at 0x7f6384d270d0>"
            ]
          },
          "metadata": {},
          "execution_count": 702
        },
        {
          "output_type": "display_data",
          "data": {
            "image/png": "[encoded data removed]",
            "text/plain": [
              "<Figure size 1080x576 with 1 Axes>"
            ]
          },
          "metadata": {
            "needs_background": "light"
          }
        }
      ]
    },
    {
      "cell_type": "code",
      "source": [
        "nobj"
      ],
      "metadata": {
        "colab": {
          "base_uri": "https://localhost:8080/"
        },
        "id": "Z9djK4Kktb-2",
        "outputId": "210f2e3c-5b54-46b2-c299-e752d726abac"
      },
      "execution_count": null,
      "outputs": [
        {
          "output_type": "execute_result",
          "data": {
            "text/plain": [
              "Index(['LotFrontage', 'LotArea', 'OverallQual', 'OverallCond', 'Age',\n",
              "       'AgeRemod', 'BsmtFinSF1', 'BsmtUnfSF', '1stFlrSF', '2ndFlrSF',\n",
              "       'GrLivArea', 'BsmtFullBath', 'FullBath', 'HalfBath', 'BedroomAbvGr',\n",
              "       'TotRmsAbvGrd', 'Fireplaces', 'AgeGarage', 'GarageCars', 'GarageArea',\n",
              "       'WoodDeckSF', 'OpenPorchSF', 'DateSold', 'PriceperSft', 'LWRatio'],\n",
              "      dtype='object')"
            ]
          },
          "metadata": {},
          "execution_count": 703
        }
      ]
    },
    {
      "cell_type": "markdown",
      "source": [
        "## Skewed continuous variable columns treatment"
      ],
      "metadata": {
        "id": "GxjxkrZ-3l08"
      }
    },
    {
      "cell_type": "code",
      "source": [
        "# Transform columns with high skew\n",
        "\n",
        "df_orig = df.copy()\n",
        "df[logcols] = np.log(df[logcols])\n",
        "df[sqrtcols] = np.sqrt(df[sqrtcols])\n",
        "df.skew()"
      ],
      "metadata": {
        "colab": {
          "base_uri": "https://localhost:8080/"
        },
        "id": "z9MKrgOhTaQU",
        "outputId": "8bc95092-3517-4bf5-d8f7-747af21d91b1"
      },
      "execution_count": 56,
      "outputs": [
        {
          "output_type": "stream",
          "name": "stderr",
          "text": [
            "/usr/local/lib/python3.7/dist-packages/ipykernel_launcher.py:6: FutureWarning: Dropping of nuisance columns in DataFrame reductions (with 'numeric_only=None') is deprecated; in a future version this will raise TypeError.  Select only valid columns before calling the reduction.\n",
            "  \n"
          ]
        },
        {
          "output_type": "execute_result",
          "data": {
            "text/plain": [
              "Id             -0.001924\n",
              "LotFrontage    -0.954219\n",
              "LotArea        -0.152128\n",
              "OverallQual     0.118781\n",
              "OverallCond     0.665948\n",
              "Age             0.594878\n",
              "AgeRemod        0.483091\n",
              "BsmtFinSF1     -0.040423\n",
              "BsmtUnfSF       0.906259\n",
              "1stFlrSF        0.033538\n",
              "2ndFlrSF        0.760518\n",
              "GrLivArea      -0.092290\n",
              "BsmtFullBath    0.620219\n",
              "FullBath       -0.022551\n",
              "HalfBath        0.706305\n",
              "BedroomAbvGr    0.231567\n",
              "TotRmsAbvGrd    0.624132\n",
              "Fireplaces      0.668935\n",
              "AgeGarage       0.653187\n",
              "GarageCars     -0.355639\n",
              "GarageArea      0.149517\n",
              "WoodDeckSF      0.503952\n",
              "OpenPorchSF     0.620005\n",
              "SalePrice       1.001684\n",
              "PriceperSft    -0.008492\n",
              "LWRatio        -0.654729\n",
              "dtype: float64"
            ]
          },
          "metadata": {},
          "execution_count": 56
        }
      ]
    },
    {
      "cell_type": "markdown",
      "source": [
        "## Dummy variable creation"
      ],
      "metadata": {
        "id": "hEfttgo66u7Z"
      }
    },
    {
      "cell_type": "code",
      "source": [
        "df_post_trans = df.copy()"
      ],
      "metadata": {
        "id": "LizEAgUH6udu"
      },
      "execution_count": 57,
      "outputs": []
    },
    {
      "cell_type": "code",
      "source": [
        "obj = df.columns[df.dtypes=='O'].to_list()\n",
        "df = pd.get_dummies(data = df, columns=obj, drop_first = True)"
      ],
      "metadata": {
        "id": "9mTg43WN81Wh"
      },
      "execution_count": 58,
      "outputs": []
    },
    {
      "cell_type": "code",
      "source": [
        "df.shape"
      ],
      "metadata": {
        "colab": {
          "base_uri": "https://localhost:8080/"
        },
        "id": "bmHhZDSzAduS",
        "outputId": "fdd7dfaf-5cc4-41b4-e487-88b2728d68af"
      },
      "execution_count": 59,
      "outputs": [
        {
          "output_type": "execute_result",
          "data": {
            "text/plain": [
              "(1438, 194)"
            ]
          },
          "metadata": {},
          "execution_count": 59
        }
      ]
    },
    {
      "cell_type": "code",
      "source": [
        "df.head().T"
      ],
      "metadata": {
        "colab": {
          "base_uri": "https://localhost:8080/",
          "height": 0
        },
        "id": "v7mXJCZnAewa",
        "outputId": "7701d917-c102-44b4-eb56-c83a99916aad"
      },
      "execution_count": 60,
      "outputs": [
        {
          "output_type": "execute_result",
          "data": {
            "text/html": [
              "\n",
              "  <div id=\"df-7e3c6e43-7904-4b1d-a88b-7c35a38b31c9\">\n",
              "    <div class=\"colab-df-container\">\n",
              "      <div>\n",
              "<style scoped>\n",
              "    .dataframe tbody tr th:only-of-type {\n",
              "        vertical-align: middle;\n",
              "    }\n",
              "\n",
              "    .dataframe tbody tr th {\n",
              "        vertical-align: top;\n",
              "    }\n",
              "\n",
              "    .dataframe thead th {\n",
              "        text-align: right;\n",
              "    }\n",
              "</style>\n",
              "<table border=\"1\" class=\"dataframe\">\n",
              "  <thead>\n",
              "    <tr style=\"text-align: right;\">\n",
              "      <th></th>\n",
              "      <th>0</th>\n",
              "      <th>1</th>\n",
              "      <th>2</th>\n",
              "      <th>3</th>\n",
              "      <th>4</th>\n",
              "    </tr>\n",
              "  </thead>\n",
              "  <tbody>\n",
              "    <tr>\n",
              "      <th>Id</th>\n",
              "      <td>1</td>\n",
              "      <td>2</td>\n",
              "      <td>3</td>\n",
              "      <td>4</td>\n",
              "      <td>5</td>\n",
              "    </tr>\n",
              "    <tr>\n",
              "      <th>LotFrontage</th>\n",
              "      <td>4.174387</td>\n",
              "      <td>4.382027</td>\n",
              "      <td>4.219508</td>\n",
              "      <td>4.094345</td>\n",
              "      <td>4.430817</td>\n",
              "    </tr>\n",
              "    <tr>\n",
              "      <th>LotArea</th>\n",
              "      <td>9.041922</td>\n",
              "      <td>9.169518</td>\n",
              "      <td>9.328123</td>\n",
              "      <td>9.164296</td>\n",
              "      <td>9.565214</td>\n",
              "    </tr>\n",
              "    <tr>\n",
              "      <th>OverallQual</th>\n",
              "      <td>7</td>\n",
              "      <td>6</td>\n",
              "      <td>7</td>\n",
              "      <td>7</td>\n",
              "      <td>8</td>\n",
              "    </tr>\n",
              "    <tr>\n",
              "      <th>OverallCond</th>\n",
              "      <td>5</td>\n",
              "      <td>8</td>\n",
              "      <td>5</td>\n",
              "      <td>5</td>\n",
              "      <td>5</td>\n",
              "    </tr>\n",
              "    <tr>\n",
              "      <th>...</th>\n",
              "      <td>...</td>\n",
              "      <td>...</td>\n",
              "      <td>...</td>\n",
              "      <td>...</td>\n",
              "      <td>...</td>\n",
              "    </tr>\n",
              "    <tr>\n",
              "      <th>SaleCondition_AdjLand</th>\n",
              "      <td>0</td>\n",
              "      <td>0</td>\n",
              "      <td>0</td>\n",
              "      <td>0</td>\n",
              "      <td>0</td>\n",
              "    </tr>\n",
              "    <tr>\n",
              "      <th>SaleCondition_Alloca</th>\n",
              "      <td>0</td>\n",
              "      <td>0</td>\n",
              "      <td>0</td>\n",
              "      <td>0</td>\n",
              "      <td>0</td>\n",
              "    </tr>\n",
              "    <tr>\n",
              "      <th>SaleCondition_Family</th>\n",
              "      <td>0</td>\n",
              "      <td>0</td>\n",
              "      <td>0</td>\n",
              "      <td>0</td>\n",
              "      <td>0</td>\n",
              "    </tr>\n",
              "    <tr>\n",
              "      <th>SaleCondition_Normal</th>\n",
              "      <td>1</td>\n",
              "      <td>1</td>\n",
              "      <td>1</td>\n",
              "      <td>0</td>\n",
              "      <td>1</td>\n",
              "    </tr>\n",
              "    <tr>\n",
              "      <th>SaleCondition_Partial</th>\n",
              "      <td>0</td>\n",
              "      <td>0</td>\n",
              "      <td>0</td>\n",
              "      <td>0</td>\n",
              "      <td>0</td>\n",
              "    </tr>\n",
              "  </tbody>\n",
              "</table>\n",
              "<p>194 rows × 5 columns</p>\n",
              "</div>\n",
              "      <button class=\"colab-df-convert\" onclick=\"convertToInteractive('df-7e3c6e43-7904-4b1d-a88b-7c35a38b31c9')\"\n",
              "              title=\"Convert this dataframe to an interactive table.\"\n",
              "              style=\"display:none;\">\n",
              "        \n",
              "  <svg xmlns=\"http://www.w3.org/2000/svg\" height=\"24px\"viewBox=\"0 0 24 24\"\n",
              "       width=\"24px\">\n",
              "    <path d=\"M0 0h24v24H0V0z\" fill=\"none\"/>\n",
              "    <path d=\"M18.56 5.44l.94 2.06.94-2.06 2.06-.94-2.06-.94-.94-2.06-.94 2.06-2.06.94zm-11 1L8.5 8.5l.94-2.06 2.06-.94-2.06-.94L8.5 2.5l-.94 2.06-2.06.94zm10 10l.94 2.06.94-2.06 2.06-.94-2.06-.94-.94-2.06-.94 2.06-2.06.94z\"/><path d=\"M17.41 7.96l-1.37-1.37c-.4-.4-.92-.59-1.43-.59-.52 0-1.04.2-1.43.59L10.3 9.45l-7.72 7.72c-.78.78-.78 2.05 0 2.83L4 21.41c.39.39.9.59 1.41.59.51 0 1.02-.2 1.41-.59l7.78-7.78 2.81-2.81c.8-.78.8-2.07 0-2.86zM5.41 20L4 18.59l7.72-7.72 1.47 1.35L5.41 20z\"/>\n",
              "  </svg>\n",
              "      </button>\n",
              "      \n",
              "  <style>\n",
              "    .colab-df-container {\n",
              "      display:flex;\n",
              "      flex-wrap:wrap;\n",
              "      gap: 12px;\n",
              "    }\n",
              "\n",
              "    .colab-df-convert {\n",
              "      background-color: #E8F0FE;\n",
              "      border: none;\n",
              "      border-radius: 50%;\n",
              "      cursor: pointer;\n",
              "      display: none;\n",
              "      fill: #1967D2;\n",
              "      height: 32px;\n",
              "      padding: 0 0 0 0;\n",
              "      width: 32px;\n",
              "    }\n",
              "\n",
              "    .colab-df-convert:hover {\n",
              "      background-color: #E2EBFA;\n",
              "      box-shadow: 0px 1px 2px rgba(60, 64, 67, 0.3), 0px 1px 3px 1px rgba(60, 64, 67, 0.15);\n",
              "      fill: #174EA6;\n",
              "    }\n",
              "\n",
              "    [theme=dark] .colab-df-convert {\n",
              "      background-color: #3B4455;\n",
              "      fill: #D2E3FC;\n",
              "    }\n",
              "\n",
              "    [theme=dark] .colab-df-convert:hover {\n",
              "      background-color: #434B5C;\n",
              "      box-shadow: 0px 1px 3px 1px rgba(0, 0, 0, 0.15);\n",
              "      filter: drop-shadow(0px 1px 2px rgba(0, 0, 0, 0.3));\n",
              "      fill: #FFFFFF;\n",
              "    }\n",
              "  </style>\n",
              "\n",
              "      <script>\n",
              "        const buttonEl =\n",
              "          document.querySelector('#df-7e3c6e43-7904-4b1d-a88b-7c35a38b31c9 button.colab-df-convert');\n",
              "        buttonEl.style.display =\n",
              "          google.colab.kernel.accessAllowed ? 'block' : 'none';\n",
              "\n",
              "        async function convertToInteractive(key) {\n",
              "          const element = document.querySelector('#df-7e3c6e43-7904-4b1d-a88b-7c35a38b31c9');\n",
              "          const dataTable =\n",
              "            await google.colab.kernel.invokeFunction('convertToInteractive',\n",
              "                                                     [key], {});\n",
              "          if (!dataTable) return;\n",
              "\n",
              "          const docLinkHtml = 'Like what you see? Visit the ' +\n",
              "            '<a target=\"_blank\" href=https://colab.research.google.com/notebooks/data_table.ipynb>data table notebook</a>'\n",
              "            + ' to learn more about interactive tables.';\n",
              "          element.innerHTML = '';\n",
              "          dataTable['output_type'] = 'display_data';\n",
              "          await google.colab.output.renderOutput(dataTable, element);\n",
              "          const docLink = document.createElement('div');\n",
              "          docLink.innerHTML = docLinkHtml;\n",
              "          element.appendChild(docLink);\n",
              "        }\n",
              "      </script>\n",
              "    </div>\n",
              "  </div>\n",
              "  "
            ],
            "text/plain": [
              "                              0         1         2         3         4\n",
              "Id                            1         2         3         4         5\n",
              "LotFrontage            4.174387  4.382027  4.219508  4.094345  4.430817\n",
              "LotArea                9.041922  9.169518  9.328123  9.164296  9.565214\n",
              "OverallQual                   7         6         7         7         8\n",
              "OverallCond                   5         8         5         5         5\n",
              "...                         ...       ...       ...       ...       ...\n",
              "SaleCondition_AdjLand         0         0         0         0         0\n",
              "SaleCondition_Alloca          0         0         0         0         0\n",
              "SaleCondition_Family          0         0         0         0         0\n",
              "SaleCondition_Normal          1         1         1         0         1\n",
              "SaleCondition_Partial         0         0         0         0         0\n",
              "\n",
              "[194 rows x 5 columns]"
            ]
          },
          "metadata": {},
          "execution_count": 60
        }
      ]
    },
    {
      "cell_type": "code",
      "source": [
        "df2 = df.copy()\n",
        "corr_vals = df2[df2.columns[1:]].corr()['SalePrice'][:].sort_values(ascending = False)"
      ],
      "metadata": {
        "id": "pg8kSmLSFA0B"
      },
      "execution_count": 61,
      "outputs": []
    },
    {
      "cell_type": "code",
      "source": [
        "corr_vals[\n",
        "          (corr_vals>=0.5) |\n",
        "          (corr_vals<=-0.5)\n",
        "]"
      ],
      "metadata": {
        "colab": {
          "base_uri": "https://localhost:8080/"
        },
        "id": "JsDXVK07G-LT",
        "outputId": "a4b725a7-6b17-435b-a120-946a751d481d"
      },
      "execution_count": 62,
      "outputs": [
        {
          "output_type": "execute_result",
          "data": {
            "text/plain": [
              "SalePrice           1.000000\n",
              "OverallQual         0.796343\n",
              "GrLivArea           0.687548\n",
              "GarageCars          0.651158\n",
              "GarageArea          0.626092\n",
              "1stFlrSF            0.575440\n",
              "FullBath            0.553524\n",
              "ExterQual_Gd        0.535900\n",
              "Foundation_PConc    0.516520\n",
              "BsmtQual_TA        -0.529812\n",
              "AgeRemod           -0.536864\n",
              "KitchenQual_TA     -0.543933\n",
              "GarageFinish_Unf   -0.548162\n",
              "Age                -0.557339\n",
              "ExterQual_TA       -0.609489\n",
              "Name: SalePrice, dtype: float64"
            ]
          },
          "metadata": {},
          "execution_count": 62
        }
      ]
    },
    {
      "cell_type": "code",
      "source": [
        "df[['OverallQual','SalePrice']].corr()"
      ],
      "metadata": {
        "colab": {
          "base_uri": "https://localhost:8080/",
          "height": 0
        },
        "id": "OBDTJx1RHoTA",
        "outputId": "2f11554d-2e79-4c45-8d79-760099ad79b1"
      },
      "execution_count": 63,
      "outputs": [
        {
          "output_type": "execute_result",
          "data": {
            "text/html": [
              "\n",
              "  <div id=\"df-53ae6d70-d602-450d-a6ee-5632a7a03fc0\">\n",
              "    <div class=\"colab-df-container\">\n",
              "      <div>\n",
              "<style scoped>\n",
              "    .dataframe tbody tr th:only-of-type {\n",
              "        vertical-align: middle;\n",
              "    }\n",
              "\n",
              "    .dataframe tbody tr th {\n",
              "        vertical-align: top;\n",
              "    }\n",
              "\n",
              "    .dataframe thead th {\n",
              "        text-align: right;\n",
              "    }\n",
              "</style>\n",
              "<table border=\"1\" class=\"dataframe\">\n",
              "  <thead>\n",
              "    <tr style=\"text-align: right;\">\n",
              "      <th></th>\n",
              "      <th>OverallQual</th>\n",
              "      <th>SalePrice</th>\n",
              "    </tr>\n",
              "  </thead>\n",
              "  <tbody>\n",
              "    <tr>\n",
              "      <th>OverallQual</th>\n",
              "      <td>1.000000</td>\n",
              "      <td>0.796343</td>\n",
              "    </tr>\n",
              "    <tr>\n",
              "      <th>SalePrice</th>\n",
              "      <td>0.796343</td>\n",
              "      <td>1.000000</td>\n",
              "    </tr>\n",
              "  </tbody>\n",
              "</table>\n",
              "</div>\n",
              "      <button class=\"colab-df-convert\" onclick=\"convertToInteractive('df-53ae6d70-d602-450d-a6ee-5632a7a03fc0')\"\n",
              "              title=\"Convert this dataframe to an interactive table.\"\n",
              "              style=\"display:none;\">\n",
              "        \n",
              "  <svg xmlns=\"http://www.w3.org/2000/svg\" height=\"24px\"viewBox=\"0 0 24 24\"\n",
              "       width=\"24px\">\n",
              "    <path d=\"M0 0h24v24H0V0z\" fill=\"none\"/>\n",
              "    <path d=\"M18.56 5.44l.94 2.06.94-2.06 2.06-.94-2.06-.94-.94-2.06-.94 2.06-2.06.94zm-11 1L8.5 8.5l.94-2.06 2.06-.94-2.06-.94L8.5 2.5l-.94 2.06-2.06.94zm10 10l.94 2.06.94-2.06 2.06-.94-2.06-.94-.94-2.06-.94 2.06-2.06.94z\"/><path d=\"M17.41 7.96l-1.37-1.37c-.4-.4-.92-.59-1.43-.59-.52 0-1.04.2-1.43.59L10.3 9.45l-7.72 7.72c-.78.78-.78 2.05 0 2.83L4 21.41c.39.39.9.59 1.41.59.51 0 1.02-.2 1.41-.59l7.78-7.78 2.81-2.81c.8-.78.8-2.07 0-2.86zM5.41 20L4 18.59l7.72-7.72 1.47 1.35L5.41 20z\"/>\n",
              "  </svg>\n",
              "      </button>\n",
              "      \n",
              "  <style>\n",
              "    .colab-df-container {\n",
              "      display:flex;\n",
              "      flex-wrap:wrap;\n",
              "      gap: 12px;\n",
              "    }\n",
              "\n",
              "    .colab-df-convert {\n",
              "      background-color: #E8F0FE;\n",
              "      border: none;\n",
              "      border-radius: 50%;\n",
              "      cursor: pointer;\n",
              "      display: none;\n",
              "      fill: #1967D2;\n",
              "      height: 32px;\n",
              "      padding: 0 0 0 0;\n",
              "      width: 32px;\n",
              "    }\n",
              "\n",
              "    .colab-df-convert:hover {\n",
              "      background-color: #E2EBFA;\n",
              "      box-shadow: 0px 1px 2px rgba(60, 64, 67, 0.3), 0px 1px 3px 1px rgba(60, 64, 67, 0.15);\n",
              "      fill: #174EA6;\n",
              "    }\n",
              "\n",
              "    [theme=dark] .colab-df-convert {\n",
              "      background-color: #3B4455;\n",
              "      fill: #D2E3FC;\n",
              "    }\n",
              "\n",
              "    [theme=dark] .colab-df-convert:hover {\n",
              "      background-color: #434B5C;\n",
              "      box-shadow: 0px 1px 3px 1px rgba(0, 0, 0, 0.15);\n",
              "      filter: drop-shadow(0px 1px 2px rgba(0, 0, 0, 0.3));\n",
              "      fill: #FFFFFF;\n",
              "    }\n",
              "  </style>\n",
              "\n",
              "      <script>\n",
              "        const buttonEl =\n",
              "          document.querySelector('#df-53ae6d70-d602-450d-a6ee-5632a7a03fc0 button.colab-df-convert');\n",
              "        buttonEl.style.display =\n",
              "          google.colab.kernel.accessAllowed ? 'block' : 'none';\n",
              "\n",
              "        async function convertToInteractive(key) {\n",
              "          const element = document.querySelector('#df-53ae6d70-d602-450d-a6ee-5632a7a03fc0');\n",
              "          const dataTable =\n",
              "            await google.colab.kernel.invokeFunction('convertToInteractive',\n",
              "                                                     [key], {});\n",
              "          if (!dataTable) return;\n",
              "\n",
              "          const docLinkHtml = 'Like what you see? Visit the ' +\n",
              "            '<a target=\"_blank\" href=https://colab.research.google.com/notebooks/data_table.ipynb>data table notebook</a>'\n",
              "            + ' to learn more about interactive tables.';\n",
              "          element.innerHTML = '';\n",
              "          dataTable['output_type'] = 'display_data';\n",
              "          await google.colab.output.renderOutput(dataTable, element);\n",
              "          const docLink = document.createElement('div');\n",
              "          docLink.innerHTML = docLinkHtml;\n",
              "          element.appendChild(docLink);\n",
              "        }\n",
              "      </script>\n",
              "    </div>\n",
              "  </div>\n",
              "  "
            ],
            "text/plain": [
              "             OverallQual  SalePrice\n",
              "OverallQual     1.000000   0.796343\n",
              "SalePrice       0.796343   1.000000"
            ]
          },
          "metadata": {},
          "execution_count": 63
        }
      ]
    },
    {
      "cell_type": "markdown",
      "source": [
        "## EDA Conclusion\n",
        "1. Variables had skewed data.\n",
        "2. Target variable had outliers.\n",
        "3. Most variables correlate well with target variable.\n",
        "4. Highest correlating variables (correlation >0.6) are overall quality, ground living area, Garage cars, Garage area and external quality of TA."
      ],
      "metadata": {
        "id": "9xajT5i2I1Jz"
      }
    },
    {
      "cell_type": "markdown",
      "source": [
        "# Linear Regression"
      ],
      "metadata": {
        "id": "ujAcsYHQKAd1"
      }
    },
    {
      "cell_type": "markdown",
      "source": [
        "## Defining Models"
      ],
      "metadata": {
        "id": "rG0SDV0NKM1z"
      }
    },
    {
      "cell_type": "code",
      "source": [
        "# Preparing X and y\n",
        "\n",
        "# Putting feature variable to X\n",
        "\n",
        "X = df.drop(['Id','SalePrice','DateSold'], axis = 1)\n",
        "\n",
        "# Putting response variable to y\n",
        "\n",
        "y = df['SalePrice']"
      ],
      "metadata": {
        "id": "2Uy1LwI7H1BN"
      },
      "execution_count": 64,
      "outputs": []
    },
    {
      "cell_type": "markdown",
      "source": [
        "## Split Data"
      ],
      "metadata": {
        "id": "6KHlPujOKdDo"
      }
    },
    {
      "cell_type": "code",
      "source": [
        "from sklearn.model_selection import train_test_split\n",
        "\n",
        "train,test = train_test_split(df.drop(['Id','DateSold'], axis = 1), train_size = 0.7, random_state = 100)"
      ],
      "metadata": {
        "id": "3W7vDJECKZ6T"
      },
      "execution_count": 65,
      "outputs": []
    },
    {
      "cell_type": "markdown",
      "source": [
        "## Feature Scaling"
      ],
      "metadata": {
        "id": "2K8l6rjyKmBv"
      }
    },
    {
      "cell_type": "markdown",
      "source": [
        "### Preparing Train and Test"
      ],
      "metadata": {
        "id": "NPxUJ9epM5r2"
      }
    },
    {
      "cell_type": "code",
      "source": [
        "train.columns"
      ],
      "metadata": {
        "colab": {
          "base_uri": "https://localhost:8080/"
        },
        "id": "leuTQuZOKgMO",
        "outputId": "4625532e-5324-4953-8013-f320288e370d"
      },
      "execution_count": 66,
      "outputs": [
        {
          "output_type": "execute_result",
          "data": {
            "text/plain": [
              "Index(['LotFrontage', 'LotArea', 'OverallQual', 'OverallCond', 'Age',\n",
              "       'AgeRemod', 'BsmtFinSF1', 'BsmtUnfSF', '1stFlrSF', '2ndFlrSF',\n",
              "       ...\n",
              "       'SaleType_ConLI', 'SaleType_ConLw', 'SaleType_New', 'SaleType_Oth',\n",
              "       'SaleType_WD', 'SaleCondition_AdjLand', 'SaleCondition_Alloca',\n",
              "       'SaleCondition_Family', 'SaleCondition_Normal',\n",
              "       'SaleCondition_Partial'],\n",
              "      dtype='object', length=192)"
            ]
          },
          "metadata": {},
          "execution_count": 66
        }
      ]
    },
    {
      "cell_type": "code",
      "source": [
        "varcols = train.describe().T"
      ],
      "metadata": {
        "id": "2md7iHVlKpqB"
      },
      "execution_count": 67,
      "outputs": []
    },
    {
      "cell_type": "code",
      "source": [
        "fitcols = varcols[varcols['max']>1].index"
      ],
      "metadata": {
        "id": "6X8sfj00LLD_"
      },
      "execution_count": 68,
      "outputs": []
    },
    {
      "cell_type": "code",
      "source": [
        "fitcols"
      ],
      "metadata": {
        "colab": {
          "base_uri": "https://localhost:8080/"
        },
        "id": "a2qO22ZNLiO4",
        "outputId": "0374985c-072f-48ba-c968-b02074a31560"
      },
      "execution_count": 69,
      "outputs": [
        {
          "output_type": "execute_result",
          "data": {
            "text/plain": [
              "Index(['LotFrontage', 'LotArea', 'OverallQual', 'OverallCond', 'Age',\n",
              "       'AgeRemod', 'BsmtFinSF1', 'BsmtUnfSF', '1stFlrSF', '2ndFlrSF',\n",
              "       'GrLivArea', 'BsmtFullBath', 'FullBath', 'HalfBath', 'BedroomAbvGr',\n",
              "       'TotRmsAbvGrd', 'Fireplaces', 'AgeGarage', 'GarageCars', 'GarageArea',\n",
              "       'WoodDeckSF', 'OpenPorchSF', 'SalePrice', 'LWRatio'],\n",
              "      dtype='object')"
            ]
          },
          "metadata": {},
          "execution_count": 69
        }
      ]
    },
    {
      "cell_type": "code",
      "source": [
        "fitcols = fitcols.drop('SalePrice')"
      ],
      "metadata": {
        "id": "3VXgf_2JLjHg"
      },
      "execution_count": 70,
      "outputs": []
    },
    {
      "cell_type": "code",
      "source": [
        "fitcols"
      ],
      "metadata": {
        "colab": {
          "base_uri": "https://localhost:8080/"
        },
        "id": "l2JrRQAALxhV",
        "outputId": "6a235a4f-1909-4f83-96c7-0d9c8d3bd2b6"
      },
      "execution_count": 71,
      "outputs": [
        {
          "output_type": "execute_result",
          "data": {
            "text/plain": [
              "Index(['LotFrontage', 'LotArea', 'OverallQual', 'OverallCond', 'Age',\n",
              "       'AgeRemod', 'BsmtFinSF1', 'BsmtUnfSF', '1stFlrSF', '2ndFlrSF',\n",
              "       'GrLivArea', 'BsmtFullBath', 'FullBath', 'HalfBath', 'BedroomAbvGr',\n",
              "       'TotRmsAbvGrd', 'Fireplaces', 'AgeGarage', 'GarageCars', 'GarageArea',\n",
              "       'WoodDeckSF', 'OpenPorchSF', 'LWRatio'],\n",
              "      dtype='object')"
            ]
          },
          "metadata": {},
          "execution_count": 71
        }
      ]
    },
    {
      "cell_type": "code",
      "source": [
        "train[fitcols].describe().T"
      ],
      "metadata": {
        "colab": {
          "base_uri": "https://localhost:8080/",
          "height": 0
        },
        "id": "lJ8UVrmCMCBr",
        "outputId": "9011f608-e55c-4c8e-dd93-7591b1f0f42a"
      },
      "execution_count": 72,
      "outputs": [
        {
          "output_type": "execute_result",
          "data": {
            "text/html": [
              "\n",
              "  <div id=\"df-57e549a5-d75e-43c1-bb5f-bd8a145f704a\">\n",
              "    <div class=\"colab-df-container\">\n",
              "      <div>\n",
              "<style scoped>\n",
              "    .dataframe tbody tr th:only-of-type {\n",
              "        vertical-align: middle;\n",
              "    }\n",
              "\n",
              "    .dataframe tbody tr th {\n",
              "        vertical-align: top;\n",
              "    }\n",
              "\n",
              "    .dataframe thead th {\n",
              "        text-align: right;\n",
              "    }\n",
              "</style>\n",
              "<table border=\"1\" class=\"dataframe\">\n",
              "  <thead>\n",
              "    <tr style=\"text-align: right;\">\n",
              "      <th></th>\n",
              "      <th>count</th>\n",
              "      <th>mean</th>\n",
              "      <th>std</th>\n",
              "      <th>min</th>\n",
              "      <th>25%</th>\n",
              "      <th>50%</th>\n",
              "      <th>75%</th>\n",
              "      <th>max</th>\n",
              "    </tr>\n",
              "  </thead>\n",
              "  <tbody>\n",
              "    <tr>\n",
              "      <th>LotFrontage</th>\n",
              "      <td>1006.0</td>\n",
              "      <td>4.199014</td>\n",
              "      <td>0.321824</td>\n",
              "      <td>3.044522</td>\n",
              "      <td>4.094345</td>\n",
              "      <td>4.249209</td>\n",
              "      <td>4.369448</td>\n",
              "      <td>5.746203</td>\n",
              "    </tr>\n",
              "    <tr>\n",
              "      <th>LotArea</th>\n",
              "      <td>1006.0</td>\n",
              "      <td>9.115587</td>\n",
              "      <td>0.520176</td>\n",
              "      <td>7.170120</td>\n",
              "      <td>8.935476</td>\n",
              "      <td>9.161413</td>\n",
              "      <td>9.347534</td>\n",
              "      <td>12.279532</td>\n",
              "    </tr>\n",
              "    <tr>\n",
              "      <th>OverallQual</th>\n",
              "      <td>1006.0</td>\n",
              "      <td>6.027833</td>\n",
              "      <td>1.319287</td>\n",
              "      <td>1.000000</td>\n",
              "      <td>5.000000</td>\n",
              "      <td>6.000000</td>\n",
              "      <td>7.000000</td>\n",
              "      <td>10.000000</td>\n",
              "    </tr>\n",
              "    <tr>\n",
              "      <th>OverallCond</th>\n",
              "      <td>1006.0</td>\n",
              "      <td>5.598410</td>\n",
              "      <td>1.098057</td>\n",
              "      <td>1.000000</td>\n",
              "      <td>5.000000</td>\n",
              "      <td>5.000000</td>\n",
              "      <td>6.000000</td>\n",
              "      <td>9.000000</td>\n",
              "    </tr>\n",
              "    <tr>\n",
              "      <th>Age</th>\n",
              "      <td>1006.0</td>\n",
              "      <td>48.756461</td>\n",
              "      <td>29.850362</td>\n",
              "      <td>11.000000</td>\n",
              "      <td>20.000000</td>\n",
              "      <td>48.000000</td>\n",
              "      <td>66.000000</td>\n",
              "      <td>145.000000</td>\n",
              "    </tr>\n",
              "    <tr>\n",
              "      <th>AgeRemod</th>\n",
              "      <td>1006.0</td>\n",
              "      <td>35.394632</td>\n",
              "      <td>20.623088</td>\n",
              "      <td>10.000000</td>\n",
              "      <td>17.000000</td>\n",
              "      <td>28.000000</td>\n",
              "      <td>54.000000</td>\n",
              "      <td>70.000000</td>\n",
              "    </tr>\n",
              "    <tr>\n",
              "      <th>BsmtFinSF1</th>\n",
              "      <td>1006.0</td>\n",
              "      <td>16.160571</td>\n",
              "      <td>12.884251</td>\n",
              "      <td>0.000000</td>\n",
              "      <td>0.000000</td>\n",
              "      <td>19.196349</td>\n",
              "      <td>26.485840</td>\n",
              "      <td>42.544095</td>\n",
              "    </tr>\n",
              "    <tr>\n",
              "      <th>BsmtUnfSF</th>\n",
              "      <td>1006.0</td>\n",
              "      <td>564.535785</td>\n",
              "      <td>441.445444</td>\n",
              "      <td>0.000000</td>\n",
              "      <td>212.000000</td>\n",
              "      <td>482.500000</td>\n",
              "      <td>815.750000</td>\n",
              "      <td>2153.000000</td>\n",
              "    </tr>\n",
              "    <tr>\n",
              "      <th>1stFlrSF</th>\n",
              "      <td>1006.0</td>\n",
              "      <td>6.997163</td>\n",
              "      <td>0.309141</td>\n",
              "      <td>5.811141</td>\n",
              "      <td>6.776221</td>\n",
              "      <td>6.983326</td>\n",
              "      <td>7.222201</td>\n",
              "      <td>7.971776</td>\n",
              "    </tr>\n",
              "    <tr>\n",
              "      <th>2ndFlrSF</th>\n",
              "      <td>1006.0</td>\n",
              "      <td>329.633201</td>\n",
              "      <td>417.120820</td>\n",
              "      <td>0.000000</td>\n",
              "      <td>0.000000</td>\n",
              "      <td>0.000000</td>\n",
              "      <td>703.750000</td>\n",
              "      <td>1523.000000</td>\n",
              "    </tr>\n",
              "    <tr>\n",
              "      <th>GrLivArea</th>\n",
              "      <td>1006.0</td>\n",
              "      <td>7.251979</td>\n",
              "      <td>0.315972</td>\n",
              "      <td>5.811141</td>\n",
              "      <td>7.025760</td>\n",
              "      <td>7.273439</td>\n",
              "      <td>7.463793</td>\n",
              "      <td>8.145260</td>\n",
              "    </tr>\n",
              "    <tr>\n",
              "      <th>BsmtFullBath</th>\n",
              "      <td>1006.0</td>\n",
              "      <td>0.426441</td>\n",
              "      <td>0.524102</td>\n",
              "      <td>0.000000</td>\n",
              "      <td>0.000000</td>\n",
              "      <td>0.000000</td>\n",
              "      <td>1.000000</td>\n",
              "      <td>3.000000</td>\n",
              "    </tr>\n",
              "    <tr>\n",
              "      <th>FullBath</th>\n",
              "      <td>1006.0</td>\n",
              "      <td>1.560636</td>\n",
              "      <td>0.540684</td>\n",
              "      <td>0.000000</td>\n",
              "      <td>1.000000</td>\n",
              "      <td>2.000000</td>\n",
              "      <td>2.000000</td>\n",
              "      <td>3.000000</td>\n",
              "    </tr>\n",
              "    <tr>\n",
              "      <th>HalfBath</th>\n",
              "      <td>1006.0</td>\n",
              "      <td>0.375746</td>\n",
              "      <td>0.502697</td>\n",
              "      <td>0.000000</td>\n",
              "      <td>0.000000</td>\n",
              "      <td>0.000000</td>\n",
              "      <td>1.000000</td>\n",
              "      <td>2.000000</td>\n",
              "    </tr>\n",
              "    <tr>\n",
              "      <th>BedroomAbvGr</th>\n",
              "      <td>1006.0</td>\n",
              "      <td>2.859841</td>\n",
              "      <td>0.809912</td>\n",
              "      <td>0.000000</td>\n",
              "      <td>2.000000</td>\n",
              "      <td>3.000000</td>\n",
              "      <td>3.000000</td>\n",
              "      <td>8.000000</td>\n",
              "    </tr>\n",
              "    <tr>\n",
              "      <th>TotRmsAbvGrd</th>\n",
              "      <td>1006.0</td>\n",
              "      <td>6.456262</td>\n",
              "      <td>1.543910</td>\n",
              "      <td>2.000000</td>\n",
              "      <td>5.000000</td>\n",
              "      <td>6.000000</td>\n",
              "      <td>7.000000</td>\n",
              "      <td>14.000000</td>\n",
              "    </tr>\n",
              "    <tr>\n",
              "      <th>Fireplaces</th>\n",
              "      <td>1006.0</td>\n",
              "      <td>0.582505</td>\n",
              "      <td>0.620265</td>\n",
              "      <td>0.000000</td>\n",
              "      <td>0.000000</td>\n",
              "      <td>1.000000</td>\n",
              "      <td>1.000000</td>\n",
              "      <td>2.000000</td>\n",
              "    </tr>\n",
              "    <tr>\n",
              "      <th>AgeGarage</th>\n",
              "      <td>1006.0</td>\n",
              "      <td>41.702440</td>\n",
              "      <td>23.836138</td>\n",
              "      <td>10.000000</td>\n",
              "      <td>19.250000</td>\n",
              "      <td>41.493836</td>\n",
              "      <td>58.000000</td>\n",
              "      <td>114.000000</td>\n",
              "    </tr>\n",
              "    <tr>\n",
              "      <th>GarageCars</th>\n",
              "      <td>1006.0</td>\n",
              "      <td>1.753479</td>\n",
              "      <td>0.740353</td>\n",
              "      <td>0.000000</td>\n",
              "      <td>1.000000</td>\n",
              "      <td>2.000000</td>\n",
              "      <td>2.000000</td>\n",
              "      <td>4.000000</td>\n",
              "    </tr>\n",
              "    <tr>\n",
              "      <th>GarageArea</th>\n",
              "      <td>1006.0</td>\n",
              "      <td>467.219682</td>\n",
              "      <td>209.152344</td>\n",
              "      <td>0.000000</td>\n",
              "      <td>331.500000</td>\n",
              "      <td>472.500000</td>\n",
              "      <td>576.000000</td>\n",
              "      <td>1390.000000</td>\n",
              "    </tr>\n",
              "    <tr>\n",
              "      <th>WoodDeckSF</th>\n",
              "      <td>1006.0</td>\n",
              "      <td>6.579257</td>\n",
              "      <td>7.288897</td>\n",
              "      <td>0.000000</td>\n",
              "      <td>0.000000</td>\n",
              "      <td>0.000000</td>\n",
              "      <td>12.961481</td>\n",
              "      <td>29.274562</td>\n",
              "    </tr>\n",
              "    <tr>\n",
              "      <th>OpenPorchSF</th>\n",
              "      <td>1006.0</td>\n",
              "      <td>4.712014</td>\n",
              "      <td>4.882063</td>\n",
              "      <td>0.000000</td>\n",
              "      <td>0.000000</td>\n",
              "      <td>4.898979</td>\n",
              "      <td>8.246211</td>\n",
              "      <td>23.388031</td>\n",
              "    </tr>\n",
              "    <tr>\n",
              "      <th>LWRatio</th>\n",
              "      <td>1006.0</td>\n",
              "      <td>-0.717559</td>\n",
              "      <td>0.498355</td>\n",
              "      <td>-3.513221</td>\n",
              "      <td>-0.958745</td>\n",
              "      <td>-0.670505</td>\n",
              "      <td>-0.446287</td>\n",
              "      <td>1.737753</td>\n",
              "    </tr>\n",
              "  </tbody>\n",
              "</table>\n",
              "</div>\n",
              "      <button class=\"colab-df-convert\" onclick=\"convertToInteractive('df-57e549a5-d75e-43c1-bb5f-bd8a145f704a')\"\n",
              "              title=\"Convert this dataframe to an interactive table.\"\n",
              "              style=\"display:none;\">\n",
              "        \n",
              "  <svg xmlns=\"http://www.w3.org/2000/svg\" height=\"24px\"viewBox=\"0 0 24 24\"\n",
              "       width=\"24px\">\n",
              "    <path d=\"M0 0h24v24H0V0z\" fill=\"none\"/>\n",
              "    <path d=\"M18.56 5.44l.94 2.06.94-2.06 2.06-.94-2.06-.94-.94-2.06-.94 2.06-2.06.94zm-11 1L8.5 8.5l.94-2.06 2.06-.94-2.06-.94L8.5 2.5l-.94 2.06-2.06.94zm10 10l.94 2.06.94-2.06 2.06-.94-2.06-.94-.94-2.06-.94 2.06-2.06.94z\"/><path d=\"M17.41 7.96l-1.37-1.37c-.4-.4-.92-.59-1.43-.59-.52 0-1.04.2-1.43.59L10.3 9.45l-7.72 7.72c-.78.78-.78 2.05 0 2.83L4 21.41c.39.39.9.59 1.41.59.51 0 1.02-.2 1.41-.59l7.78-7.78 2.81-2.81c.8-.78.8-2.07 0-2.86zM5.41 20L4 18.59l7.72-7.72 1.47 1.35L5.41 20z\"/>\n",
              "  </svg>\n",
              "      </button>\n",
              "      \n",
              "  <style>\n",
              "    .colab-df-container {\n",
              "      display:flex;\n",
              "      flex-wrap:wrap;\n",
              "      gap: 12px;\n",
              "    }\n",
              "\n",
              "    .colab-df-convert {\n",
              "      background-color: #E8F0FE;\n",
              "      border: none;\n",
              "      border-radius: 50%;\n",
              "      cursor: pointer;\n",
              "      display: none;\n",
              "      fill: #1967D2;\n",
              "      height: 32px;\n",
              "      padding: 0 0 0 0;\n",
              "      width: 32px;\n",
              "    }\n",
              "\n",
              "    .colab-df-convert:hover {\n",
              "      background-color: #E2EBFA;\n",
              "      box-shadow: 0px 1px 2px rgba(60, 64, 67, 0.3), 0px 1px 3px 1px rgba(60, 64, 67, 0.15);\n",
              "      fill: #174EA6;\n",
              "    }\n",
              "\n",
              "    [theme=dark] .colab-df-convert {\n",
              "      background-color: #3B4455;\n",
              "      fill: #D2E3FC;\n",
              "    }\n",
              "\n",
              "    [theme=dark] .colab-df-convert:hover {\n",
              "      background-color: #434B5C;\n",
              "      box-shadow: 0px 1px 3px 1px rgba(0, 0, 0, 0.15);\n",
              "      filter: drop-shadow(0px 1px 2px rgba(0, 0, 0, 0.3));\n",
              "      fill: #FFFFFF;\n",
              "    }\n",
              "  </style>\n",
              "\n",
              "      <script>\n",
              "        const buttonEl =\n",
              "          document.querySelector('#df-57e549a5-d75e-43c1-bb5f-bd8a145f704a button.colab-df-convert');\n",
              "        buttonEl.style.display =\n",
              "          google.colab.kernel.accessAllowed ? 'block' : 'none';\n",
              "\n",
              "        async function convertToInteractive(key) {\n",
              "          const element = document.querySelector('#df-57e549a5-d75e-43c1-bb5f-bd8a145f704a');\n",
              "          const dataTable =\n",
              "            await google.colab.kernel.invokeFunction('convertToInteractive',\n",
              "                                                     [key], {});\n",
              "          if (!dataTable) return;\n",
              "\n",
              "          const docLinkHtml = 'Like what you see? Visit the ' +\n",
              "            '<a target=\"_blank\" href=https://colab.research.google.com/notebooks/data_table.ipynb>data table notebook</a>'\n",
              "            + ' to learn more about interactive tables.';\n",
              "          element.innerHTML = '';\n",
              "          dataTable['output_type'] = 'display_data';\n",
              "          await google.colab.output.renderOutput(dataTable, element);\n",
              "          const docLink = document.createElement('div');\n",
              "          docLink.innerHTML = docLinkHtml;\n",
              "          element.appendChild(docLink);\n",
              "        }\n",
              "      </script>\n",
              "    </div>\n",
              "  </div>\n",
              "  "
            ],
            "text/plain": [
              "               count        mean         std        min         25%  \\\n",
              "LotFrontage   1006.0    4.199014    0.321824   3.044522    4.094345   \n",
              "LotArea       1006.0    9.115587    0.520176   7.170120    8.935476   \n",
              "OverallQual   1006.0    6.027833    1.319287   1.000000    5.000000   \n",
              "OverallCond   1006.0    5.598410    1.098057   1.000000    5.000000   \n",
              "Age           1006.0   48.756461   29.850362  11.000000   20.000000   \n",
              "AgeRemod      1006.0   35.394632   20.623088  10.000000   17.000000   \n",
              "BsmtFinSF1    1006.0   16.160571   12.884251   0.000000    0.000000   \n",
              "BsmtUnfSF     1006.0  564.535785  441.445444   0.000000  212.000000   \n",
              "1stFlrSF      1006.0    6.997163    0.309141   5.811141    6.776221   \n",
              "2ndFlrSF      1006.0  329.633201  417.120820   0.000000    0.000000   \n",
              "GrLivArea     1006.0    7.251979    0.315972   5.811141    7.025760   \n",
              "BsmtFullBath  1006.0    0.426441    0.524102   0.000000    0.000000   \n",
              "FullBath      1006.0    1.560636    0.540684   0.000000    1.000000   \n",
              "HalfBath      1006.0    0.375746    0.502697   0.000000    0.000000   \n",
              "BedroomAbvGr  1006.0    2.859841    0.809912   0.000000    2.000000   \n",
              "TotRmsAbvGrd  1006.0    6.456262    1.543910   2.000000    5.000000   \n",
              "Fireplaces    1006.0    0.582505    0.620265   0.000000    0.000000   \n",
              "AgeGarage     1006.0   41.702440   23.836138  10.000000   19.250000   \n",
              "GarageCars    1006.0    1.753479    0.740353   0.000000    1.000000   \n",
              "GarageArea    1006.0  467.219682  209.152344   0.000000  331.500000   \n",
              "WoodDeckSF    1006.0    6.579257    7.288897   0.000000    0.000000   \n",
              "OpenPorchSF   1006.0    4.712014    4.882063   0.000000    0.000000   \n",
              "LWRatio       1006.0   -0.717559    0.498355  -3.513221   -0.958745   \n",
              "\n",
              "                     50%         75%          max  \n",
              "LotFrontage     4.249209    4.369448     5.746203  \n",
              "LotArea         9.161413    9.347534    12.279532  \n",
              "OverallQual     6.000000    7.000000    10.000000  \n",
              "OverallCond     5.000000    6.000000     9.000000  \n",
              "Age            48.000000   66.000000   145.000000  \n",
              "AgeRemod       28.000000   54.000000    70.000000  \n",
              "BsmtFinSF1     19.196349   26.485840    42.544095  \n",
              "BsmtUnfSF     482.500000  815.750000  2153.000000  \n",
              "1stFlrSF        6.983326    7.222201     7.971776  \n",
              "2ndFlrSF        0.000000  703.750000  1523.000000  \n",
              "GrLivArea       7.273439    7.463793     8.145260  \n",
              "BsmtFullBath    0.000000    1.000000     3.000000  \n",
              "FullBath        2.000000    2.000000     3.000000  \n",
              "HalfBath        0.000000    1.000000     2.000000  \n",
              "BedroomAbvGr    3.000000    3.000000     8.000000  \n",
              "TotRmsAbvGrd    6.000000    7.000000    14.000000  \n",
              "Fireplaces      1.000000    1.000000     2.000000  \n",
              "AgeGarage      41.493836   58.000000   114.000000  \n",
              "GarageCars      2.000000    2.000000     4.000000  \n",
              "GarageArea    472.500000  576.000000  1390.000000  \n",
              "WoodDeckSF      0.000000   12.961481    29.274562  \n",
              "OpenPorchSF     4.898979    8.246211    23.388031  \n",
              "LWRatio        -0.670505   -0.446287     1.737753  "
            ]
          },
          "metadata": {},
          "execution_count": 72
        }
      ]
    },
    {
      "cell_type": "markdown",
      "source": [
        "### Scale features"
      ],
      "metadata": {
        "id": "vB9HHDKkM0ux"
      }
    },
    {
      "cell_type": "code",
      "source": [
        "# Scaling features\n",
        "\n",
        "from sklearn.preprocessing import MinMaxScaler\n",
        "scaler = MinMaxScaler()\n",
        "\n",
        "y_train = train.pop('SalePrice')\n",
        "X_train = train\n",
        "\n",
        "y_test = test.pop('SalePrice')\n",
        "X_test = test\n",
        "\n",
        "X_train[fitcols] = scaler.fit_transform(X_train[fitcols])\n",
        "X_test[fitcols] = scaler.transform(X_test[fitcols])"
      ],
      "metadata": {
        "id": "McYMXH2dMGG1"
      },
      "execution_count": 73,
      "outputs": []
    },
    {
      "cell_type": "code",
      "source": [
        "X_train[fitcols].describe().T"
      ],
      "metadata": {
        "colab": {
          "base_uri": "https://localhost:8080/",
          "height": 0
        },
        "id": "ut2qDAVWMmIp",
        "outputId": "e74674b1-4dd5-4cdb-9a80-153188526d72"
      },
      "execution_count": 74,
      "outputs": [
        {
          "output_type": "execute_result",
          "data": {
            "text/html": [
              "\n",
              "  <div id=\"df-213c6c31-e4ce-4aa2-8a2e-b844e046bd44\">\n",
              "    <div class=\"colab-df-container\">\n",
              "      <div>\n",
              "<style scoped>\n",
              "    .dataframe tbody tr th:only-of-type {\n",
              "        vertical-align: middle;\n",
              "    }\n",
              "\n",
              "    .dataframe tbody tr th {\n",
              "        vertical-align: top;\n",
              "    }\n",
              "\n",
              "    .dataframe thead th {\n",
              "        text-align: right;\n",
              "    }\n",
              "</style>\n",
              "<table border=\"1\" class=\"dataframe\">\n",
              "  <thead>\n",
              "    <tr style=\"text-align: right;\">\n",
              "      <th></th>\n",
              "      <th>count</th>\n",
              "      <th>mean</th>\n",
              "      <th>std</th>\n",
              "      <th>min</th>\n",
              "      <th>25%</th>\n",
              "      <th>50%</th>\n",
              "      <th>75%</th>\n",
              "      <th>max</th>\n",
              "    </tr>\n",
              "  </thead>\n",
              "  <tbody>\n",
              "    <tr>\n",
              "      <th>LotFrontage</th>\n",
              "      <td>1006.0</td>\n",
              "      <td>0.427323</td>\n",
              "      <td>0.119120</td>\n",
              "      <td>0.0</td>\n",
              "      <td>0.388581</td>\n",
              "      <td>0.445903</td>\n",
              "      <td>0.490408</td>\n",
              "      <td>1.0</td>\n",
              "    </tr>\n",
              "    <tr>\n",
              "      <th>LotArea</th>\n",
              "      <td>1006.0</td>\n",
              "      <td>0.380761</td>\n",
              "      <td>0.101807</td>\n",
              "      <td>0.0</td>\n",
              "      <td>0.345511</td>\n",
              "      <td>0.389730</td>\n",
              "      <td>0.426157</td>\n",
              "      <td>1.0</td>\n",
              "    </tr>\n",
              "    <tr>\n",
              "      <th>OverallQual</th>\n",
              "      <td>1006.0</td>\n",
              "      <td>0.558648</td>\n",
              "      <td>0.146587</td>\n",
              "      <td>0.0</td>\n",
              "      <td>0.444444</td>\n",
              "      <td>0.555556</td>\n",
              "      <td>0.666667</td>\n",
              "      <td>1.0</td>\n",
              "    </tr>\n",
              "    <tr>\n",
              "      <th>OverallCond</th>\n",
              "      <td>1006.0</td>\n",
              "      <td>0.574801</td>\n",
              "      <td>0.137257</td>\n",
              "      <td>0.0</td>\n",
              "      <td>0.500000</td>\n",
              "      <td>0.500000</td>\n",
              "      <td>0.625000</td>\n",
              "      <td>1.0</td>\n",
              "    </tr>\n",
              "    <tr>\n",
              "      <th>Age</th>\n",
              "      <td>1006.0</td>\n",
              "      <td>0.281765</td>\n",
              "      <td>0.222764</td>\n",
              "      <td>0.0</td>\n",
              "      <td>0.067164</td>\n",
              "      <td>0.276119</td>\n",
              "      <td>0.410448</td>\n",
              "      <td>1.0</td>\n",
              "    </tr>\n",
              "    <tr>\n",
              "      <th>AgeRemod</th>\n",
              "      <td>1006.0</td>\n",
              "      <td>0.423244</td>\n",
              "      <td>0.343718</td>\n",
              "      <td>0.0</td>\n",
              "      <td>0.116667</td>\n",
              "      <td>0.300000</td>\n",
              "      <td>0.733333</td>\n",
              "      <td>1.0</td>\n",
              "    </tr>\n",
              "    <tr>\n",
              "      <th>BsmtFinSF1</th>\n",
              "      <td>1006.0</td>\n",
              "      <td>0.379855</td>\n",
              "      <td>0.302845</td>\n",
              "      <td>0.0</td>\n",
              "      <td>0.000000</td>\n",
              "      <td>0.451211</td>\n",
              "      <td>0.622550</td>\n",
              "      <td>1.0</td>\n",
              "    </tr>\n",
              "    <tr>\n",
              "      <th>BsmtUnfSF</th>\n",
              "      <td>1006.0</td>\n",
              "      <td>0.262209</td>\n",
              "      <td>0.205037</td>\n",
              "      <td>0.0</td>\n",
              "      <td>0.098467</td>\n",
              "      <td>0.224106</td>\n",
              "      <td>0.378890</td>\n",
              "      <td>1.0</td>\n",
              "    </tr>\n",
              "    <tr>\n",
              "      <th>1stFlrSF</th>\n",
              "      <td>1006.0</td>\n",
              "      <td>0.548923</td>\n",
              "      <td>0.143079</td>\n",
              "      <td>0.0</td>\n",
              "      <td>0.446665</td>\n",
              "      <td>0.542519</td>\n",
              "      <td>0.653076</td>\n",
              "      <td>1.0</td>\n",
              "    </tr>\n",
              "    <tr>\n",
              "      <th>2ndFlrSF</th>\n",
              "      <td>1006.0</td>\n",
              "      <td>0.216437</td>\n",
              "      <td>0.273881</td>\n",
              "      <td>0.0</td>\n",
              "      <td>0.000000</td>\n",
              "      <td>0.000000</td>\n",
              "      <td>0.462081</td>\n",
              "      <td>1.0</td>\n",
              "    </tr>\n",
              "    <tr>\n",
              "      <th>GrLivArea</th>\n",
              "      <td>1006.0</td>\n",
              "      <td>0.617294</td>\n",
              "      <td>0.135371</td>\n",
              "      <td>0.0</td>\n",
              "      <td>0.520376</td>\n",
              "      <td>0.626489</td>\n",
              "      <td>0.708041</td>\n",
              "      <td>1.0</td>\n",
              "    </tr>\n",
              "    <tr>\n",
              "      <th>BsmtFullBath</th>\n",
              "      <td>1006.0</td>\n",
              "      <td>0.142147</td>\n",
              "      <td>0.174701</td>\n",
              "      <td>0.0</td>\n",
              "      <td>0.000000</td>\n",
              "      <td>0.000000</td>\n",
              "      <td>0.333333</td>\n",
              "      <td>1.0</td>\n",
              "    </tr>\n",
              "    <tr>\n",
              "      <th>FullBath</th>\n",
              "      <td>1006.0</td>\n",
              "      <td>0.520212</td>\n",
              "      <td>0.180228</td>\n",
              "      <td>0.0</td>\n",
              "      <td>0.333333</td>\n",
              "      <td>0.666667</td>\n",
              "      <td>0.666667</td>\n",
              "      <td>1.0</td>\n",
              "    </tr>\n",
              "    <tr>\n",
              "      <th>HalfBath</th>\n",
              "      <td>1006.0</td>\n",
              "      <td>0.187873</td>\n",
              "      <td>0.251349</td>\n",
              "      <td>0.0</td>\n",
              "      <td>0.000000</td>\n",
              "      <td>0.000000</td>\n",
              "      <td>0.500000</td>\n",
              "      <td>1.0</td>\n",
              "    </tr>\n",
              "    <tr>\n",
              "      <th>BedroomAbvGr</th>\n",
              "      <td>1006.0</td>\n",
              "      <td>0.357480</td>\n",
              "      <td>0.101239</td>\n",
              "      <td>0.0</td>\n",
              "      <td>0.250000</td>\n",
              "      <td>0.375000</td>\n",
              "      <td>0.375000</td>\n",
              "      <td>1.0</td>\n",
              "    </tr>\n",
              "    <tr>\n",
              "      <th>TotRmsAbvGrd</th>\n",
              "      <td>1006.0</td>\n",
              "      <td>0.371355</td>\n",
              "      <td>0.128659</td>\n",
              "      <td>0.0</td>\n",
              "      <td>0.250000</td>\n",
              "      <td>0.333333</td>\n",
              "      <td>0.416667</td>\n",
              "      <td>1.0</td>\n",
              "    </tr>\n",
              "    <tr>\n",
              "      <th>Fireplaces</th>\n",
              "      <td>1006.0</td>\n",
              "      <td>0.291252</td>\n",
              "      <td>0.310132</td>\n",
              "      <td>0.0</td>\n",
              "      <td>0.000000</td>\n",
              "      <td>0.500000</td>\n",
              "      <td>0.500000</td>\n",
              "      <td>1.0</td>\n",
              "    </tr>\n",
              "    <tr>\n",
              "      <th>AgeGarage</th>\n",
              "      <td>1006.0</td>\n",
              "      <td>0.304831</td>\n",
              "      <td>0.229194</td>\n",
              "      <td>0.0</td>\n",
              "      <td>0.088942</td>\n",
              "      <td>0.302825</td>\n",
              "      <td>0.461538</td>\n",
              "      <td>1.0</td>\n",
              "    </tr>\n",
              "    <tr>\n",
              "      <th>GarageCars</th>\n",
              "      <td>1006.0</td>\n",
              "      <td>0.438370</td>\n",
              "      <td>0.185088</td>\n",
              "      <td>0.0</td>\n",
              "      <td>0.250000</td>\n",
              "      <td>0.500000</td>\n",
              "      <td>0.500000</td>\n",
              "      <td>1.0</td>\n",
              "    </tr>\n",
              "    <tr>\n",
              "      <th>GarageArea</th>\n",
              "      <td>1006.0</td>\n",
              "      <td>0.336129</td>\n",
              "      <td>0.150469</td>\n",
              "      <td>0.0</td>\n",
              "      <td>0.238489</td>\n",
              "      <td>0.339928</td>\n",
              "      <td>0.414388</td>\n",
              "      <td>1.0</td>\n",
              "    </tr>\n",
              "    <tr>\n",
              "      <th>WoodDeckSF</th>\n",
              "      <td>1006.0</td>\n",
              "      <td>0.224743</td>\n",
              "      <td>0.248984</td>\n",
              "      <td>0.0</td>\n",
              "      <td>0.000000</td>\n",
              "      <td>0.000000</td>\n",
              "      <td>0.442756</td>\n",
              "      <td>1.0</td>\n",
              "    </tr>\n",
              "    <tr>\n",
              "      <th>OpenPorchSF</th>\n",
              "      <td>1006.0</td>\n",
              "      <td>0.201471</td>\n",
              "      <td>0.208742</td>\n",
              "      <td>0.0</td>\n",
              "      <td>0.000000</td>\n",
              "      <td>0.209465</td>\n",
              "      <td>0.352583</td>\n",
              "      <td>1.0</td>\n",
              "    </tr>\n",
              "    <tr>\n",
              "      <th>LWRatio</th>\n",
              "      <td>1006.0</td>\n",
              "      <td>0.532408</td>\n",
              "      <td>0.094907</td>\n",
              "      <td>0.0</td>\n",
              "      <td>0.486477</td>\n",
              "      <td>0.541369</td>\n",
              "      <td>0.584070</td>\n",
              "      <td>1.0</td>\n",
              "    </tr>\n",
              "  </tbody>\n",
              "</table>\n",
              "</div>\n",
              "      <button class=\"colab-df-convert\" onclick=\"convertToInteractive('df-213c6c31-e4ce-4aa2-8a2e-b844e046bd44')\"\n",
              "              title=\"Convert this dataframe to an interactive table.\"\n",
              "              style=\"display:none;\">\n",
              "        \n",
              "  <svg xmlns=\"http://www.w3.org/2000/svg\" height=\"24px\"viewBox=\"0 0 24 24\"\n",
              "       width=\"24px\">\n",
              "    <path d=\"M0 0h24v24H0V0z\" fill=\"none\"/>\n",
              "    <path d=\"M18.56 5.44l.94 2.06.94-2.06 2.06-.94-2.06-.94-.94-2.06-.94 2.06-2.06.94zm-11 1L8.5 8.5l.94-2.06 2.06-.94-2.06-.94L8.5 2.5l-.94 2.06-2.06.94zm10 10l.94 2.06.94-2.06 2.06-.94-2.06-.94-.94-2.06-.94 2.06-2.06.94z\"/><path d=\"M17.41 7.96l-1.37-1.37c-.4-.4-.92-.59-1.43-.59-.52 0-1.04.2-1.43.59L10.3 9.45l-7.72 7.72c-.78.78-.78 2.05 0 2.83L4 21.41c.39.39.9.59 1.41.59.51 0 1.02-.2 1.41-.59l7.78-7.78 2.81-2.81c.8-.78.8-2.07 0-2.86zM5.41 20L4 18.59l7.72-7.72 1.47 1.35L5.41 20z\"/>\n",
              "  </svg>\n",
              "      </button>\n",
              "      \n",
              "  <style>\n",
              "    .colab-df-container {\n",
              "      display:flex;\n",
              "      flex-wrap:wrap;\n",
              "      gap: 12px;\n",
              "    }\n",
              "\n",
              "    .colab-df-convert {\n",
              "      background-color: #E8F0FE;\n",
              "      border: none;\n",
              "      border-radius: 50%;\n",
              "      cursor: pointer;\n",
              "      display: none;\n",
              "      fill: #1967D2;\n",
              "      height: 32px;\n",
              "      padding: 0 0 0 0;\n",
              "      width: 32px;\n",
              "    }\n",
              "\n",
              "    .colab-df-convert:hover {\n",
              "      background-color: #E2EBFA;\n",
              "      box-shadow: 0px 1px 2px rgba(60, 64, 67, 0.3), 0px 1px 3px 1px rgba(60, 64, 67, 0.15);\n",
              "      fill: #174EA6;\n",
              "    }\n",
              "\n",
              "    [theme=dark] .colab-df-convert {\n",
              "      background-color: #3B4455;\n",
              "      fill: #D2E3FC;\n",
              "    }\n",
              "\n",
              "    [theme=dark] .colab-df-convert:hover {\n",
              "      background-color: #434B5C;\n",
              "      box-shadow: 0px 1px 3px 1px rgba(0, 0, 0, 0.15);\n",
              "      filter: drop-shadow(0px 1px 2px rgba(0, 0, 0, 0.3));\n",
              "      fill: #FFFFFF;\n",
              "    }\n",
              "  </style>\n",
              "\n",
              "      <script>\n",
              "        const buttonEl =\n",
              "          document.querySelector('#df-213c6c31-e4ce-4aa2-8a2e-b844e046bd44 button.colab-df-convert');\n",
              "        buttonEl.style.display =\n",
              "          google.colab.kernel.accessAllowed ? 'block' : 'none';\n",
              "\n",
              "        async function convertToInteractive(key) {\n",
              "          const element = document.querySelector('#df-213c6c31-e4ce-4aa2-8a2e-b844e046bd44');\n",
              "          const dataTable =\n",
              "            await google.colab.kernel.invokeFunction('convertToInteractive',\n",
              "                                                     [key], {});\n",
              "          if (!dataTable) return;\n",
              "\n",
              "          const docLinkHtml = 'Like what you see? Visit the ' +\n",
              "            '<a target=\"_blank\" href=https://colab.research.google.com/notebooks/data_table.ipynb>data table notebook</a>'\n",
              "            + ' to learn more about interactive tables.';\n",
              "          element.innerHTML = '';\n",
              "          dataTable['output_type'] = 'display_data';\n",
              "          await google.colab.output.renderOutput(dataTable, element);\n",
              "          const docLink = document.createElement('div');\n",
              "          docLink.innerHTML = docLinkHtml;\n",
              "          element.appendChild(docLink);\n",
              "        }\n",
              "      </script>\n",
              "    </div>\n",
              "  </div>\n",
              "  "
            ],
            "text/plain": [
              "               count      mean       std  min       25%       50%       75%  \\\n",
              "LotFrontage   1006.0  0.427323  0.119120  0.0  0.388581  0.445903  0.490408   \n",
              "LotArea       1006.0  0.380761  0.101807  0.0  0.345511  0.389730  0.426157   \n",
              "OverallQual   1006.0  0.558648  0.146587  0.0  0.444444  0.555556  0.666667   \n",
              "OverallCond   1006.0  0.574801  0.137257  0.0  0.500000  0.500000  0.625000   \n",
              "Age           1006.0  0.281765  0.222764  0.0  0.067164  0.276119  0.410448   \n",
              "AgeRemod      1006.0  0.423244  0.343718  0.0  0.116667  0.300000  0.733333   \n",
              "BsmtFinSF1    1006.0  0.379855  0.302845  0.0  0.000000  0.451211  0.622550   \n",
              "BsmtUnfSF     1006.0  0.262209  0.205037  0.0  0.098467  0.224106  0.378890   \n",
              "1stFlrSF      1006.0  0.548923  0.143079  0.0  0.446665  0.542519  0.653076   \n",
              "2ndFlrSF      1006.0  0.216437  0.273881  0.0  0.000000  0.000000  0.462081   \n",
              "GrLivArea     1006.0  0.617294  0.135371  0.0  0.520376  0.626489  0.708041   \n",
              "BsmtFullBath  1006.0  0.142147  0.174701  0.0  0.000000  0.000000  0.333333   \n",
              "FullBath      1006.0  0.520212  0.180228  0.0  0.333333  0.666667  0.666667   \n",
              "HalfBath      1006.0  0.187873  0.251349  0.0  0.000000  0.000000  0.500000   \n",
              "BedroomAbvGr  1006.0  0.357480  0.101239  0.0  0.250000  0.375000  0.375000   \n",
              "TotRmsAbvGrd  1006.0  0.371355  0.128659  0.0  0.250000  0.333333  0.416667   \n",
              "Fireplaces    1006.0  0.291252  0.310132  0.0  0.000000  0.500000  0.500000   \n",
              "AgeGarage     1006.0  0.304831  0.229194  0.0  0.088942  0.302825  0.461538   \n",
              "GarageCars    1006.0  0.438370  0.185088  0.0  0.250000  0.500000  0.500000   \n",
              "GarageArea    1006.0  0.336129  0.150469  0.0  0.238489  0.339928  0.414388   \n",
              "WoodDeckSF    1006.0  0.224743  0.248984  0.0  0.000000  0.000000  0.442756   \n",
              "OpenPorchSF   1006.0  0.201471  0.208742  0.0  0.000000  0.209465  0.352583   \n",
              "LWRatio       1006.0  0.532408  0.094907  0.0  0.486477  0.541369  0.584070   \n",
              "\n",
              "              max  \n",
              "LotFrontage   1.0  \n",
              "LotArea       1.0  \n",
              "OverallQual   1.0  \n",
              "OverallCond   1.0  \n",
              "Age           1.0  \n",
              "AgeRemod      1.0  \n",
              "BsmtFinSF1    1.0  \n",
              "BsmtUnfSF     1.0  \n",
              "1stFlrSF      1.0  \n",
              "2ndFlrSF      1.0  \n",
              "GrLivArea     1.0  \n",
              "BsmtFullBath  1.0  \n",
              "FullBath      1.0  \n",
              "HalfBath      1.0  \n",
              "BedroomAbvGr  1.0  \n",
              "TotRmsAbvGrd  1.0  \n",
              "Fireplaces    1.0  \n",
              "AgeGarage     1.0  \n",
              "GarageCars    1.0  \n",
              "GarageArea    1.0  \n",
              "WoodDeckSF    1.0  \n",
              "OpenPorchSF   1.0  \n",
              "LWRatio       1.0  "
            ]
          },
          "metadata": {},
          "execution_count": 74
        }
      ]
    },
    {
      "cell_type": "code",
      "source": [
        "X_test[fitcols].describe().T"
      ],
      "metadata": {
        "colab": {
          "base_uri": "https://localhost:8080/",
          "height": 0
        },
        "id": "vrxWF1sCNU27",
        "outputId": "a754a03e-37b8-4daf-8f84-c82ae5948550"
      },
      "execution_count": 75,
      "outputs": [
        {
          "output_type": "execute_result",
          "data": {
            "text/html": [
              "\n",
              "  <div id=\"df-6151d2d0-dcfb-4e1e-8168-7774c9332b76\">\n",
              "    <div class=\"colab-df-container\">\n",
              "      <div>\n",
              "<style scoped>\n",
              "    .dataframe tbody tr th:only-of-type {\n",
              "        vertical-align: middle;\n",
              "    }\n",
              "\n",
              "    .dataframe tbody tr th {\n",
              "        vertical-align: top;\n",
              "    }\n",
              "\n",
              "    .dataframe thead th {\n",
              "        text-align: right;\n",
              "    }\n",
              "</style>\n",
              "<table border=\"1\" class=\"dataframe\">\n",
              "  <thead>\n",
              "    <tr style=\"text-align: right;\">\n",
              "      <th></th>\n",
              "      <th>count</th>\n",
              "      <th>mean</th>\n",
              "      <th>std</th>\n",
              "      <th>min</th>\n",
              "      <th>25%</th>\n",
              "      <th>50%</th>\n",
              "      <th>75%</th>\n",
              "      <th>max</th>\n",
              "    </tr>\n",
              "  </thead>\n",
              "  <tbody>\n",
              "    <tr>\n",
              "      <th>LotFrontage</th>\n",
              "      <td>432.0</td>\n",
              "      <td>0.425733</td>\n",
              "      <td>0.116566</td>\n",
              "      <td>0.000000</td>\n",
              "      <td>0.388581</td>\n",
              "      <td>0.445903</td>\n",
              "      <td>0.476078</td>\n",
              "      <td>1.000000</td>\n",
              "    </tr>\n",
              "    <tr>\n",
              "      <th>LotArea</th>\n",
              "      <td>432.0</td>\n",
              "      <td>0.371634</td>\n",
              "      <td>0.097429</td>\n",
              "      <td>0.032266</td>\n",
              "      <td>0.335012</td>\n",
              "      <td>0.381771</td>\n",
              "      <td>0.424912</td>\n",
              "      <td>0.762270</td>\n",
              "    </tr>\n",
              "    <tr>\n",
              "      <th>OverallQual</th>\n",
              "      <td>432.0</td>\n",
              "      <td>0.567387</td>\n",
              "      <td>0.152049</td>\n",
              "      <td>0.111111</td>\n",
              "      <td>0.444444</td>\n",
              "      <td>0.555556</td>\n",
              "      <td>0.666667</td>\n",
              "      <td>1.000000</td>\n",
              "    </tr>\n",
              "    <tr>\n",
              "      <th>OverallCond</th>\n",
              "      <td>432.0</td>\n",
              "      <td>0.567419</td>\n",
              "      <td>0.144421</td>\n",
              "      <td>0.125000</td>\n",
              "      <td>0.500000</td>\n",
              "      <td>0.500000</td>\n",
              "      <td>0.625000</td>\n",
              "      <td>1.000000</td>\n",
              "    </tr>\n",
              "    <tr>\n",
              "      <th>Age</th>\n",
              "      <td>432.0</td>\n",
              "      <td>0.291667</td>\n",
              "      <td>0.228848</td>\n",
              "      <td>-0.007463</td>\n",
              "      <td>0.067164</td>\n",
              "      <td>0.283582</td>\n",
              "      <td>0.427239</td>\n",
              "      <td>1.022388</td>\n",
              "    </tr>\n",
              "    <tr>\n",
              "      <th>AgeRemod</th>\n",
              "      <td>432.0</td>\n",
              "      <td>0.425154</td>\n",
              "      <td>0.345736</td>\n",
              "      <td>0.000000</td>\n",
              "      <td>0.100000</td>\n",
              "      <td>0.250000</td>\n",
              "      <td>0.733333</td>\n",
              "      <td>1.000000</td>\n",
              "    </tr>\n",
              "    <tr>\n",
              "      <th>BsmtFinSF1</th>\n",
              "      <td>432.0</td>\n",
              "      <td>0.385943</td>\n",
              "      <td>0.311610</td>\n",
              "      <td>0.000000</td>\n",
              "      <td>0.000000</td>\n",
              "      <td>0.470100</td>\n",
              "      <td>0.617873</td>\n",
              "      <td>1.765852</td>\n",
              "    </tr>\n",
              "    <tr>\n",
              "      <th>BsmtUnfSF</th>\n",
              "      <td>432.0</td>\n",
              "      <td>0.260572</td>\n",
              "      <td>0.199784</td>\n",
              "      <td>0.000000</td>\n",
              "      <td>0.109266</td>\n",
              "      <td>0.217836</td>\n",
              "      <td>0.360543</td>\n",
              "      <td>1.084998</td>\n",
              "    </tr>\n",
              "    <tr>\n",
              "      <th>1stFlrSF</th>\n",
              "      <td>432.0</td>\n",
              "      <td>0.551225</td>\n",
              "      <td>0.145913</td>\n",
              "      <td>0.167842</td>\n",
              "      <td>0.448378</td>\n",
              "      <td>0.546578</td>\n",
              "      <td>0.655100</td>\n",
              "      <td>1.223008</td>\n",
              "    </tr>\n",
              "    <tr>\n",
              "      <th>2ndFlrSF</th>\n",
              "      <td>432.0</td>\n",
              "      <td>0.238418</td>\n",
              "      <td>0.293968</td>\n",
              "      <td>0.000000</td>\n",
              "      <td>0.000000</td>\n",
              "      <td>0.000000</td>\n",
              "      <td>0.500164</td>\n",
              "      <td>1.193697</td>\n",
              "    </tr>\n",
              "    <tr>\n",
              "      <th>GrLivArea</th>\n",
              "      <td>432.0</td>\n",
              "      <td>0.625274</td>\n",
              "      <td>0.147196</td>\n",
              "      <td>0.155367</td>\n",
              "      <td>0.522275</td>\n",
              "      <td>0.635168</td>\n",
              "      <td>0.719735</td>\n",
              "      <td>1.211101</td>\n",
              "    </tr>\n",
              "    <tr>\n",
              "      <th>BsmtFullBath</th>\n",
              "      <td>432.0</td>\n",
              "      <td>0.135802</td>\n",
              "      <td>0.168624</td>\n",
              "      <td>0.000000</td>\n",
              "      <td>0.000000</td>\n",
              "      <td>0.000000</td>\n",
              "      <td>0.333333</td>\n",
              "      <td>0.666667</td>\n",
              "    </tr>\n",
              "    <tr>\n",
              "      <th>FullBath</th>\n",
              "      <td>432.0</td>\n",
              "      <td>0.510802</td>\n",
              "      <td>0.179905</td>\n",
              "      <td>0.000000</td>\n",
              "      <td>0.333333</td>\n",
              "      <td>0.666667</td>\n",
              "      <td>0.666667</td>\n",
              "      <td>1.000000</td>\n",
              "    </tr>\n",
              "    <tr>\n",
              "      <th>HalfBath</th>\n",
              "      <td>432.0</td>\n",
              "      <td>0.189815</td>\n",
              "      <td>0.249989</td>\n",
              "      <td>0.000000</td>\n",
              "      <td>0.000000</td>\n",
              "      <td>0.000000</td>\n",
              "      <td>0.500000</td>\n",
              "      <td>1.000000</td>\n",
              "    </tr>\n",
              "    <tr>\n",
              "      <th>BedroomAbvGr</th>\n",
              "      <td>432.0</td>\n",
              "      <td>0.358796</td>\n",
              "      <td>0.101957</td>\n",
              "      <td>0.000000</td>\n",
              "      <td>0.250000</td>\n",
              "      <td>0.375000</td>\n",
              "      <td>0.375000</td>\n",
              "      <td>0.750000</td>\n",
              "    </tr>\n",
              "    <tr>\n",
              "      <th>TotRmsAbvGrd</th>\n",
              "      <td>432.0</td>\n",
              "      <td>0.373843</td>\n",
              "      <td>0.136117</td>\n",
              "      <td>0.083333</td>\n",
              "      <td>0.250000</td>\n",
              "      <td>0.333333</td>\n",
              "      <td>0.416667</td>\n",
              "      <td>0.833333</td>\n",
              "    </tr>\n",
              "    <tr>\n",
              "      <th>Fireplaces</th>\n",
              "      <td>432.0</td>\n",
              "      <td>0.322917</td>\n",
              "      <td>0.341292</td>\n",
              "      <td>0.000000</td>\n",
              "      <td>0.000000</td>\n",
              "      <td>0.500000</td>\n",
              "      <td>0.500000</td>\n",
              "      <td>1.500000</td>\n",
              "    </tr>\n",
              "    <tr>\n",
              "      <th>AgeGarage</th>\n",
              "      <td>432.0</td>\n",
              "      <td>0.310504</td>\n",
              "      <td>0.233417</td>\n",
              "      <td>0.000000</td>\n",
              "      <td>0.096154</td>\n",
              "      <td>0.302825</td>\n",
              "      <td>0.473558</td>\n",
              "      <td>1.057692</td>\n",
              "    </tr>\n",
              "    <tr>\n",
              "      <th>GarageCars</th>\n",
              "      <td>432.0</td>\n",
              "      <td>0.434606</td>\n",
              "      <td>0.183199</td>\n",
              "      <td>0.000000</td>\n",
              "      <td>0.250000</td>\n",
              "      <td>0.500000</td>\n",
              "      <td>0.500000</td>\n",
              "      <td>1.000000</td>\n",
              "    </tr>\n",
              "    <tr>\n",
              "      <th>GarageArea</th>\n",
              "      <td>432.0</td>\n",
              "      <td>0.336388</td>\n",
              "      <td>0.151904</td>\n",
              "      <td>0.000000</td>\n",
              "      <td>0.224460</td>\n",
              "      <td>0.346043</td>\n",
              "      <td>0.414388</td>\n",
              "      <td>1.020144</td>\n",
              "    </tr>\n",
              "    <tr>\n",
              "      <th>WoodDeckSF</th>\n",
              "      <td>432.0</td>\n",
              "      <td>0.203233</td>\n",
              "      <td>0.240033</td>\n",
              "      <td>0.000000</td>\n",
              "      <td>0.000000</td>\n",
              "      <td>0.000000</td>\n",
              "      <td>0.433770</td>\n",
              "      <td>0.882872</td>\n",
              "    </tr>\n",
              "    <tr>\n",
              "      <th>OpenPorchSF</th>\n",
              "      <td>432.0</td>\n",
              "      <td>0.195108</td>\n",
              "      <td>0.209946</td>\n",
              "      <td>0.000000</td>\n",
              "      <td>0.000000</td>\n",
              "      <td>0.198242</td>\n",
              "      <td>0.334624</td>\n",
              "      <td>0.957984</td>\n",
              "    </tr>\n",
              "    <tr>\n",
              "      <th>LWRatio</th>\n",
              "      <td>432.0</td>\n",
              "      <td>0.539653</td>\n",
              "      <td>0.088241</td>\n",
              "      <td>0.155378</td>\n",
              "      <td>0.499360</td>\n",
              "      <td>0.544526</td>\n",
              "      <td>0.588784</td>\n",
              "      <td>0.829157</td>\n",
              "    </tr>\n",
              "  </tbody>\n",
              "</table>\n",
              "</div>\n",
              "      <button class=\"colab-df-convert\" onclick=\"convertToInteractive('df-6151d2d0-dcfb-4e1e-8168-7774c9332b76')\"\n",
              "              title=\"Convert this dataframe to an interactive table.\"\n",
              "              style=\"display:none;\">\n",
              "        \n",
              "  <svg xmlns=\"http://www.w3.org/2000/svg\" height=\"24px\"viewBox=\"0 0 24 24\"\n",
              "       width=\"24px\">\n",
              "    <path d=\"M0 0h24v24H0V0z\" fill=\"none\"/>\n",
              "    <path d=\"M18.56 5.44l.94 2.06.94-2.06 2.06-.94-2.06-.94-.94-2.06-.94 2.06-2.06.94zm-11 1L8.5 8.5l.94-2.06 2.06-.94-2.06-.94L8.5 2.5l-.94 2.06-2.06.94zm10 10l.94 2.06.94-2.06 2.06-.94-2.06-.94-.94-2.06-.94 2.06-2.06.94z\"/><path d=\"M17.41 7.96l-1.37-1.37c-.4-.4-.92-.59-1.43-.59-.52 0-1.04.2-1.43.59L10.3 9.45l-7.72 7.72c-.78.78-.78 2.05 0 2.83L4 21.41c.39.39.9.59 1.41.59.51 0 1.02-.2 1.41-.59l7.78-7.78 2.81-2.81c.8-.78.8-2.07 0-2.86zM5.41 20L4 18.59l7.72-7.72 1.47 1.35L5.41 20z\"/>\n",
              "  </svg>\n",
              "      </button>\n",
              "      \n",
              "  <style>\n",
              "    .colab-df-container {\n",
              "      display:flex;\n",
              "      flex-wrap:wrap;\n",
              "      gap: 12px;\n",
              "    }\n",
              "\n",
              "    .colab-df-convert {\n",
              "      background-color: #E8F0FE;\n",
              "      border: none;\n",
              "      border-radius: 50%;\n",
              "      cursor: pointer;\n",
              "      display: none;\n",
              "      fill: #1967D2;\n",
              "      height: 32px;\n",
              "      padding: 0 0 0 0;\n",
              "      width: 32px;\n",
              "    }\n",
              "\n",
              "    .colab-df-convert:hover {\n",
              "      background-color: #E2EBFA;\n",
              "      box-shadow: 0px 1px 2px rgba(60, 64, 67, 0.3), 0px 1px 3px 1px rgba(60, 64, 67, 0.15);\n",
              "      fill: #174EA6;\n",
              "    }\n",
              "\n",
              "    [theme=dark] .colab-df-convert {\n",
              "      background-color: #3B4455;\n",
              "      fill: #D2E3FC;\n",
              "    }\n",
              "\n",
              "    [theme=dark] .colab-df-convert:hover {\n",
              "      background-color: #434B5C;\n",
              "      box-shadow: 0px 1px 3px 1px rgba(0, 0, 0, 0.15);\n",
              "      filter: drop-shadow(0px 1px 2px rgba(0, 0, 0, 0.3));\n",
              "      fill: #FFFFFF;\n",
              "    }\n",
              "  </style>\n",
              "\n",
              "      <script>\n",
              "        const buttonEl =\n",
              "          document.querySelector('#df-6151d2d0-dcfb-4e1e-8168-7774c9332b76 button.colab-df-convert');\n",
              "        buttonEl.style.display =\n",
              "          google.colab.kernel.accessAllowed ? 'block' : 'none';\n",
              "\n",
              "        async function convertToInteractive(key) {\n",
              "          const element = document.querySelector('#df-6151d2d0-dcfb-4e1e-8168-7774c9332b76');\n",
              "          const dataTable =\n",
              "            await google.colab.kernel.invokeFunction('convertToInteractive',\n",
              "                                                     [key], {});\n",
              "          if (!dataTable) return;\n",
              "\n",
              "          const docLinkHtml = 'Like what you see? Visit the ' +\n",
              "            '<a target=\"_blank\" href=https://colab.research.google.com/notebooks/data_table.ipynb>data table notebook</a>'\n",
              "            + ' to learn more about interactive tables.';\n",
              "          element.innerHTML = '';\n",
              "          dataTable['output_type'] = 'display_data';\n",
              "          await google.colab.output.renderOutput(dataTable, element);\n",
              "          const docLink = document.createElement('div');\n",
              "          docLink.innerHTML = docLinkHtml;\n",
              "          element.appendChild(docLink);\n",
              "        }\n",
              "      </script>\n",
              "    </div>\n",
              "  </div>\n",
              "  "
            ],
            "text/plain": [
              "              count      mean       std       min       25%       50%  \\\n",
              "LotFrontage   432.0  0.425733  0.116566  0.000000  0.388581  0.445903   \n",
              "LotArea       432.0  0.371634  0.097429  0.032266  0.335012  0.381771   \n",
              "OverallQual   432.0  0.567387  0.152049  0.111111  0.444444  0.555556   \n",
              "OverallCond   432.0  0.567419  0.144421  0.125000  0.500000  0.500000   \n",
              "Age           432.0  0.291667  0.228848 -0.007463  0.067164  0.283582   \n",
              "AgeRemod      432.0  0.425154  0.345736  0.000000  0.100000  0.250000   \n",
              "BsmtFinSF1    432.0  0.385943  0.311610  0.000000  0.000000  0.470100   \n",
              "BsmtUnfSF     432.0  0.260572  0.199784  0.000000  0.109266  0.217836   \n",
              "1stFlrSF      432.0  0.551225  0.145913  0.167842  0.448378  0.546578   \n",
              "2ndFlrSF      432.0  0.238418  0.293968  0.000000  0.000000  0.000000   \n",
              "GrLivArea     432.0  0.625274  0.147196  0.155367  0.522275  0.635168   \n",
              "BsmtFullBath  432.0  0.135802  0.168624  0.000000  0.000000  0.000000   \n",
              "FullBath      432.0  0.510802  0.179905  0.000000  0.333333  0.666667   \n",
              "HalfBath      432.0  0.189815  0.249989  0.000000  0.000000  0.000000   \n",
              "BedroomAbvGr  432.0  0.358796  0.101957  0.000000  0.250000  0.375000   \n",
              "TotRmsAbvGrd  432.0  0.373843  0.136117  0.083333  0.250000  0.333333   \n",
              "Fireplaces    432.0  0.322917  0.341292  0.000000  0.000000  0.500000   \n",
              "AgeGarage     432.0  0.310504  0.233417  0.000000  0.096154  0.302825   \n",
              "GarageCars    432.0  0.434606  0.183199  0.000000  0.250000  0.500000   \n",
              "GarageArea    432.0  0.336388  0.151904  0.000000  0.224460  0.346043   \n",
              "WoodDeckSF    432.0  0.203233  0.240033  0.000000  0.000000  0.000000   \n",
              "OpenPorchSF   432.0  0.195108  0.209946  0.000000  0.000000  0.198242   \n",
              "LWRatio       432.0  0.539653  0.088241  0.155378  0.499360  0.544526   \n",
              "\n",
              "                   75%       max  \n",
              "LotFrontage   0.476078  1.000000  \n",
              "LotArea       0.424912  0.762270  \n",
              "OverallQual   0.666667  1.000000  \n",
              "OverallCond   0.625000  1.000000  \n",
              "Age           0.427239  1.022388  \n",
              "AgeRemod      0.733333  1.000000  \n",
              "BsmtFinSF1    0.617873  1.765852  \n",
              "BsmtUnfSF     0.360543  1.084998  \n",
              "1stFlrSF      0.655100  1.223008  \n",
              "2ndFlrSF      0.500164  1.193697  \n",
              "GrLivArea     0.719735  1.211101  \n",
              "BsmtFullBath  0.333333  0.666667  \n",
              "FullBath      0.666667  1.000000  \n",
              "HalfBath      0.500000  1.000000  \n",
              "BedroomAbvGr  0.375000  0.750000  \n",
              "TotRmsAbvGrd  0.416667  0.833333  \n",
              "Fireplaces    0.500000  1.500000  \n",
              "AgeGarage     0.473558  1.057692  \n",
              "GarageCars    0.500000  1.000000  \n",
              "GarageArea    0.414388  1.020144  \n",
              "WoodDeckSF    0.433770  0.882872  \n",
              "OpenPorchSF   0.334624  0.957984  \n",
              "LWRatio       0.588784  0.829157  "
            ]
          },
          "metadata": {},
          "execution_count": 75
        }
      ]
    },
    {
      "cell_type": "markdown",
      "source": [
        "## Multicollinearity check and feature elimination"
      ],
      "metadata": {
        "id": "Rrp0HyZsOz6I"
      }
    },
    {
      "cell_type": "code",
      "source": [
        "df[df.columns[1:]].corr()['SalePrice'][:].sort_values(ascending = False)"
      ],
      "metadata": {
        "colab": {
          "base_uri": "https://localhost:8080/"
        },
        "id": "8sq1RTOLNc8G",
        "outputId": "eadf8151-6372-4953-eb58-a928859116ca"
      },
      "execution_count": 76,
      "outputs": [
        {
          "output_type": "execute_result",
          "data": {
            "text/plain": [
              "SalePrice           1.000000\n",
              "OverallQual         0.796343\n",
              "GrLivArea           0.687548\n",
              "GarageCars          0.651158\n",
              "GarageArea          0.626092\n",
              "                      ...   \n",
              "AgeRemod           -0.536864\n",
              "KitchenQual_TA     -0.543933\n",
              "GarageFinish_Unf   -0.548162\n",
              "Age                -0.557339\n",
              "ExterQual_TA       -0.609489\n",
              "Name: SalePrice, Length: 192, dtype: float64"
            ]
          },
          "metadata": {},
          "execution_count": 76
        }
      ]
    },
    {
      "cell_type": "markdown",
      "source": [
        "### Recursive Feature Elimination"
      ],
      "metadata": {
        "id": "APaMiTEJPGMk"
      }
    },
    {
      "cell_type": "code",
      "source": [
        "dftrain = pd.DataFrame(X_train)\n",
        "dftrain.dtypes"
      ],
      "metadata": {
        "colab": {
          "base_uri": "https://localhost:8080/"
        },
        "id": "L9K0QY-VPbGD",
        "outputId": "0eb69b96-bd4a-40d1-e666-c116a18ffe1f"
      },
      "execution_count": 77,
      "outputs": [
        {
          "output_type": "execute_result",
          "data": {
            "text/plain": [
              "LotFrontage              float64\n",
              "LotArea                  float64\n",
              "OverallQual              float64\n",
              "OverallCond              float64\n",
              "Age                      float64\n",
              "                          ...   \n",
              "SaleCondition_AdjLand      uint8\n",
              "SaleCondition_Alloca       uint8\n",
              "SaleCondition_Family       uint8\n",
              "SaleCondition_Normal       uint8\n",
              "SaleCondition_Partial      uint8\n",
              "Length: 191, dtype: object"
            ]
          },
          "metadata": {},
          "execution_count": 77
        }
      ]
    },
    {
      "cell_type": "code",
      "source": [
        "from sklearn.feature_selection import RFE\n",
        "from sklearn.linear_model import LinearRegression\n",
        "\n",
        "rfe = RFE(estimator=LinearRegression(), n_features_to_select=30)\n",
        "rfe = rfe.fit(X_train, y_train)"
      ],
      "metadata": {
        "id": "cPSNF4zbPAXE"
      },
      "execution_count": 78,
      "outputs": []
    },
    {
      "cell_type": "code",
      "source": [
        "X_train.columns[rfe.support_]"
      ],
      "metadata": {
        "colab": {
          "base_uri": "https://localhost:8080/"
        },
        "id": "KCqXR-rNPPVy",
        "outputId": "90d3e684-8b2d-479e-c3a7-41cf8bd3f8fc"
      },
      "execution_count": 79,
      "outputs": [
        {
          "output_type": "execute_result",
          "data": {
            "text/plain": [
              "Index(['LotFrontage', 'LotArea', 'OverallQual', 'OverallCond', 'Age',\n",
              "       '1stFlrSF', '2ndFlrSF', 'GrLivArea', 'BedroomAbvGr', 'TotRmsAbvGrd',\n",
              "       'PriceperSft', 'LWRatio', 'MSZoning_FV', 'MSZoning_RH', 'MSZoning_RL',\n",
              "       'MSZoning_RM', 'Neighborhood_BrDale', 'Neighborhood_MeadowV',\n",
              "       'Neighborhood_NoRidge', 'Exterior1st_AsphShn', 'Exterior1st_CemntBd',\n",
              "       'Exterior2nd_CmentBd', 'ExterCond_Fa', 'Foundation_Slab',\n",
              "       'Foundation_Stone', 'BsmtQual_Fa', 'BsmtQual_Gd', 'BsmtQual_TA',\n",
              "       'HeatingQC_Po', 'SaleType_ConLD'],\n",
              "      dtype='object')"
            ]
          },
          "metadata": {},
          "execution_count": 79
        }
      ]
    },
    {
      "cell_type": "code",
      "source": [
        "X_train.columns[~rfe.support_]"
      ],
      "metadata": {
        "colab": {
          "base_uri": "https://localhost:8080/"
        },
        "id": "GAlLollHSrCd",
        "outputId": "ba69dfb9-7779-4390-9c8a-d583b0798114"
      },
      "execution_count": 80,
      "outputs": [
        {
          "output_type": "execute_result",
          "data": {
            "text/plain": [
              "Index(['AgeRemod', 'BsmtFinSF1', 'BsmtUnfSF', 'BsmtFullBath', 'FullBath',\n",
              "       'HalfBath', 'Fireplaces', 'AgeGarage', 'GarageCars', 'GarageArea',\n",
              "       ...\n",
              "       'SaleType_ConLI', 'SaleType_ConLw', 'SaleType_New', 'SaleType_Oth',\n",
              "       'SaleType_WD', 'SaleCondition_AdjLand', 'SaleCondition_Alloca',\n",
              "       'SaleCondition_Family', 'SaleCondition_Normal',\n",
              "       'SaleCondition_Partial'],\n",
              "      dtype='object', length=161)"
            ]
          },
          "metadata": {},
          "execution_count": 80
        }
      ]
    },
    {
      "cell_type": "code",
      "source": [
        "X_train_new = X_train[X_train.columns[rfe.support_]]"
      ],
      "metadata": {
        "id": "a8HhKQaOk09Y"
      },
      "execution_count": 81,
      "outputs": []
    },
    {
      "cell_type": "markdown",
      "source": [
        "### VIF Check"
      ],
      "metadata": {
        "id": "RwSfa6M_Lz1L"
      }
    },
    {
      "cell_type": "code",
      "source": [
        "# Import library for vif\n",
        "\n",
        "from statsmodels.stats.outliers_influence import variance_inflation_factor\n",
        "\n",
        "# For each X, calculate VIF and save in dataframe\n",
        "vif = pd.DataFrame()\n",
        "vif[\"features\"] = X_train_new.columns\n",
        "vif[\"VIF Factor\"] = [variance_inflation_factor(X_train_new.values, i) for i in range(X_train_new.shape[1])]\n",
        "\n",
        "# View vif\n",
        "\n",
        "vif.round(1).sort_values(by = 'VIF Factor', ascending = False)"
      ],
      "metadata": {
        "id": "dua_eQbnLZYp",
        "outputId": "6811a3e4-0c63-4290-c14f-873975c3b619",
        "colab": {
          "base_uri": "https://localhost:8080/",
          "height": 1000
        }
      },
      "execution_count": 82,
      "outputs": [
        {
          "output_type": "stream",
          "name": "stderr",
          "text": [
            "/usr/local/lib/python3.7/dist-packages/statsmodels/tools/_testing.py:19: FutureWarning: pandas.util.testing is deprecated. Use the functions in the public API at pandas.testing instead.\n",
            "  import pandas.util.testing as tm\n"
          ]
        },
        {
          "output_type": "execute_result",
          "data": {
            "text/html": [
              "\n",
              "  <div id=\"df-a40f654b-9af9-429e-9d18-5c4b82403294\">\n",
              "    <div class=\"colab-df-container\">\n",
              "      <div>\n",
              "<style scoped>\n",
              "    .dataframe tbody tr th:only-of-type {\n",
              "        vertical-align: middle;\n",
              "    }\n",
              "\n",
              "    .dataframe tbody tr th {\n",
              "        vertical-align: top;\n",
              "    }\n",
              "\n",
              "    .dataframe thead th {\n",
              "        text-align: right;\n",
              "    }\n",
              "</style>\n",
              "<table border=\"1\" class=\"dataframe\">\n",
              "  <thead>\n",
              "    <tr style=\"text-align: right;\">\n",
              "      <th></th>\n",
              "      <th>features</th>\n",
              "      <th>VIF Factor</th>\n",
              "    </tr>\n",
              "  </thead>\n",
              "  <tbody>\n",
              "    <tr>\n",
              "      <th>11</th>\n",
              "      <td>LWRatio</td>\n",
              "      <td>1349.1</td>\n",
              "    </tr>\n",
              "    <tr>\n",
              "      <th>0</th>\n",
              "      <td>LotFrontage</td>\n",
              "      <td>1029.8</td>\n",
              "    </tr>\n",
              "    <tr>\n",
              "      <th>1</th>\n",
              "      <td>LotArea</td>\n",
              "      <td>287.0</td>\n",
              "    </tr>\n",
              "    <tr>\n",
              "      <th>14</th>\n",
              "      <td>MSZoning_RL</td>\n",
              "      <td>37.4</td>\n",
              "    </tr>\n",
              "    <tr>\n",
              "      <th>15</th>\n",
              "      <td>MSZoning_RM</td>\n",
              "      <td>27.8</td>\n",
              "    </tr>\n",
              "    <tr>\n",
              "      <th>7</th>\n",
              "      <td>GrLivArea</td>\n",
              "      <td>21.6</td>\n",
              "    </tr>\n",
              "    <tr>\n",
              "      <th>21</th>\n",
              "      <td>Exterior2nd_CmentBd</td>\n",
              "      <td>20.6</td>\n",
              "    </tr>\n",
              "    <tr>\n",
              "      <th>20</th>\n",
              "      <td>Exterior1st_CemntBd</td>\n",
              "      <td>20.3</td>\n",
              "    </tr>\n",
              "    <tr>\n",
              "      <th>10</th>\n",
              "      <td>PriceperSft</td>\n",
              "      <td>16.7</td>\n",
              "    </tr>\n",
              "    <tr>\n",
              "      <th>6</th>\n",
              "      <td>2ndFlrSF</td>\n",
              "      <td>16.7</td>\n",
              "    </tr>\n",
              "    <tr>\n",
              "      <th>5</th>\n",
              "      <td>1stFlrSF</td>\n",
              "      <td>14.1</td>\n",
              "    </tr>\n",
              "    <tr>\n",
              "      <th>12</th>\n",
              "      <td>MSZoning_FV</td>\n",
              "      <td>11.0</td>\n",
              "    </tr>\n",
              "    <tr>\n",
              "      <th>27</th>\n",
              "      <td>BsmtQual_TA</td>\n",
              "      <td>7.9</td>\n",
              "    </tr>\n",
              "    <tr>\n",
              "      <th>26</th>\n",
              "      <td>BsmtQual_Gd</td>\n",
              "      <td>4.8</td>\n",
              "    </tr>\n",
              "    <tr>\n",
              "      <th>4</th>\n",
              "      <td>Age</td>\n",
              "      <td>4.5</td>\n",
              "    </tr>\n",
              "    <tr>\n",
              "      <th>9</th>\n",
              "      <td>TotRmsAbvGrd</td>\n",
              "      <td>4.4</td>\n",
              "    </tr>\n",
              "    <tr>\n",
              "      <th>13</th>\n",
              "      <td>MSZoning_RH</td>\n",
              "      <td>3.9</td>\n",
              "    </tr>\n",
              "    <tr>\n",
              "      <th>2</th>\n",
              "      <td>OverallQual</td>\n",
              "      <td>3.7</td>\n",
              "    </tr>\n",
              "    <tr>\n",
              "      <th>8</th>\n",
              "      <td>BedroomAbvGr</td>\n",
              "      <td>2.4</td>\n",
              "    </tr>\n",
              "    <tr>\n",
              "      <th>25</th>\n",
              "      <td>BsmtQual_Fa</td>\n",
              "      <td>2.0</td>\n",
              "    </tr>\n",
              "    <tr>\n",
              "      <th>17</th>\n",
              "      <td>Neighborhood_MeadowV</td>\n",
              "      <td>1.9</td>\n",
              "    </tr>\n",
              "    <tr>\n",
              "      <th>3</th>\n",
              "      <td>OverallCond</td>\n",
              "      <td>1.6</td>\n",
              "    </tr>\n",
              "    <tr>\n",
              "      <th>16</th>\n",
              "      <td>Neighborhood_BrDale</td>\n",
              "      <td>1.4</td>\n",
              "    </tr>\n",
              "    <tr>\n",
              "      <th>29</th>\n",
              "      <td>SaleType_ConLD</td>\n",
              "      <td>1.3</td>\n",
              "    </tr>\n",
              "    <tr>\n",
              "      <th>22</th>\n",
              "      <td>ExterCond_Fa</td>\n",
              "      <td>1.2</td>\n",
              "    </tr>\n",
              "    <tr>\n",
              "      <th>24</th>\n",
              "      <td>Foundation_Stone</td>\n",
              "      <td>1.2</td>\n",
              "    </tr>\n",
              "    <tr>\n",
              "      <th>18</th>\n",
              "      <td>Neighborhood_NoRidge</td>\n",
              "      <td>1.2</td>\n",
              "    </tr>\n",
              "    <tr>\n",
              "      <th>23</th>\n",
              "      <td>Foundation_Slab</td>\n",
              "      <td>1.1</td>\n",
              "    </tr>\n",
              "    <tr>\n",
              "      <th>19</th>\n",
              "      <td>Exterior1st_AsphShn</td>\n",
              "      <td>1.0</td>\n",
              "    </tr>\n",
              "    <tr>\n",
              "      <th>28</th>\n",
              "      <td>HeatingQC_Po</td>\n",
              "      <td>1.0</td>\n",
              "    </tr>\n",
              "  </tbody>\n",
              "</table>\n",
              "</div>\n",
              "      <button class=\"colab-df-convert\" onclick=\"convertToInteractive('df-a40f654b-9af9-429e-9d18-5c4b82403294')\"\n",
              "              title=\"Convert this dataframe to an interactive table.\"\n",
              "              style=\"display:none;\">\n",
              "        \n",
              "  <svg xmlns=\"http://www.w3.org/2000/svg\" height=\"24px\"viewBox=\"0 0 24 24\"\n",
              "       width=\"24px\">\n",
              "    <path d=\"M0 0h24v24H0V0z\" fill=\"none\"/>\n",
              "    <path d=\"M18.56 5.44l.94 2.06.94-2.06 2.06-.94-2.06-.94-.94-2.06-.94 2.06-2.06.94zm-11 1L8.5 8.5l.94-2.06 2.06-.94-2.06-.94L8.5 2.5l-.94 2.06-2.06.94zm10 10l.94 2.06.94-2.06 2.06-.94-2.06-.94-.94-2.06-.94 2.06-2.06.94z\"/><path d=\"M17.41 7.96l-1.37-1.37c-.4-.4-.92-.59-1.43-.59-.52 0-1.04.2-1.43.59L10.3 9.45l-7.72 7.72c-.78.78-.78 2.05 0 2.83L4 21.41c.39.39.9.59 1.41.59.51 0 1.02-.2 1.41-.59l7.78-7.78 2.81-2.81c.8-.78.8-2.07 0-2.86zM5.41 20L4 18.59l7.72-7.72 1.47 1.35L5.41 20z\"/>\n",
              "  </svg>\n",
              "      </button>\n",
              "      \n",
              "  <style>\n",
              "    .colab-df-container {\n",
              "      display:flex;\n",
              "      flex-wrap:wrap;\n",
              "      gap: 12px;\n",
              "    }\n",
              "\n",
              "    .colab-df-convert {\n",
              "      background-color: #E8F0FE;\n",
              "      border: none;\n",
              "      border-radius: 50%;\n",
              "      cursor: pointer;\n",
              "      display: none;\n",
              "      fill: #1967D2;\n",
              "      height: 32px;\n",
              "      padding: 0 0 0 0;\n",
              "      width: 32px;\n",
              "    }\n",
              "\n",
              "    .colab-df-convert:hover {\n",
              "      background-color: #E2EBFA;\n",
              "      box-shadow: 0px 1px 2px rgba(60, 64, 67, 0.3), 0px 1px 3px 1px rgba(60, 64, 67, 0.15);\n",
              "      fill: #174EA6;\n",
              "    }\n",
              "\n",
              "    [theme=dark] .colab-df-convert {\n",
              "      background-color: #3B4455;\n",
              "      fill: #D2E3FC;\n",
              "    }\n",
              "\n",
              "    [theme=dark] .colab-df-convert:hover {\n",
              "      background-color: #434B5C;\n",
              "      box-shadow: 0px 1px 3px 1px rgba(0, 0, 0, 0.15);\n",
              "      filter: drop-shadow(0px 1px 2px rgba(0, 0, 0, 0.3));\n",
              "      fill: #FFFFFF;\n",
              "    }\n",
              "  </style>\n",
              "\n",
              "      <script>\n",
              "        const buttonEl =\n",
              "          document.querySelector('#df-a40f654b-9af9-429e-9d18-5c4b82403294 button.colab-df-convert');\n",
              "        buttonEl.style.display =\n",
              "          google.colab.kernel.accessAllowed ? 'block' : 'none';\n",
              "\n",
              "        async function convertToInteractive(key) {\n",
              "          const element = document.querySelector('#df-a40f654b-9af9-429e-9d18-5c4b82403294');\n",
              "          const dataTable =\n",
              "            await google.colab.kernel.invokeFunction('convertToInteractive',\n",
              "                                                     [key], {});\n",
              "          if (!dataTable) return;\n",
              "\n",
              "          const docLinkHtml = 'Like what you see? Visit the ' +\n",
              "            '<a target=\"_blank\" href=https://colab.research.google.com/notebooks/data_table.ipynb>data table notebook</a>'\n",
              "            + ' to learn more about interactive tables.';\n",
              "          element.innerHTML = '';\n",
              "          dataTable['output_type'] = 'display_data';\n",
              "          await google.colab.output.renderOutput(dataTable, element);\n",
              "          const docLink = document.createElement('div');\n",
              "          docLink.innerHTML = docLinkHtml;\n",
              "          element.appendChild(docLink);\n",
              "        }\n",
              "      </script>\n",
              "    </div>\n",
              "  </div>\n",
              "  "
            ],
            "text/plain": [
              "                features  VIF Factor\n",
              "11               LWRatio      1349.1\n",
              "0            LotFrontage      1029.8\n",
              "1                LotArea       287.0\n",
              "14           MSZoning_RL        37.4\n",
              "15           MSZoning_RM        27.8\n",
              "7              GrLivArea        21.6\n",
              "21   Exterior2nd_CmentBd        20.6\n",
              "20   Exterior1st_CemntBd        20.3\n",
              "10           PriceperSft        16.7\n",
              "6               2ndFlrSF        16.7\n",
              "5               1stFlrSF        14.1\n",
              "12           MSZoning_FV        11.0\n",
              "27           BsmtQual_TA         7.9\n",
              "26           BsmtQual_Gd         4.8\n",
              "4                    Age         4.5\n",
              "9           TotRmsAbvGrd         4.4\n",
              "13           MSZoning_RH         3.9\n",
              "2            OverallQual         3.7\n",
              "8           BedroomAbvGr         2.4\n",
              "25           BsmtQual_Fa         2.0\n",
              "17  Neighborhood_MeadowV         1.9\n",
              "3            OverallCond         1.6\n",
              "16   Neighborhood_BrDale         1.4\n",
              "29        SaleType_ConLD         1.3\n",
              "22          ExterCond_Fa         1.2\n",
              "24      Foundation_Stone         1.2\n",
              "18  Neighborhood_NoRidge         1.2\n",
              "23       Foundation_Slab         1.1\n",
              "19   Exterior1st_AsphShn         1.0\n",
              "28          HeatingQC_Po         1.0"
            ]
          },
          "metadata": {},
          "execution_count": 82
        }
      ]
    },
    {
      "cell_type": "markdown",
      "source": [
        "### Remove features with high VIF"
      ],
      "metadata": {
        "id": "Tr3KTlvrMHOy"
      }
    },
    {
      "cell_type": "code",
      "source": [
        "dropcols = ['LWRatio','LotFrontage','LotArea']\n",
        "X_train_new1 = X_train_new.drop(dropcols, axis = 1)"
      ],
      "metadata": {
        "id": "R7aNXhp2MGmA"
      },
      "execution_count": 88,
      "outputs": []
    },
    {
      "cell_type": "code",
      "source": [
        "X_test_new = X_test[X_train_new1.columns]"
      ],
      "metadata": {
        "id": "MMB9IlUklbHC"
      },
      "execution_count": 89,
      "outputs": []
    },
    {
      "cell_type": "code",
      "source": [
        "X_train_new = X_train_new1"
      ],
      "metadata": {
        "id": "LRBbCfN_NKFz"
      },
      "execution_count": 90,
      "outputs": []
    },
    {
      "cell_type": "code",
      "source": [
        "# import linear regression\n",
        "\n",
        "from sklearn.linear_model import LinearRegression\n",
        "\n",
        "# Instantiate\n",
        "lm = LinearRegression()\n",
        "\n",
        "# Fit a line\n",
        "lm.fit(X_train_new, y_train)"
      ],
      "metadata": {
        "colab": {
          "base_uri": "https://localhost:8080/"
        },
        "id": "JQRCBnA6ikv3",
        "outputId": "4cad535d-d1b0-4bf4-a7b7-5fb60cdd1aab"
      },
      "execution_count": 91,
      "outputs": [
        {
          "output_type": "execute_result",
          "data": {
            "text/plain": [
              "LinearRegression()"
            ]
          },
          "metadata": {},
          "execution_count": 91
        }
      ]
    },
    {
      "cell_type": "code",
      "source": [
        "# Print the coefficients and intercept\n",
        "print(lm.intercept_)\n",
        "print(lm.coef_)"
      ],
      "metadata": {
        "colab": {
          "base_uri": "https://localhost:8080/"
        },
        "id": "WoCdtt9YjH1L",
        "outputId": "3f23d25d-78e2-4bc9-8149-10a9b78487e9"
      },
      "execution_count": 92,
      "outputs": [
        {
          "output_type": "stream",
          "name": "stdout",
          "text": [
            "4637.643865859369\n",
            "[144860.12862285  56516.33163263 -54999.09905576 191978.86490448\n",
            "  76527.99448299  19019.12794878 -60129.3563086    1954.33621444\n",
            "   2105.99463231  10880.57738606  -3207.59891566   8083.5470942\n",
            "  -6905.3831852   -3535.99545426 -13942.2265424   34296.44481047\n",
            " -63674.99282383 -17299.52166929  37388.35141451   9079.80318944\n",
            " -14322.98941915  11192.29871093 -47610.56242423 -41893.16242872\n",
            " -45421.73358898  -1636.92005964  12548.33697853]\n"
          ]
        }
      ]
    },
    {
      "cell_type": "code",
      "source": [
        "from sklearn.metrics import r2_score, mean_squared_error"
      ],
      "metadata": {
        "id": "R3UfPrgujMcM"
      },
      "execution_count": 93,
      "outputs": []
    },
    {
      "cell_type": "code",
      "source": [
        "y_pred_train = lm.predict(X_train_new)\n",
        "y_pred_test = lm.predict(X_test_new)\n",
        "\n",
        "metric = []\n",
        "r2_train_lr = r2_score(y_train, y_pred_train)\n",
        "print('r2 train score', r2_train_lr)\n",
        "metric.append(r2_train_lr)\n",
        "\n",
        "r2_test_lr = r2_score(y_test, y_pred_test)\n",
        "print('r2 test score', r2_test_lr)\n",
        "metric.append(r2_test_lr)\n",
        "\n",
        "rss1_lr = np.sum(np.square(y_train - y_pred_train))\n",
        "print('rss1', rss1_lr)\n",
        "metric.append(rss1_lr)\n",
        "\n",
        "rss2_lr = np.sum(np.square(y_test - y_pred_test))\n",
        "print('rss2', rss2_lr)\n",
        "metric.append(rss2_lr)\n",
        "\n",
        "mse_train_lr = mean_squared_error(y_train, y_pred_train)\n",
        "print('mse train', mse_train_lr)\n",
        "metric.append(mse_train_lr**0.5)\n",
        "\n",
        "mse_test_lr = mean_squared_error(y_test, y_pred_test)\n",
        "print('mse test', mse_test_lr)\n",
        "metric.append(mse_test_lr**0.5)"
      ],
      "metadata": {
        "colab": {
          "base_uri": "https://localhost:8080/"
        },
        "id": "uJJdDt8ujTAl",
        "outputId": "0362731c-c1dc-4bb1-d6c0-8e6812b58393"
      },
      "execution_count": 94,
      "outputs": [
        {
          "output_type": "stream",
          "name": "stdout",
          "text": [
            "r2 train score 0.8416463465115782\n",
            "r2 test score 0.7610059525606133\n",
            "rss1 709396492767.8958\n",
            "rss2 492982773287.06506\n",
            "mse train 705165499.7692801\n",
            "mse test 1141163827.0533915\n"
          ]
        }
      ]
    },
    {
      "cell_type": "markdown",
      "source": [
        "## Ridge and Lasso Regression"
      ],
      "metadata": {
        "id": "mr5xGgJCl8DN"
      }
    },
    {
      "cell_type": "markdown",
      "source": [
        "### Ridge Regression"
      ],
      "metadata": {
        "id": "SVZ2hmDnl_k7"
      }
    },
    {
      "cell_type": "code",
      "source": [
        "# Import libraries\n",
        "\n",
        "from sklearn.model_selection import GridSearchCV\n",
        "from sklearn.linear_model import Ridge\n",
        "\n",
        "# list of alphas to tune - if value too high it will lead to underfitting, if it is too low, \n",
        "# it will not handle the overfitting\n",
        "params = {'alpha': [0.0001, 0.001, 0.01, 0.05, 0.1, \n",
        " 0.2, 0.3, 0.4, 0.5, 0.6, 0.7, 0.8, 0.9, 1.0, 2.0, 3.0, \n",
        " 4.0, 5.0, 6.0, 7.0, 8.0, 9.0, 10.0, 20, 50, 100, 500, 1000 ]}\n",
        "\n",
        "ridge = Ridge()\n",
        "\n",
        "# cross validation\n",
        "folds = 5\n",
        "model_cv = GridSearchCV(estimator = ridge, \n",
        "                        param_grid = params, \n",
        "                        scoring= 'neg_mean_absolute_error',  \n",
        "                        cv = folds, \n",
        "                        return_train_score=True,\n",
        "                        verbose = 1)            \n",
        "model_cv.fit(X_train_new, y_train)"
      ],
      "metadata": {
        "colab": {
          "base_uri": "https://localhost:8080/"
        },
        "id": "YrA8ZSeajV7W",
        "outputId": "8a70d92d-3c8b-48ef-a937-5413474f2bab"
      },
      "execution_count": 95,
      "outputs": [
        {
          "output_type": "stream",
          "name": "stdout",
          "text": [
            "Fitting 5 folds for each of 28 candidates, totalling 140 fits\n"
          ]
        },
        {
          "output_type": "execute_result",
          "data": {
            "text/plain": [
              "GridSearchCV(cv=5, estimator=Ridge(),\n",
              "             param_grid={'alpha': [0.0001, 0.001, 0.01, 0.05, 0.1, 0.2, 0.3,\n",
              "                                   0.4, 0.5, 0.6, 0.7, 0.8, 0.9, 1.0, 2.0, 3.0,\n",
              "                                   4.0, 5.0, 6.0, 7.0, 8.0, 9.0, 10.0, 20, 50,\n",
              "                                   100, 500, 1000]},\n",
              "             return_train_score=True, scoring='neg_mean_absolute_error',\n",
              "             verbose=1)"
            ]
          },
          "metadata": {},
          "execution_count": 95
        }
      ]
    },
    {
      "cell_type": "code",
      "source": [
        "# Printing the best hyperparameter alpha\n",
        "print(model_cv.best_params_)"
      ],
      "metadata": {
        "colab": {
          "base_uri": "https://localhost:8080/"
        },
        "id": "o7XTmXGAmYKo",
        "outputId": "3d8a8ad2-e1a0-465b-eb07-c497f7293fd0"
      },
      "execution_count": 96,
      "outputs": [
        {
          "output_type": "stream",
          "name": "stdout",
          "text": [
            "{'alpha': 1.0}\n"
          ]
        }
      ]
    },
    {
      "cell_type": "code",
      "source": [
        "#Fitting Ridge model for alpha = 10 and printing coefficients which have been penalised\n",
        "alpha = 0.01\n",
        "ridge = Ridge(alpha=alpha)\n",
        "\n",
        "ridge.fit(X_train_new, y_train)\n",
        "print(ridge.coef_)"
      ],
      "metadata": {
        "colab": {
          "base_uri": "https://localhost:8080/"
        },
        "id": "hEccU-t2mf0z",
        "outputId": "428f22d3-6ac8-4362-c387-8a2bca9731d2"
      },
      "execution_count": 97,
      "outputs": [
        {
          "output_type": "stream",
          "name": "stdout",
          "text": [
            "[144728.07572638  56500.00725298 -54979.22534097 190661.70639908\n",
            "  75786.86561005  20592.74868387 -60043.1625636    2040.22413041\n",
            "   2092.22598039  10881.04576169  -3181.56569541   8116.58947827\n",
            "  -6892.1151896   -3652.30147681 -13984.58816779  34370.10030633\n",
            " -63086.18999121 -17008.26667114  37111.75495784   9021.34547155\n",
            " -14320.57899618  11223.02736031 -47619.25088316 -41902.21796491\n",
            " -45450.04389946  -1562.4180912   12492.79248363]\n"
          ]
        }
      ]
    },
    {
      "cell_type": "code",
      "source": [
        "# Lets calculate some metrics such as R2 score, RSS and RMSE\n",
        "y_pred_train = ridge.predict(X_train_new)\n",
        "y_pred_test = ridge.predict(X_test_new)\n",
        "\n",
        "metric2 = []\n",
        "r2_train_lr = r2_score(y_train, y_pred_train)\n",
        "print('r2 train', r2_train_lr)\n",
        "metric2.append(r2_train_lr)\n",
        "\n",
        "r2_test_lr = r2_score(y_test, y_pred_test)\n",
        "print('r2 test', r2_test_lr)\n",
        "metric2.append(r2_test_lr)\n",
        "\n",
        "rss1_lr = np.sum(np.square(y_train - y_pred_train))\n",
        "print('rss1', rss1_lr)\n",
        "metric2.append(rss1_lr)\n",
        "\n",
        "rss2_lr = np.sum(np.square(y_test - y_pred_test))\n",
        "print('rss2', rss2_lr)\n",
        "metric2.append(rss2_lr)\n",
        "\n",
        "mse_train_lr = mean_squared_error(y_train, y_pred_train)\n",
        "print('mse train', mse_train_lr)\n",
        "metric2.append(mse_train_lr**0.5)\n",
        "\n",
        "mse_test_lr = mean_squared_error(y_test, y_pred_test)\n",
        "print('mse test', mse_test_lr)\n",
        "metric2.append(mse_test_lr**0.5)"
      ],
      "metadata": {
        "colab": {
          "base_uri": "https://localhost:8080/"
        },
        "id": "gngQPN6OmmYV",
        "outputId": "f2624f11-8cd7-4d3a-ca0b-ae6c913932fe"
      },
      "execution_count": 98,
      "outputs": [
        {
          "output_type": "stream",
          "name": "stdout",
          "text": [
            "r2 train 0.8416455681021382\n",
            "r2 test 0.761181999125731\n",
            "rss1 709399979905.1641\n",
            "rss2 492619634853.9985\n",
            "mse train 705168966.108513\n",
            "mse test 1140323228.8287\n"
          ]
        }
      ]
    },
    {
      "cell_type": "markdown",
      "source": [
        "### Lasso Regression"
      ],
      "metadata": {
        "id": "xJLIRh91nSdl"
      }
    },
    {
      "cell_type": "code",
      "source": [
        "# import lasso\n",
        "\n",
        "from sklearn.linear_model import Lasso\n",
        "\n",
        "lasso = Lasso()\n",
        "\n",
        "# cross validation\n",
        "model_cv = GridSearchCV(estimator = lasso, \n",
        "                        param_grid = params, \n",
        "                        scoring= 'neg_mean_absolute_error', \n",
        "                        cv = folds, \n",
        "                        return_train_score=True,\n",
        "                        verbose = 1)            \n",
        "\n",
        "model_cv.fit(X_train_new, y_train) "
      ],
      "metadata": {
        "colab": {
          "base_uri": "https://localhost:8080/"
        },
        "id": "tsHT0WllnNwd",
        "outputId": "7c565705-0f6a-42e5-b477-02698a0e63e7"
      },
      "execution_count": 99,
      "outputs": [
        {
          "output_type": "stream",
          "name": "stdout",
          "text": [
            "Fitting 5 folds for each of 28 candidates, totalling 140 fits\n"
          ]
        },
        {
          "output_type": "execute_result",
          "data": {
            "text/plain": [
              "GridSearchCV(cv=5, estimator=Lasso(),\n",
              "             param_grid={'alpha': [0.0001, 0.001, 0.01, 0.05, 0.1, 0.2, 0.3,\n",
              "                                   0.4, 0.5, 0.6, 0.7, 0.8, 0.9, 1.0, 2.0, 3.0,\n",
              "                                   4.0, 5.0, 6.0, 7.0, 8.0, 9.0, 10.0, 20, 50,\n",
              "                                   100, 500, 1000]},\n",
              "             return_train_score=True, scoring='neg_mean_absolute_error',\n",
              "             verbose=1)"
            ]
          },
          "metadata": {},
          "execution_count": 99
        }
      ]
    },
    {
      "cell_type": "code",
      "source": [
        "# Printing the best hyperparameter alpha\n",
        "print(model_cv.best_params_)"
      ],
      "metadata": {
        "colab": {
          "base_uri": "https://localhost:8080/"
        },
        "id": "OlPp_4uTnm_m",
        "outputId": "664c4178-f1e6-4d56-91cf-ac10c192add1"
      },
      "execution_count": 100,
      "outputs": [
        {
          "output_type": "stream",
          "name": "stdout",
          "text": [
            "{'alpha': 50}\n"
          ]
        }
      ]
    },
    {
      "cell_type": "code",
      "source": [
        "#Fitting Ridge model for alpha = 100 and printing coefficients which have been penalised\n",
        "\n",
        "alpha =10\n",
        "\n",
        "lasso = Lasso(alpha=alpha)\n",
        "        \n",
        "lasso.fit(X_train_new, y_train) "
      ],
      "metadata": {
        "colab": {
          "base_uri": "https://localhost:8080/"
        },
        "id": "GxkzXa3Jnwhx",
        "outputId": "62ec3596-049a-4a7e-fa26-8395b076ace9"
      },
      "execution_count": 101,
      "outputs": [
        {
          "output_type": "execute_result",
          "data": {
            "text/plain": [
              "Lasso(alpha=10)"
            ]
          },
          "metadata": {},
          "execution_count": 101
        }
      ]
    },
    {
      "cell_type": "code",
      "source": [
        "lasso.coef_"
      ],
      "metadata": {
        "colab": {
          "base_uri": "https://localhost:8080/"
        },
        "id": "OcsE8VpCn1tT",
        "outputId": "6c7071e5-186f-46ef-e6f8-9ce6bb9b1325"
      },
      "execution_count": 102,
      "outputs": [
        {
          "output_type": "execute_result",
          "data": {
            "text/plain": [
              "array([145981.18780575,  55500.5704194 , -54085.56543498, 191332.30006198,\n",
              "        76061.20490789,  19211.18414023, -57184.09083943,    292.89277456,\n",
              "         1894.45978875,   8943.70500951,  -4306.25357653,   6445.31465752,\n",
              "        -8658.84432895,  -2596.42236072, -12892.58467094,  33808.2768639 ,\n",
              "       -53587.00464651,  -7380.28534418,  27136.82513607,   8511.52233776,\n",
              "       -13353.85397851,   7394.71414621, -46973.26805112, -41650.81166782,\n",
              "       -45402.02197227,     -0.        ,  10015.11094472])"
            ]
          },
          "metadata": {},
          "execution_count": 102
        }
      ]
    },
    {
      "cell_type": "code",
      "source": [
        "# Lets calculate some metrics such as R2 score, RSS and RMSE\n",
        "\n",
        "y_pred_train = lasso.predict(X_train_new)\n",
        "y_pred_test = lasso.predict(X_test_new)\n",
        "\n",
        "metric3 = []\n",
        "r2_train_lr = r2_score(y_train, y_pred_train)\n",
        "print('r2 train', r2_train_lr)\n",
        "metric3.append(r2_train_lr)\n",
        "\n",
        "r2_test_lr = r2_score(y_test, y_pred_test)\n",
        "print('r2 test', r2_test_lr)\n",
        "metric3.append(r2_test_lr)\n",
        "\n",
        "rss1_lr = np.sum(np.square(y_train - y_pred_train))\n",
        "print('rss1', rss1_lr)\n",
        "metric3.append(rss1_lr)\n",
        "\n",
        "rss2_lr = np.sum(np.square(y_test - y_pred_test))\n",
        "print('rss2', rss2_lr)\n",
        "metric3.append(rss2_lr)\n",
        "\n",
        "mse_train_lr = mean_squared_error(y_train, y_pred_train)\n",
        "print('mse train', mse_train_lr)\n",
        "metric3.append(mse_train_lr**0.5)\n",
        "\n",
        "mse_test_lr = mean_squared_error(y_test, y_pred_test)\n",
        "print('mse test', mse_test_lr)\n",
        "metric3.append(mse_test_lr**0.5)"
      ],
      "metadata": {
        "colab": {
          "base_uri": "https://localhost:8080/"
        },
        "id": "mNy5SWpsn4pE",
        "outputId": "bba650f6-6975-4a0e-886b-7be126058b92"
      },
      "execution_count": 103,
      "outputs": [
        {
          "output_type": "stream",
          "name": "stdout",
          "text": [
            "r2 train 0.8415360142684979\n",
            "r2 test 0.7621619036585376\n",
            "rss1 709890761795.2037\n",
            "rss2 490598345791.2988\n",
            "mse train 705656820.8699838\n",
            "mse test 1135644318.96134\n"
          ]
        }
      ]
    },
    {
      "cell_type": "code",
      "source": [
        "# Creating a table which contain all the metrics\n",
        "\n",
        "lr_table = {'Metric': ['R2 Score (Train)','R2 Score (Test)','RSS (Train)','RSS (Test)',\n",
        "                       'MSE (Train)','MSE (Test)'], \n",
        "        'Linear Regression': metric\n",
        "        }\n",
        "\n",
        "lr_metric = pd.DataFrame(lr_table ,columns = ['Metric', 'Linear Regression'] )\n",
        "\n",
        "rg_metric = pd.Series(metric2, name = 'Ridge Regression')\n",
        "ls_metric = pd.Series(metric3, name = 'Lasso Regression')\n",
        "\n",
        "final_metric = pd.concat([lr_metric, rg_metric, ls_metric], axis = 1)\n",
        "\n",
        "final_metric"
      ],
      "metadata": {
        "colab": {
          "base_uri": "https://localhost:8080/",
          "height": 238
        },
        "id": "slbKOX_JoI0z",
        "outputId": "62517f52-92ce-4e9c-8bae-9c1d635f444d"
      },
      "execution_count": 104,
      "outputs": [
        {
          "output_type": "execute_result",
          "data": {
            "text/html": [
              "\n",
              "  <div id=\"df-3960c72d-353b-4cde-a6c8-1709482243b5\">\n",
              "    <div class=\"colab-df-container\">\n",
              "      <div>\n",
              "<style scoped>\n",
              "    .dataframe tbody tr th:only-of-type {\n",
              "        vertical-align: middle;\n",
              "    }\n",
              "\n",
              "    .dataframe tbody tr th {\n",
              "        vertical-align: top;\n",
              "    }\n",
              "\n",
              "    .dataframe thead th {\n",
              "        text-align: right;\n",
              "    }\n",
              "</style>\n",
              "<table border=\"1\" class=\"dataframe\">\n",
              "  <thead>\n",
              "    <tr style=\"text-align: right;\">\n",
              "      <th></th>\n",
              "      <th>Metric</th>\n",
              "      <th>Linear Regression</th>\n",
              "      <th>Ridge Regression</th>\n",
              "      <th>Lasso Regression</th>\n",
              "    </tr>\n",
              "  </thead>\n",
              "  <tbody>\n",
              "    <tr>\n",
              "      <th>0</th>\n",
              "      <td>R2 Score (Train)</td>\n",
              "      <td>8.416463e-01</td>\n",
              "      <td>8.416456e-01</td>\n",
              "      <td>8.415360e-01</td>\n",
              "    </tr>\n",
              "    <tr>\n",
              "      <th>1</th>\n",
              "      <td>R2 Score (Test)</td>\n",
              "      <td>7.610060e-01</td>\n",
              "      <td>7.611820e-01</td>\n",
              "      <td>7.621619e-01</td>\n",
              "    </tr>\n",
              "    <tr>\n",
              "      <th>2</th>\n",
              "      <td>RSS (Train)</td>\n",
              "      <td>7.093965e+11</td>\n",
              "      <td>7.094000e+11</td>\n",
              "      <td>7.098908e+11</td>\n",
              "    </tr>\n",
              "    <tr>\n",
              "      <th>3</th>\n",
              "      <td>RSS (Test)</td>\n",
              "      <td>4.929828e+11</td>\n",
              "      <td>4.926196e+11</td>\n",
              "      <td>4.905983e+11</td>\n",
              "    </tr>\n",
              "    <tr>\n",
              "      <th>4</th>\n",
              "      <td>MSE (Train)</td>\n",
              "      <td>2.655495e+04</td>\n",
              "      <td>2.655502e+04</td>\n",
              "      <td>2.656420e+04</td>\n",
              "    </tr>\n",
              "    <tr>\n",
              "      <th>5</th>\n",
              "      <td>MSE (Test)</td>\n",
              "      <td>3.378112e+04</td>\n",
              "      <td>3.376867e+04</td>\n",
              "      <td>3.369932e+04</td>\n",
              "    </tr>\n",
              "  </tbody>\n",
              "</table>\n",
              "</div>\n",
              "      <button class=\"colab-df-convert\" onclick=\"convertToInteractive('df-3960c72d-353b-4cde-a6c8-1709482243b5')\"\n",
              "              title=\"Convert this dataframe to an interactive table.\"\n",
              "              style=\"display:none;\">\n",
              "        \n",
              "  <svg xmlns=\"http://www.w3.org/2000/svg\" height=\"24px\"viewBox=\"0 0 24 24\"\n",
              "       width=\"24px\">\n",
              "    <path d=\"M0 0h24v24H0V0z\" fill=\"none\"/>\n",
              "    <path d=\"M18.56 5.44l.94 2.06.94-2.06 2.06-.94-2.06-.94-.94-2.06-.94 2.06-2.06.94zm-11 1L8.5 8.5l.94-2.06 2.06-.94-2.06-.94L8.5 2.5l-.94 2.06-2.06.94zm10 10l.94 2.06.94-2.06 2.06-.94-2.06-.94-.94-2.06-.94 2.06-2.06.94z\"/><path d=\"M17.41 7.96l-1.37-1.37c-.4-.4-.92-.59-1.43-.59-.52 0-1.04.2-1.43.59L10.3 9.45l-7.72 7.72c-.78.78-.78 2.05 0 2.83L4 21.41c.39.39.9.59 1.41.59.51 0 1.02-.2 1.41-.59l7.78-7.78 2.81-2.81c.8-.78.8-2.07 0-2.86zM5.41 20L4 18.59l7.72-7.72 1.47 1.35L5.41 20z\"/>\n",
              "  </svg>\n",
              "      </button>\n",
              "      \n",
              "  <style>\n",
              "    .colab-df-container {\n",
              "      display:flex;\n",
              "      flex-wrap:wrap;\n",
              "      gap: 12px;\n",
              "    }\n",
              "\n",
              "    .colab-df-convert {\n",
              "      background-color: #E8F0FE;\n",
              "      border: none;\n",
              "      border-radius: 50%;\n",
              "      cursor: pointer;\n",
              "      display: none;\n",
              "      fill: #1967D2;\n",
              "      height: 32px;\n",
              "      padding: 0 0 0 0;\n",
              "      width: 32px;\n",
              "    }\n",
              "\n",
              "    .colab-df-convert:hover {\n",
              "      background-color: #E2EBFA;\n",
              "      box-shadow: 0px 1px 2px rgba(60, 64, 67, 0.3), 0px 1px 3px 1px rgba(60, 64, 67, 0.15);\n",
              "      fill: #174EA6;\n",
              "    }\n",
              "\n",
              "    [theme=dark] .colab-df-convert {\n",
              "      background-color: #3B4455;\n",
              "      fill: #D2E3FC;\n",
              "    }\n",
              "\n",
              "    [theme=dark] .colab-df-convert:hover {\n",
              "      background-color: #434B5C;\n",
              "      box-shadow: 0px 1px 3px 1px rgba(0, 0, 0, 0.15);\n",
              "      filter: drop-shadow(0px 1px 2px rgba(0, 0, 0, 0.3));\n",
              "      fill: #FFFFFF;\n",
              "    }\n",
              "  </style>\n",
              "\n",
              "      <script>\n",
              "        const buttonEl =\n",
              "          document.querySelector('#df-3960c72d-353b-4cde-a6c8-1709482243b5 button.colab-df-convert');\n",
              "        buttonEl.style.display =\n",
              "          google.colab.kernel.accessAllowed ? 'block' : 'none';\n",
              "\n",
              "        async function convertToInteractive(key) {\n",
              "          const element = document.querySelector('#df-3960c72d-353b-4cde-a6c8-1709482243b5');\n",
              "          const dataTable =\n",
              "            await google.colab.kernel.invokeFunction('convertToInteractive',\n",
              "                                                     [key], {});\n",
              "          if (!dataTable) return;\n",
              "\n",
              "          const docLinkHtml = 'Like what you see? Visit the ' +\n",
              "            '<a target=\"_blank\" href=https://colab.research.google.com/notebooks/data_table.ipynb>data table notebook</a>'\n",
              "            + ' to learn more about interactive tables.';\n",
              "          element.innerHTML = '';\n",
              "          dataTable['output_type'] = 'display_data';\n",
              "          await google.colab.output.renderOutput(dataTable, element);\n",
              "          const docLink = document.createElement('div');\n",
              "          docLink.innerHTML = docLinkHtml;\n",
              "          element.appendChild(docLink);\n",
              "        }\n",
              "      </script>\n",
              "    </div>\n",
              "  </div>\n",
              "  "
            ],
            "text/plain": [
              "             Metric  Linear Regression  Ridge Regression  Lasso Regression\n",
              "0  R2 Score (Train)       8.416463e-01      8.416456e-01      8.415360e-01\n",
              "1   R2 Score (Test)       7.610060e-01      7.611820e-01      7.621619e-01\n",
              "2       RSS (Train)       7.093965e+11      7.094000e+11      7.098908e+11\n",
              "3        RSS (Test)       4.929828e+11      4.926196e+11      4.905983e+11\n",
              "4       MSE (Train)       2.655495e+04      2.655502e+04      2.656420e+04\n",
              "5        MSE (Test)       3.378112e+04      3.376867e+04      3.369932e+04"
            ]
          },
          "metadata": {},
          "execution_count": 104
        }
      ]
    },
    {
      "cell_type": "markdown",
      "source": [
        "### Conclusion\n",
        "\n",
        "1. The lasso regression has performed slightly better than other types with the following observations: -\n",
        "\n",
        "    >a. The R2 score for test is better for lasso.\n",
        "\n",
        "    >b. The RSS score for test is better for lasso.\n",
        "\n",
        "    >c. The MSE test score is better for lasso."
      ],
      "metadata": {
        "id": "riYfYsqlrqOp"
      }
    },
    {
      "cell_type": "markdown",
      "source": [
        "### Show changes in coefficient"
      ],
      "metadata": {
        "id": "izq8DyV5obLr"
      }
    },
    {
      "cell_type": "code",
      "source": [
        "betas = pd.DataFrame(index=X_train_new.columns)"
      ],
      "metadata": {
        "id": "_cMqXPOPoUHf"
      },
      "execution_count": 105,
      "outputs": []
    },
    {
      "cell_type": "code",
      "source": [
        "betas['Linear'] = lm.coef_\n",
        "betas['Ridge'] = ridge.coef_\n",
        "betas['Lasso'] = lasso.coef_"
      ],
      "metadata": {
        "id": "ZUDffYXwogjk"
      },
      "execution_count": 106,
      "outputs": []
    },
    {
      "cell_type": "code",
      "source": [
        "pd.set_option('display.max_rows', None)\n",
        "betas"
      ],
      "metadata": {
        "colab": {
          "base_uri": "https://localhost:8080/",
          "height": 896
        },
        "id": "dRevJA2uokKN",
        "outputId": "ef0ab9bd-183e-4efd-94f5-3d53f7968c79"
      },
      "execution_count": 107,
      "outputs": [
        {
          "output_type": "execute_result",
          "data": {
            "text/html": [
              "\n",
              "  <div id=\"df-e7161dd8-a3ec-40f1-bf30-32a3df172090\">\n",
              "    <div class=\"colab-df-container\">\n",
              "      <div>\n",
              "<style scoped>\n",
              "    .dataframe tbody tr th:only-of-type {\n",
              "        vertical-align: middle;\n",
              "    }\n",
              "\n",
              "    .dataframe tbody tr th {\n",
              "        vertical-align: top;\n",
              "    }\n",
              "\n",
              "    .dataframe thead th {\n",
              "        text-align: right;\n",
              "    }\n",
              "</style>\n",
              "<table border=\"1\" class=\"dataframe\">\n",
              "  <thead>\n",
              "    <tr style=\"text-align: right;\">\n",
              "      <th></th>\n",
              "      <th>Linear</th>\n",
              "      <th>Ridge</th>\n",
              "      <th>Lasso</th>\n",
              "    </tr>\n",
              "  </thead>\n",
              "  <tbody>\n",
              "    <tr>\n",
              "      <th>OverallQual</th>\n",
              "      <td>144860.128623</td>\n",
              "      <td>144728.075726</td>\n",
              "      <td>145981.187806</td>\n",
              "    </tr>\n",
              "    <tr>\n",
              "      <th>OverallCond</th>\n",
              "      <td>56516.331633</td>\n",
              "      <td>56500.007253</td>\n",
              "      <td>55500.570419</td>\n",
              "    </tr>\n",
              "    <tr>\n",
              "      <th>Age</th>\n",
              "      <td>-54999.099056</td>\n",
              "      <td>-54979.225341</td>\n",
              "      <td>-54085.565435</td>\n",
              "    </tr>\n",
              "    <tr>\n",
              "      <th>1stFlrSF</th>\n",
              "      <td>191978.864904</td>\n",
              "      <td>190661.706399</td>\n",
              "      <td>191332.300062</td>\n",
              "    </tr>\n",
              "    <tr>\n",
              "      <th>2ndFlrSF</th>\n",
              "      <td>76527.994483</td>\n",
              "      <td>75786.865610</td>\n",
              "      <td>76061.204908</td>\n",
              "    </tr>\n",
              "    <tr>\n",
              "      <th>GrLivArea</th>\n",
              "      <td>19019.127949</td>\n",
              "      <td>20592.748684</td>\n",
              "      <td>19211.184140</td>\n",
              "    </tr>\n",
              "    <tr>\n",
              "      <th>BedroomAbvGr</th>\n",
              "      <td>-60129.356309</td>\n",
              "      <td>-60043.162564</td>\n",
              "      <td>-57184.090839</td>\n",
              "    </tr>\n",
              "    <tr>\n",
              "      <th>TotRmsAbvGrd</th>\n",
              "      <td>1954.336214</td>\n",
              "      <td>2040.224130</td>\n",
              "      <td>292.892775</td>\n",
              "    </tr>\n",
              "    <tr>\n",
              "      <th>PriceperSft</th>\n",
              "      <td>2105.994632</td>\n",
              "      <td>2092.225980</td>\n",
              "      <td>1894.459789</td>\n",
              "    </tr>\n",
              "    <tr>\n",
              "      <th>MSZoning_FV</th>\n",
              "      <td>10880.577386</td>\n",
              "      <td>10881.045762</td>\n",
              "      <td>8943.705010</td>\n",
              "    </tr>\n",
              "    <tr>\n",
              "      <th>MSZoning_RH</th>\n",
              "      <td>-3207.598916</td>\n",
              "      <td>-3181.565695</td>\n",
              "      <td>-4306.253577</td>\n",
              "    </tr>\n",
              "    <tr>\n",
              "      <th>MSZoning_RL</th>\n",
              "      <td>8083.547094</td>\n",
              "      <td>8116.589478</td>\n",
              "      <td>6445.314658</td>\n",
              "    </tr>\n",
              "    <tr>\n",
              "      <th>MSZoning_RM</th>\n",
              "      <td>-6905.383185</td>\n",
              "      <td>-6892.115190</td>\n",
              "      <td>-8658.844329</td>\n",
              "    </tr>\n",
              "    <tr>\n",
              "      <th>Neighborhood_BrDale</th>\n",
              "      <td>-3535.995454</td>\n",
              "      <td>-3652.301477</td>\n",
              "      <td>-2596.422361</td>\n",
              "    </tr>\n",
              "    <tr>\n",
              "      <th>Neighborhood_MeadowV</th>\n",
              "      <td>-13942.226542</td>\n",
              "      <td>-13984.588168</td>\n",
              "      <td>-12892.584671</td>\n",
              "    </tr>\n",
              "    <tr>\n",
              "      <th>Neighborhood_NoRidge</th>\n",
              "      <td>34296.444810</td>\n",
              "      <td>34370.100306</td>\n",
              "      <td>33808.276864</td>\n",
              "    </tr>\n",
              "    <tr>\n",
              "      <th>Exterior1st_AsphShn</th>\n",
              "      <td>-63674.992824</td>\n",
              "      <td>-63086.189991</td>\n",
              "      <td>-53587.004647</td>\n",
              "    </tr>\n",
              "    <tr>\n",
              "      <th>Exterior1st_CemntBd</th>\n",
              "      <td>-17299.521669</td>\n",
              "      <td>-17008.266671</td>\n",
              "      <td>-7380.285344</td>\n",
              "    </tr>\n",
              "    <tr>\n",
              "      <th>Exterior2nd_CmentBd</th>\n",
              "      <td>37388.351415</td>\n",
              "      <td>37111.754958</td>\n",
              "      <td>27136.825136</td>\n",
              "    </tr>\n",
              "    <tr>\n",
              "      <th>ExterCond_Fa</th>\n",
              "      <td>9079.803189</td>\n",
              "      <td>9021.345472</td>\n",
              "      <td>8511.522338</td>\n",
              "    </tr>\n",
              "    <tr>\n",
              "      <th>Foundation_Slab</th>\n",
              "      <td>-14322.989419</td>\n",
              "      <td>-14320.578996</td>\n",
              "      <td>-13353.853979</td>\n",
              "    </tr>\n",
              "    <tr>\n",
              "      <th>Foundation_Stone</th>\n",
              "      <td>11192.298711</td>\n",
              "      <td>11223.027360</td>\n",
              "      <td>7394.714146</td>\n",
              "    </tr>\n",
              "    <tr>\n",
              "      <th>BsmtQual_Fa</th>\n",
              "      <td>-47610.562424</td>\n",
              "      <td>-47619.250883</td>\n",
              "      <td>-46973.268051</td>\n",
              "    </tr>\n",
              "    <tr>\n",
              "      <th>BsmtQual_Gd</th>\n",
              "      <td>-41893.162429</td>\n",
              "      <td>-41902.217965</td>\n",
              "      <td>-41650.811668</td>\n",
              "    </tr>\n",
              "    <tr>\n",
              "      <th>BsmtQual_TA</th>\n",
              "      <td>-45421.733589</td>\n",
              "      <td>-45450.043899</td>\n",
              "      <td>-45402.021972</td>\n",
              "    </tr>\n",
              "    <tr>\n",
              "      <th>HeatingQC_Po</th>\n",
              "      <td>-1636.920060</td>\n",
              "      <td>-1562.418091</td>\n",
              "      <td>-0.000000</td>\n",
              "    </tr>\n",
              "    <tr>\n",
              "      <th>SaleType_ConLD</th>\n",
              "      <td>12548.336979</td>\n",
              "      <td>12492.792484</td>\n",
              "      <td>10015.110945</td>\n",
              "    </tr>\n",
              "  </tbody>\n",
              "</table>\n",
              "</div>\n",
              "      <button class=\"colab-df-convert\" onclick=\"convertToInteractive('df-e7161dd8-a3ec-40f1-bf30-32a3df172090')\"\n",
              "              title=\"Convert this dataframe to an interactive table.\"\n",
              "              style=\"display:none;\">\n",
              "        \n",
              "  <svg xmlns=\"http://www.w3.org/2000/svg\" height=\"24px\"viewBox=\"0 0 24 24\"\n",
              "       width=\"24px\">\n",
              "    <path d=\"M0 0h24v24H0V0z\" fill=\"none\"/>\n",
              "    <path d=\"M18.56 5.44l.94 2.06.94-2.06 2.06-.94-2.06-.94-.94-2.06-.94 2.06-2.06.94zm-11 1L8.5 8.5l.94-2.06 2.06-.94-2.06-.94L8.5 2.5l-.94 2.06-2.06.94zm10 10l.94 2.06.94-2.06 2.06-.94-2.06-.94-.94-2.06-.94 2.06-2.06.94z\"/><path d=\"M17.41 7.96l-1.37-1.37c-.4-.4-.92-.59-1.43-.59-.52 0-1.04.2-1.43.59L10.3 9.45l-7.72 7.72c-.78.78-.78 2.05 0 2.83L4 21.41c.39.39.9.59 1.41.59.51 0 1.02-.2 1.41-.59l7.78-7.78 2.81-2.81c.8-.78.8-2.07 0-2.86zM5.41 20L4 18.59l7.72-7.72 1.47 1.35L5.41 20z\"/>\n",
              "  </svg>\n",
              "      </button>\n",
              "      \n",
              "  <style>\n",
              "    .colab-df-container {\n",
              "      display:flex;\n",
              "      flex-wrap:wrap;\n",
              "      gap: 12px;\n",
              "    }\n",
              "\n",
              "    .colab-df-convert {\n",
              "      background-color: #E8F0FE;\n",
              "      border: none;\n",
              "      border-radius: 50%;\n",
              "      cursor: pointer;\n",
              "      display: none;\n",
              "      fill: #1967D2;\n",
              "      height: 32px;\n",
              "      padding: 0 0 0 0;\n",
              "      width: 32px;\n",
              "    }\n",
              "\n",
              "    .colab-df-convert:hover {\n",
              "      background-color: #E2EBFA;\n",
              "      box-shadow: 0px 1px 2px rgba(60, 64, 67, 0.3), 0px 1px 3px 1px rgba(60, 64, 67, 0.15);\n",
              "      fill: #174EA6;\n",
              "    }\n",
              "\n",
              "    [theme=dark] .colab-df-convert {\n",
              "      background-color: #3B4455;\n",
              "      fill: #D2E3FC;\n",
              "    }\n",
              "\n",
              "    [theme=dark] .colab-df-convert:hover {\n",
              "      background-color: #434B5C;\n",
              "      box-shadow: 0px 1px 3px 1px rgba(0, 0, 0, 0.15);\n",
              "      filter: drop-shadow(0px 1px 2px rgba(0, 0, 0, 0.3));\n",
              "      fill: #FFFFFF;\n",
              "    }\n",
              "  </style>\n",
              "\n",
              "      <script>\n",
              "        const buttonEl =\n",
              "          document.querySelector('#df-e7161dd8-a3ec-40f1-bf30-32a3df172090 button.colab-df-convert');\n",
              "        buttonEl.style.display =\n",
              "          google.colab.kernel.accessAllowed ? 'block' : 'none';\n",
              "\n",
              "        async function convertToInteractive(key) {\n",
              "          const element = document.querySelector('#df-e7161dd8-a3ec-40f1-bf30-32a3df172090');\n",
              "          const dataTable =\n",
              "            await google.colab.kernel.invokeFunction('convertToInteractive',\n",
              "                                                     [key], {});\n",
              "          if (!dataTable) return;\n",
              "\n",
              "          const docLinkHtml = 'Like what you see? Visit the ' +\n",
              "            '<a target=\"_blank\" href=https://colab.research.google.com/notebooks/data_table.ipynb>data table notebook</a>'\n",
              "            + ' to learn more about interactive tables.';\n",
              "          element.innerHTML = '';\n",
              "          dataTable['output_type'] = 'display_data';\n",
              "          await google.colab.output.renderOutput(dataTable, element);\n",
              "          const docLink = document.createElement('div');\n",
              "          docLink.innerHTML = docLinkHtml;\n",
              "          element.appendChild(docLink);\n",
              "        }\n",
              "      </script>\n",
              "    </div>\n",
              "  </div>\n",
              "  "
            ],
            "text/plain": [
              "                             Linear          Ridge          Lasso\n",
              "OverallQual           144860.128623  144728.075726  145981.187806\n",
              "OverallCond            56516.331633   56500.007253   55500.570419\n",
              "Age                   -54999.099056  -54979.225341  -54085.565435\n",
              "1stFlrSF              191978.864904  190661.706399  191332.300062\n",
              "2ndFlrSF               76527.994483   75786.865610   76061.204908\n",
              "GrLivArea              19019.127949   20592.748684   19211.184140\n",
              "BedroomAbvGr          -60129.356309  -60043.162564  -57184.090839\n",
              "TotRmsAbvGrd            1954.336214    2040.224130     292.892775\n",
              "PriceperSft             2105.994632    2092.225980    1894.459789\n",
              "MSZoning_FV            10880.577386   10881.045762    8943.705010\n",
              "MSZoning_RH            -3207.598916   -3181.565695   -4306.253577\n",
              "MSZoning_RL             8083.547094    8116.589478    6445.314658\n",
              "MSZoning_RM            -6905.383185   -6892.115190   -8658.844329\n",
              "Neighborhood_BrDale    -3535.995454   -3652.301477   -2596.422361\n",
              "Neighborhood_MeadowV  -13942.226542  -13984.588168  -12892.584671\n",
              "Neighborhood_NoRidge   34296.444810   34370.100306   33808.276864\n",
              "Exterior1st_AsphShn   -63674.992824  -63086.189991  -53587.004647\n",
              "Exterior1st_CemntBd   -17299.521669  -17008.266671   -7380.285344\n",
              "Exterior2nd_CmentBd    37388.351415   37111.754958   27136.825136\n",
              "ExterCond_Fa            9079.803189    9021.345472    8511.522338\n",
              "Foundation_Slab       -14322.989419  -14320.578996  -13353.853979\n",
              "Foundation_Stone       11192.298711   11223.027360    7394.714146\n",
              "BsmtQual_Fa           -47610.562424  -47619.250883  -46973.268051\n",
              "BsmtQual_Gd           -41893.162429  -41902.217965  -41650.811668\n",
              "BsmtQual_TA           -45421.733589  -45450.043899  -45402.021972\n",
              "HeatingQC_Po           -1636.920060   -1562.418091      -0.000000\n",
              "SaleType_ConLD         12548.336979   12492.792484   10015.110945"
            ]
          },
          "metadata": {},
          "execution_count": 107
        }
      ]
    },
    {
      "cell_type": "markdown",
      "source": [
        "### Significant values"
      ],
      "metadata": {
        "id": "CMUbU-E3tDJO"
      }
    },
    {
      "cell_type": "code",
      "source": [
        "betas['Lasso'].sort_values()"
      ],
      "metadata": {
        "colab": {
          "base_uri": "https://localhost:8080/"
        },
        "id": "tF1pF1hno1ME",
        "outputId": "917d6b7c-2269-443a-8808-0c8f4e07454d"
      },
      "execution_count": 108,
      "outputs": [
        {
          "output_type": "execute_result",
          "data": {
            "text/plain": [
              "BedroomAbvGr            -57184.090839\n",
              "Age                     -54085.565435\n",
              "Exterior1st_AsphShn     -53587.004647\n",
              "BsmtQual_Fa             -46973.268051\n",
              "BsmtQual_TA             -45402.021972\n",
              "BsmtQual_Gd             -41650.811668\n",
              "Foundation_Slab         -13353.853979\n",
              "Neighborhood_MeadowV    -12892.584671\n",
              "MSZoning_RM              -8658.844329\n",
              "Exterior1st_CemntBd      -7380.285344\n",
              "MSZoning_RH              -4306.253577\n",
              "Neighborhood_BrDale      -2596.422361\n",
              "HeatingQC_Po                -0.000000\n",
              "TotRmsAbvGrd               292.892775\n",
              "PriceperSft               1894.459789\n",
              "MSZoning_RL               6445.314658\n",
              "Foundation_Stone          7394.714146\n",
              "ExterCond_Fa              8511.522338\n",
              "MSZoning_FV               8943.705010\n",
              "SaleType_ConLD           10015.110945\n",
              "GrLivArea                19211.184140\n",
              "Exterior2nd_CmentBd      27136.825136\n",
              "Neighborhood_NoRidge     33808.276864\n",
              "OverallCond              55500.570419\n",
              "2ndFlrSF                 76061.204908\n",
              "OverallQual             145981.187806\n",
              "1stFlrSF                191332.300062\n",
              "Name: Lasso, dtype: float64"
            ]
          },
          "metadata": {},
          "execution_count": 108
        }
      ]
    },
    {
      "cell_type": "code",
      "source": [
        "betas['Ridge'].sort_values()"
      ],
      "metadata": {
        "colab": {
          "base_uri": "https://localhost:8080/"
        },
        "id": "DHH9PNckptly",
        "outputId": "fb07c8fb-7d92-4bf5-9a49-245d03ca8462"
      },
      "execution_count": 109,
      "outputs": [
        {
          "output_type": "execute_result",
          "data": {
            "text/plain": [
              "Exterior1st_AsphShn     -63086.189991\n",
              "BedroomAbvGr            -60043.162564\n",
              "Age                     -54979.225341\n",
              "BsmtQual_Fa             -47619.250883\n",
              "BsmtQual_TA             -45450.043899\n",
              "BsmtQual_Gd             -41902.217965\n",
              "Exterior1st_CemntBd     -17008.266671\n",
              "Foundation_Slab         -14320.578996\n",
              "Neighborhood_MeadowV    -13984.588168\n",
              "MSZoning_RM              -6892.115190\n",
              "Neighborhood_BrDale      -3652.301477\n",
              "MSZoning_RH              -3181.565695\n",
              "HeatingQC_Po             -1562.418091\n",
              "TotRmsAbvGrd              2040.224130\n",
              "PriceperSft               2092.225980\n",
              "MSZoning_RL               8116.589478\n",
              "ExterCond_Fa              9021.345472\n",
              "MSZoning_FV              10881.045762\n",
              "Foundation_Stone         11223.027360\n",
              "SaleType_ConLD           12492.792484\n",
              "GrLivArea                20592.748684\n",
              "Neighborhood_NoRidge     34370.100306\n",
              "Exterior2nd_CmentBd      37111.754958\n",
              "OverallCond              56500.007253\n",
              "2ndFlrSF                 75786.865610\n",
              "OverallQual             144728.075726\n",
              "1stFlrSF                190661.706399\n",
              "Name: Ridge, dtype: float64"
            ]
          },
          "metadata": {},
          "execution_count": 109
        }
      ]
    },
    {
      "cell_type": "code",
      "source": [
        "betas['Linear'].sort_values()"
      ],
      "metadata": {
        "colab": {
          "base_uri": "https://localhost:8080/"
        },
        "id": "88jIRBRJp9y4",
        "outputId": "7f70ba66-5ca2-4499-a88b-f07b52861806"
      },
      "execution_count": 110,
      "outputs": [
        {
          "output_type": "execute_result",
          "data": {
            "text/plain": [
              "Exterior1st_AsphShn     -63674.992824\n",
              "BedroomAbvGr            -60129.356309\n",
              "Age                     -54999.099056\n",
              "BsmtQual_Fa             -47610.562424\n",
              "BsmtQual_TA             -45421.733589\n",
              "BsmtQual_Gd             -41893.162429\n",
              "Exterior1st_CemntBd     -17299.521669\n",
              "Foundation_Slab         -14322.989419\n",
              "Neighborhood_MeadowV    -13942.226542\n",
              "MSZoning_RM              -6905.383185\n",
              "Neighborhood_BrDale      -3535.995454\n",
              "MSZoning_RH              -3207.598916\n",
              "HeatingQC_Po             -1636.920060\n",
              "TotRmsAbvGrd              1954.336214\n",
              "PriceperSft               2105.994632\n",
              "MSZoning_RL               8083.547094\n",
              "ExterCond_Fa              9079.803189\n",
              "MSZoning_FV              10880.577386\n",
              "Foundation_Stone         11192.298711\n",
              "SaleType_ConLD           12548.336979\n",
              "GrLivArea                19019.127949\n",
              "Neighborhood_NoRidge     34296.444810\n",
              "Exterior2nd_CmentBd      37388.351415\n",
              "OverallCond              56516.331633\n",
              "2ndFlrSF                 76527.994483\n",
              "OverallQual             144860.128623\n",
              "1stFlrSF                191978.864904\n",
              "Name: Linear, dtype: float64"
            ]
          },
          "metadata": {},
          "execution_count": 110
        }
      ]
    },
    {
      "cell_type": "markdown",
      "source": [
        "## Features distinguishing decision for house purchase are\n",
        "\n",
        "The significant features for lasso regression are: -\n",
        "\n",
        "Positively influencing factors: -\n",
        "\n",
        "1. Lot area.\n",
        "2. First floor square feet area.\n",
        "\n",
        "Negatively Influencing factors: -\n",
        "1. Price per square feet.\n",
        "2. Ground Living area.\n",
        "3. Bedroom above ground.\n",
        "\n",
        "The significant features from Ridge and linear Regressions are: -\n",
        "\n",
        "Positively influencing factors: -\n",
        "\n",
        "1. Lot area.\n",
        "2. Lot frontage.\n",
        "\n",
        "Negatively influencing factors: -\n",
        "1. Length Width Ratio.\n",
        "2. Price per square feet.\n",
        "3. Ground living area.\n",
        "\n"
      ],
      "metadata": {
        "id": "rHaGzom0ssIC"
      }
    }
  ]
}